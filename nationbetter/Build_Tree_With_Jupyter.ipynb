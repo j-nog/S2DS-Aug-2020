{
 "cells": [
  {
   "cell_type": "code",
   "execution_count": 1,
   "metadata": {
    "scrolled": true
   },
   "outputs": [
    {
     "data": {
      "text/html": [
       "<style>\n",
       "body {\n",
       "    font-family: \"Comic Sans MS\", cursive, sans-serif;\n",
       "}\n",
       "</style>   \n"
      ],
      "text/plain": [
       "<IPython.core.display.HTML object>"
      ]
     },
     "metadata": {},
     "output_type": "display_data"
    }
   ],
   "source": [
    "%%html\n",
    "<style>\n",
    "body {\n",
    "    font-family: \"Comic Sans MS\", cursive, sans-serif;\n",
    "}\n",
    "</style>   "
   ]
  },
  {
   "cell_type": "markdown",
   "metadata": {},
   "source": [
    "# <font color='red'>Notebook for running</font> <font color='brown'>the script to build database instance</font>"
   ]
  },
  {
   "cell_type": "markdown",
   "metadata": {},
   "source": [
    "<font color='pink'>I highly advise running this in a venv. The --upgrade flag on the </font>\n",
    "```\n",
    "pip install ../nationbetter --upgrade\n",
    "```\n",
    "<font color='green'>is to make sure any new features added tot the package are automatically added. </font><font color='purple'> To install updates just synch the git branch and rerun the code. </font><font color='blue'> Note this also rebuilds the tree,</font><font color='yellow'> I have not yet written the functionality to get the code to check if rebuilding the tree gives the same output -> then do not build the tree.</font>"
   ]
  },
  {
   "cell_type": "code",
   "execution_count": 2,
   "metadata": {},
   "outputs": [
    {
     "name": "stdout",
     "output_type": "stream",
     "text": [
      "Requirement already satisfied: beautifulsoup4==4.9.1 in c:\\users\\hannah\\anaconda3\\envs\\tf-gpu\\lib\\site-packages (from -r requirements.txt (line 1)) (4.9.1)Note: you may need to restart the kernel to use updated packages.\n",
      "\n",
      "Requirement already satisfied: bs4==0.0.1 in c:\\users\\hannah\\anaconda3\\envs\\tf-gpu\\lib\\site-packages (from -r requirements.txt (line 2)) (0.0.1)\n",
      "Requirement already satisfied: certifi==2020.6.20 in c:\\users\\hannah\\anaconda3\\envs\\tf-gpu\\lib\\site-packages (from -r requirements.txt (line 3)) (2020.6.20)\n",
      "Requirement already satisfied: cffi==1.14.2 in c:\\users\\hannah\\anaconda3\\envs\\tf-gpu\\lib\\site-packages (from -r requirements.txt (line 4)) (1.14.2)\n",
      "Requirement already satisfied: chardet==3.0.4 in c:\\users\\hannah\\anaconda3\\envs\\tf-gpu\\lib\\site-packages (from -r requirements.txt (line 5)) (3.0.4)\n",
      "Requirement already satisfied: cryptography==3.0 in c:\\users\\hannah\\anaconda3\\envs\\tf-gpu\\lib\\site-packages (from -r requirements.txt (line 6)) (3.0)\n",
      "Requirement already satisfied: idna==2.10 in c:\\users\\hannah\\anaconda3\\envs\\tf-gpu\\lib\\site-packages (from -r requirements.txt (line 7)) (2.10)\n",
      "Requirement already satisfied: lxml==4.5.2 in c:\\users\\hannah\\anaconda3\\envs\\tf-gpu\\lib\\site-packages (from -r requirements.txt (line 8)) (4.5.2)\n",
      "Requirement already satisfied: numpy==1.19.1 in c:\\users\\hannah\\anaconda3\\envs\\tf-gpu\\lib\\site-packages (from -r requirements.txt (line 9)) (1.19.1)\n",
      "Requirement already satisfied: pandas==1.1.1 in c:\\users\\hannah\\anaconda3\\envs\\tf-gpu\\lib\\site-packages (from -r requirements.txt (line 10)) (1.1.1)\n",
      "Requirement already satisfied: pdfminer.six==20200726 in c:\\users\\hannah\\anaconda3\\envs\\tf-gpu\\lib\\site-packages (from -r requirements.txt (line 11)) (20200726)\n",
      "Requirement already satisfied: pycparser==2.20 in c:\\users\\hannah\\anaconda3\\envs\\tf-gpu\\lib\\site-packages (from -r requirements.txt (line 12)) (2.20)\n",
      "Requirement already satisfied: python-dateutil==2.8.1 in c:\\users\\hannah\\anaconda3\\envs\\tf-gpu\\lib\\site-packages (from -r requirements.txt (line 13)) (2.8.1)\n",
      "Requirement already satisfied: pytz==2020.1 in c:\\users\\hannah\\anaconda3\\envs\\tf-gpu\\lib\\site-packages (from -r requirements.txt (line 14)) (2020.1)\n",
      "Requirement already satisfied: requests==2.24.0 in c:\\users\\hannah\\anaconda3\\envs\\tf-gpu\\lib\\site-packages (from -r requirements.txt (line 15)) (2.24.0)\n",
      "Requirement already satisfied: six==1.15.0 in c:\\users\\hannah\\anaconda3\\envs\\tf-gpu\\lib\\site-packages (from -r requirements.txt (line 16)) (1.15.0)\n",
      "Requirement already satisfied: sortedcontainers==2.2.2 in c:\\users\\hannah\\anaconda3\\envs\\tf-gpu\\lib\\site-packages (from -r requirements.txt (line 17)) (2.2.2)\n",
      "Requirement already satisfied: soupsieve==2.0.1 in c:\\users\\hannah\\anaconda3\\envs\\tf-gpu\\lib\\site-packages (from -r requirements.txt (line 18)) (2.0.1)\n",
      "Requirement already satisfied: urllib3==1.25.10 in c:\\users\\hannah\\appdata\\roaming\\python\\python37\\site-packages (from -r requirements.txt (line 19)) (1.25.10)\n"
     ]
    }
   ],
   "source": [
    "pip install -r requirements.txt"
   ]
  },
  {
   "cell_type": "code",
   "execution_count": null,
   "metadata": {},
   "outputs": [],
   "source": [
    "pip install ../nationbetter --upgrade"
   ]
  },
  {
   "cell_type": "code",
   "execution_count": 3,
   "metadata": {},
   "outputs": [
    {
     "name": "stdout",
     "output_type": "stream",
     "text": [
      "C:\\Users\\hannah\\Documents\\GitHub\\nationbetter_data\n",
      "Path for storing raw_pdf, created in, C:\\Users\\hannah\\Documents\\GitHub\\nationbetter_data.\n",
      "Pdf files up to date and downloaded to C:\\Users\\hannah\\Documents\\GitHub\\nationbetter_data\\raw_pdf.\n",
      "Path for storing raw_pdf_dicts, created in, C:\\Users\\hannah\\Documents\\GitHub\\nationbetter_data.\n",
      "Extracting contents of C:\\Users\\hannah\\Documents\\GitHub\\nationbetter_data\\raw_pdf\\2020-04-03_Sponsor-guidance_Appendix-D_04-2020_v1.0.pdf, to dict this might take a minute\n",
      "Extracting contents of C:\\Users\\hannah\\Documents\\GitHub\\nationbetter_data\\raw_pdf\\2020-07-13_Tier_2_Policy_Guidance.pdf, to dict this might take a minute\n",
      "Extracting contents of C:\\Users\\hannah\\Documents\\GitHub\\nationbetter_data\\raw_pdf\\2020-07-16_Tier-2-5-sponsor-guidance_Jul-2020_v1.0.pdf, to dict this might take a minute\n",
      "Extracting contents of C:\\Users\\hannah\\Documents\\GitHub\\nationbetter_data\\raw_pdf\\calculating-continuous-leave-v21.0-gov-uk.pdf, to dict this might take a minute\n",
      "Extracting contents of C:\\Users\\hannah\\Documents\\GitHub\\nationbetter_data\\raw_pdf\\english-language-v17.0ext.pdf, to dict this might take a minute\n",
      "Extracting contents of C:\\Users\\hannah\\Documents\\GitHub\\nationbetter_data\\raw_pdf\\Final_Tier_5_Temporary_Worker_Guidance_05-04-19.pdf, to dict this might take a minute\n",
      "Extracting contents of C:\\Users\\hannah\\Documents\\GitHub\\nationbetter_data\\raw_pdf\\good-character-guidance.pdf, to dict this might take a minute\n",
      "Extracting contents of C:\\Users\\hannah\\Documents\\GitHub\\nationbetter_data\\raw_pdf\\Guide-AN_-_July_20.pdf, to dict this might take a minute\n",
      "Extracting contents of C:\\Users\\hannah\\Documents\\GitHub\\nationbetter_data\\raw_pdf\\naturalisation-as-a-british-citizen-by-discretion-v5.0-gov-uk.pdf, to dict this might take a minute\n",
      "Extracting contents of C:\\Users\\hannah\\Documents\\GitHub\\nationbetter_data\\raw_pdf\\sponsorguideappBfrom060412.pdf, to dict this might take a minute\n",
      "Import finished at:\n",
      "\n",
      " -----------72.89728951454163------------\n",
      "\n",
      "Path for storing raw_html_dicts, created in, C:\\Users\\hannah\\Documents\\GitHub\\nationbetter_data.\n",
      "Extracting contents of https://www.gov.uk/guidance/immigration-rules/immigration-rules-index, to dict.\n",
      "Extracting contents of https://www.gov.uk/guidance/immigration-rules/immigration-rules-introduction, to dict.\n",
      "Extracting contents of https://www.gov.uk/guidance/immigration-rules/immigration-rules-part-1-leave-to-enter-or-stay-in-the-uk, to dict.\n",
      "Extracting contents of https://www.gov.uk/guidance/immigration-rules/immigration-rules-part-2-transitional-provisions, to dict.\n",
      "Extracting contents of https://www.gov.uk/guidance/immigration-rules/immigration-rules-part-3-students, to dict.\n",
      "Extracting contents of https://www.gov.uk/guidance/immigration-rules/immigration-rules-part-4-work-experience, to dict.\n",
      "Extracting contents of https://www.gov.uk/guidance/immigration-rules/immigration-rules-part-5-working-in-the-uk, to dict.\n",
      "Extracting contents of https://www.gov.uk/guidance/immigration-rules/immigration-rules-part-6-self-employment-and-business-people, to dict.\n",
      "Extracting contents of https://www.gov.uk/guidance/immigration-rules/immigration-rules-part-6a-the-points-based-system, to dict.\n",
      "Extracting contents of https://www.gov.uk/guidance/immigration-rules/immigration-rules-part-7-other-categories, to dict.\n",
      "Extracting contents of https://www.gov.uk/guidance/immigration-rules/immigration-rules-part-8-family-members, to dict.\n",
      "Extracting contents of https://www.gov.uk/guidance/immigration-rules/immigration-rules-part-9-grounds-for-refusal, to dict.\n",
      "Extracting contents of https://www.gov.uk/guidance/immigration-rules/immigration-rules-part-10-registering-with-the-police, to dict.\n",
      "Extracting contents of https://www.gov.uk/guidance/immigration-rules/immigration-rules-part-11-asylum, to dict.\n",
      "Extracting contents of https://www.gov.uk/guidance/immigration-rules/immigration-rules-part-11a-temporary-protection, to dict.\n",
      "Extracting contents of https://www.gov.uk/guidance/immigration-rules/immigration-rules-part-11b, to dict.\n",
      "Extracting contents of https://www.gov.uk/guidance/immigration-rules/immigration-rules-part-12-procedure-and-rights-of-appeal, to dict.\n",
      "Extracting contents of https://www.gov.uk/guidance/immigration-rules/immigration-rules-part-13-deportation, to dict.\n",
      "Extracting contents of https://www.gov.uk/guidance/immigration-rules/immigration-rules-part-14-stateless-persons, to dict.\n",
      "Extracting contents of https://www.gov.uk/guidance/immigration-rules/immigration-rules-part-15-condition-to-hold-an-atas-clearance-certificate, to dict.\n",
      "Extracting contents of https://www.gov.uk/guidance/immigration-rules/immigration-rules-appendix-2-police-registration, to dict.\n",
      "Extracting contents of https://www.gov.uk/guidance/immigration-rules/immigration-rules-appendix-6-academic-subjects-that-need-a-certificate, to dict.\n",
      "Extracting contents of https://www.gov.uk/guidance/immigration-rules/immigration-rules-appendix-7-overseas-workers-in-private-households, to dict.\n",
      "Extracting contents of https://www.gov.uk/guidance/immigration-rules/immigration-rules-appendix-a-attributes, to dict.\n",
      "Extracting contents of https://www.gov.uk/guidance/immigration-rules/immigration-rules-appendix-ar-administrative-review, to dict.\n",
      "Extracting contents of https://www.gov.uk/guidance/immigration-rules/immigration-rules-appendix-ar-eu, to dict.\n",
      "Extracting contents of https://www.gov.uk/guidance/immigration-rules/immigration-rules-appendix-armed-forces, to dict.\n",
      "Extracting contents of https://www.gov.uk/guidance/immigration-rules/immigration-rules-appendix-b-english-language, to dict.\n",
      "Extracting contents of https://www.gov.uk/guidance/immigration-rules/immigration-rules-appendix-c-maintenance-funds, to dict.\n",
      "Extracting contents of https://www.gov.uk/guidance/immigration-rules/immigration-rules-appendix-d-highly-skilled-migrants, to dict.\n",
      "Extracting contents of https://www.gov.uk/guidance/immigration-rules/immigration-rules-appendix-e-maintenance-funds-for-the-family-of-relevant-points-based-system-migrants, to dict.\n",
      "Extracting contents of https://www.gov.uk/guidance/immigration-rules/immigration-rules-appendix-ecaa, to dict.\n",
      "Extracting contents of https://www.gov.uk/guidance/immigration-rules/immigration-rules-appendix-eu, to dict.\n",
      "Extracting contents of https://www.gov.uk/guidance/immigration-rules/appendix-eu-family-permit, to dict.\n",
      "Extracting contents of https://www.gov.uk/guidance/immigration-rules/immigration-rules-appendix-f-archived-immigration-rules, to dict.\n",
      "Extracting contents of https://www.gov.uk/guidance/immigration-rules/immigration-rules-appendix-fm-family-members, to dict.\n",
      "Extracting contents of https://www.gov.uk/guidance/immigration-rules/immigration-rules-appendix-fm-se-family-members-specified-evidence, to dict.\n",
      "Extracting contents of https://www.gov.uk/guidance/immigration-rules/immigration-rules-appendix-g-youth-mobility-scheme, to dict.\n",
      "Extracting contents of https://www.gov.uk/guidance/immigration-rules/immigration-rules-appendix-h-tier-4-documentary-requirements, to dict.\n",
      "Extracting contents of https://www.gov.uk/guidance/immigration-rules/immigration-rules-appendix-j-codes-of-practice-for-skilled-work, to dict.\n",
      "Extracting contents of https://www.gov.uk/guidance/immigration-rules/immigration-rules-appendix-k-shortage-occupation-list, to dict.\n",
      "Extracting contents of https://www.gov.uk/guidance/immigration-rules/immigration-rules-appendix-koll, to dict.\n",
      "Extracting contents of https://www.gov.uk/guidance/immigration-rules/immigration-rules-appendix-m-sports-governing-bodies, to dict.\n",
      "Extracting contents of https://www.gov.uk/guidance/immigration-rules/immigration-rules-appendix-n-authorised-exchange-schemes, to dict.\n",
      "Extracting contents of https://www.gov.uk/guidance/immigration-rules/immigration-rules-appendix-o-approved-english-language-tests, to dict.\n",
      "Extracting contents of https://www.gov.uk/guidance/immigration-rules/immigration-rules-appendix-p-lists-of-financial-institutions, to dict.\n",
      "Extracting contents of https://www.gov.uk/guidance/immigration-rules/immigration-rules-appendix-sn-service-of-notices, to dict.\n",
      "Extracting contents of https://www.gov.uk/guidance/immigration-rules/immigration-rules-appendix-t-tuberculosis-screening, to dict.\n"
     ]
    },
    {
     "name": "stdout",
     "output_type": "stream",
     "text": [
      "Extracting contents of https://www.gov.uk/guidance/immigration-rules/immigration-rules-appendix-u-seasonal-worker-scheme, to dict.\n",
      "Extracting contents of https://www.gov.uk/guidance/immigration-rules/immigration-rules-appendix-v-visitor-rules, to dict.\n",
      "Extracting contents of https://www.gov.uk/guidance/immigration-rules/immigration-rules-appendix-w-immigration-rules-for-workers, to dict.\n",
      "Path for storing formatted_pdf_dfs, created in, C:\\Users\\hannah\\Documents\\GitHub\\nationbetter_data.\n",
      "Extracting contents of C:\\Users\\hannah\\Documents\\GitHub\\nationbetter_data\\raw_pdf_dicts\\2020-07-13_Tier_2_Policy_Guidance.pkl, to DataFrame\n",
      "Extracting contents of C:\\Users\\hannah\\Documents\\GitHub\\nationbetter_data\\raw_pdf_dicts\\2020-07-16_Tier-2-5-sponsor-guidance_Jul-2020_v1.pkl, to DataFrame\n",
      "footer deleted, if trailing characters occur rerun                         example_build_data.kill_footers\n",
      "Extracting contents of C:\\Users\\hannah\\Documents\\GitHub\\nationbetter_data\\raw_pdf_dicts\\calculating-continuous-leave-v21.pkl, to DataFrame\n",
      "Extracting contents of C:\\Users\\hannah\\Documents\\GitHub\\nationbetter_data\\raw_pdf_dicts\\english-language-v17.pkl, to DataFrame\n",
      "footer deleted, if trailing characters occur rerun                         example_build_data.kill_footers\n",
      "no header with tolerance level 0.9\n",
      "Extracting contents of C:\\Users\\hannah\\Documents\\GitHub\\nationbetter_data\\raw_pdf_dicts\\Final_Tier_5_Temporary_Worker_Guidance_05-04-19.pkl, to DataFrame\n",
      "no footer with tolerance level 0.9\n",
      "no header with tolerance level 0.9\n",
      "Extracting contents of C:\\Users\\hannah\\Documents\\GitHub\\nationbetter_data\\raw_pdf_dicts\\good-character-guidance.pkl, to DataFrame\n",
      "footer deleted, if trailing characters occur rerun                         example_build_data.kill_footers\n",
      "Extracting contents of C:\\Users\\hannah\\Documents\\GitHub\\nationbetter_data\\raw_pdf_dicts\\Guide-AN_-_July_20.pkl, to DataFrame\n",
      "no header with tolerance level 0.9\n",
      "Extracting contents of C:\\Users\\hannah\\Documents\\GitHub\\nationbetter_data\\raw_pdf_dicts\\naturalisation-as-a-british-citizen-by-discretion-v5.pkl, to DataFrame\n",
      "footer deleted, if trailing characters occur rerun                         example_build_data.kill_footers\n",
      "no header with tolerance level 0.9\n",
      "Extracting contents of C:\\Users\\hannah\\Documents\\GitHub\\nationbetter_data\\raw_pdf_dicts\\sponsorguideappBfrom060412.pkl, to DataFrame\n",
      "no footer with tolerance level 0.9\n",
      "no header with tolerance level 0.9\n",
      "Transform finished at:\n",
      "\n",
      " -----------2.605954170227051------------\n",
      "\n",
      "Path for storing formatted_html_dfs, created in, C:\\Users\\hannah\\Documents\\GitHub\\nationbetter_data.\n",
      "Extracting contents of C:\\Users\\hannah\\Documents\\GitHub\\nationbetter_data\\raw_html_dicts\\Immigration_Rules_Appendix_6_academic_subjects_that_need_a_certificate.pkl, to DataFrame.\n",
      "Extracting contents of C:\\Users\\hannah\\Documents\\GitHub\\nationbetter_data\\raw_html_dicts\\Immigration_Rules_Appendix_7_overseas_workers_in_private_households.pkl, to DataFrame.\n",
      "Extracting contents of C:\\Users\\hannah\\Documents\\GitHub\\nationbetter_data\\raw_html_dicts\\Immigration_Rules_Appendix_Armed_Forces.pkl, to DataFrame.\n",
      "Extracting contents of C:\\Users\\hannah\\Documents\\GitHub\\nationbetter_data\\raw_html_dicts\\Immigration_Rules_Appendix_AR_(EU).pkl, to DataFrame.\n",
      "Extracting contents of C:\\Users\\hannah\\Documents\\GitHub\\nationbetter_data\\raw_html_dicts\\Immigration_Rules_Appendix_AR_administrative_review.pkl, to DataFrame.\n",
      "Extracting contents of C:\\Users\\hannah\\Documents\\GitHub\\nationbetter_data\\raw_html_dicts\\Immigration_Rules_Appendix_A_attributes.pkl, to DataFrame.\n",
      "Extracting contents of C:\\Users\\hannah\\Documents\\GitHub\\nationbetter_data\\raw_html_dicts\\Immigration_Rules_Appendix_B_English_language.pkl, to DataFrame.\n",
      "Extracting contents of C:\\Users\\hannah\\Documents\\GitHub\\nationbetter_data\\raw_html_dicts\\Immigration_Rules_Appendix_C_maintenance_(funds).pkl, to DataFrame.\n",
      "Extracting contents of C:\\Users\\hannah\\Documents\\GitHub\\nationbetter_data\\raw_html_dicts\\Immigration_Rules_Appendix_D_highly_skilled_migrants.pkl, to DataFrame.\n",
      "Extracting contents of C:\\Users\\hannah\\Documents\\GitHub\\nationbetter_data\\raw_html_dicts\\Immigration_Rules_Appendix_ECAA.pkl, to DataFrame.\n",
      "Extracting contents of C:\\Users\\hannah\\Documents\\GitHub\\nationbetter_data\\raw_html_dicts\\Immigration_Rules_Appendix_EU.pkl, to DataFrame.\n",
      "Extracting contents of C:\\Users\\hannah\\Documents\\GitHub\\nationbetter_data\\raw_html_dicts\\Immigration_Rules_Appendix_EU_(Family_Permit).pkl, to DataFrame.\n",
      "Extracting contents of C:\\Users\\hannah\\Documents\\GitHub\\nationbetter_data\\raw_html_dicts\\Immigration_Rules_Appendix_E_maintenance_(funds)_for_the_family_of_Relevant_Points_Based_System_Migrants__.pkl, to DataFrame.\n",
      "Extracting contents of C:\\Users\\hannah\\Documents\\GitHub\\nationbetter_data\\raw_html_dicts\\Immigration_Rules_Appendix_FM-SE_family_members_specified_evidence.pkl, to DataFrame.\n",
      "Extracting contents of C:\\Users\\hannah\\Documents\\GitHub\\nationbetter_data\\raw_html_dicts\\Immigration_Rules_Appendix_FM_family_members.pkl, to DataFrame.\n",
      "Extracting contents of C:\\Users\\hannah\\Documents\\GitHub\\nationbetter_data\\raw_html_dicts\\Immigration_Rules_Appendix_F_archived_Immigration_Rules.pkl, to DataFrame.\n",
      "Extracting contents of C:\\Users\\hannah\\Documents\\GitHub\\nationbetter_data\\raw_html_dicts\\Immigration_Rules_Appendix_G_Youth_Mobility_Scheme.pkl, to DataFrame.\n",
      "Extracting contents of C:\\Users\\hannah\\Documents\\GitHub\\nationbetter_data\\raw_html_dicts\\Immigration_Rules_Appendix_H_Tier_4_documentary_requirements.pkl, to DataFrame.\n",
      "Extracting contents of C:\\Users\\hannah\\Documents\\GitHub\\nationbetter_data\\raw_html_dicts\\Immigration_Rules_Appendix_J_codes_of_practice_for_skilled_work.pkl, to DataFrame.\n",
      "Extracting contents of C:\\Users\\hannah\\Documents\\GitHub\\nationbetter_data\\raw_html_dicts\\Immigration_Rules_Appendix_KoLL.pkl, to DataFrame.\n",
      "Extracting contents of C:\\Users\\hannah\\Documents\\GitHub\\nationbetter_data\\raw_html_dicts\\Immigration_Rules_Appendix_K_shortage_occupation_list.pkl, to DataFrame.\n",
      "Extracting contents of C:\\Users\\hannah\\Documents\\GitHub\\nationbetter_data\\raw_html_dicts\\Immigration_Rules_Appendix_M_sports_governing_bodies.pkl, to DataFrame.\n",
      "Extracting contents of C:\\Users\\hannah\\Documents\\GitHub\\nationbetter_data\\raw_html_dicts\\Immigration_Rules_Appendix_N_authorised_exchange_schemes.pkl, to DataFrame.\n",
      "Extracting contents of C:\\Users\\hannah\\Documents\\GitHub\\nationbetter_data\\raw_html_dicts\\Immigration_rules_Appendix_O_approved_English_language_tests.pkl, to DataFrame.\n",
      "Extracting contents of C:\\Users\\hannah\\Documents\\GitHub\\nationbetter_data\\raw_html_dicts\\Immigration_Rules_Appendix_P_lists_of_financial_institutions.pkl, to DataFrame.\n",
      "Extracting contents of C:\\Users\\hannah\\Documents\\GitHub\\nationbetter_data\\raw_html_dicts\\Immigration_Rules_Appendix_SN_Service_of_notices.pkl, to DataFrame.\n",
      "Extracting contents of C:\\Users\\hannah\\Documents\\GitHub\\nationbetter_data\\raw_html_dicts\\Immigration_Rules_Appendix_T_tuberculosis_screening.pkl, to DataFrame.\n",
      "Extracting contents of C:\\Users\\hannah\\Documents\\GitHub\\nationbetter_data\\raw_html_dicts\\Immigration_Rules_Appendix_U_Seasonal_Worker_Scheme.pkl, to DataFrame.\n",
      "Extracting contents of C:\\Users\\hannah\\Documents\\GitHub\\nationbetter_data\\raw_html_dicts\\Immigration_Rules_Appendix_V_visitor_rules.pkl, to DataFrame.\n",
      "Extracting contents of C:\\Users\\hannah\\Documents\\GitHub\\nationbetter_data\\raw_html_dicts\\Immigration_Rules_Appendix_W_Immigration_Rules_for_Workers.pkl, to DataFrame.\n",
      "Extracting contents of C:\\Users\\hannah\\Documents\\GitHub\\nationbetter_data\\raw_html_dicts\\Immigration_Rules_Index.pkl, to DataFrame.\n",
      "Extracting contents of C:\\Users\\hannah\\Documents\\GitHub\\nationbetter_data\\raw_html_dicts\\Immigration_Rules_introduction.pkl, to DataFrame.\n",
      "Extracting contents of C:\\Users\\hannah\\Documents\\GitHub\\nationbetter_data\\raw_html_dicts\\Immigration_Rules_part_10_registering_with_the_police.pkl, to DataFrame.\n",
      "Extracting contents of C:\\Users\\hannah\\Documents\\GitHub\\nationbetter_data\\raw_html_dicts\\Immigration_Rules_part_11A_temporary_protection.pkl, to DataFrame.\n",
      "Extracting contents of C:\\Users\\hannah\\Documents\\GitHub\\nationbetter_data\\raw_html_dicts\\Immigration_Rules_part_11B.pkl, to DataFrame.\n",
      "Extracting contents of C:\\Users\\hannah\\Documents\\GitHub\\nationbetter_data\\raw_html_dicts\\Immigration_Rules_part_11_asylum.pkl, to DataFrame.\n",
      "Extracting contents of C:\\Users\\hannah\\Documents\\GitHub\\nationbetter_data\\raw_html_dicts\\Immigration_Rules_part_12_Procedure_and_rights_of_appeal.pkl, to DataFrame.\n",
      "Extracting contents of C:\\Users\\hannah\\Documents\\GitHub\\nationbetter_data\\raw_html_dicts\\Immigration_Rules_part_13_deportation.pkl, to DataFrame.\n",
      "Extracting contents of C:\\Users\\hannah\\Documents\\GitHub\\nationbetter_data\\raw_html_dicts\\Immigration_Rules_part_14_stateless_persons.pkl, to DataFrame.\n",
      "Extracting contents of C:\\Users\\hannah\\Documents\\GitHub\\nationbetter_data\\raw_html_dicts\\Immigration_Rules_part_15_condition_to_hold_an_ATAS_clearance_certificate.pkl, to DataFrame.\n",
      "Extracting contents of C:\\Users\\hannah\\Documents\\GitHub\\nationbetter_data\\raw_html_dicts\\Immigration_Rules_part_1_leave_to_enter_or_stay_in_the_UK.pkl, to DataFrame.\n"
     ]
    },
    {
     "name": "stdout",
     "output_type": "stream",
     "text": [
      "Extracting contents of C:\\Users\\hannah\\Documents\\GitHub\\nationbetter_data\\raw_html_dicts\\Immigration_Rules_part_2_transitional_provisions_.pkl, to DataFrame.\n",
      "Extracting contents of C:\\Users\\hannah\\Documents\\GitHub\\nationbetter_data\\raw_html_dicts\\Immigration_Rules_part_3_students.pkl, to DataFrame.\n",
      "Extracting contents of C:\\Users\\hannah\\Documents\\GitHub\\nationbetter_data\\raw_html_dicts\\Immigration_Rules_part_4_work_experience.pkl, to DataFrame.\n",
      "Extracting contents of C:\\Users\\hannah\\Documents\\GitHub\\nationbetter_data\\raw_html_dicts\\Immigration_Rules_part_5_working_in_the_UK.pkl, to DataFrame.\n",
      "Extracting contents of C:\\Users\\hannah\\Documents\\GitHub\\nationbetter_data\\raw_html_dicts\\Immigration_Rules_part_6A_the_points-based_system.pkl, to DataFrame.\n",
      "Extracting contents of C:\\Users\\hannah\\Documents\\GitHub\\nationbetter_data\\raw_html_dicts\\Immigration_Rules_part_6_self-employment_and_business_people.pkl, to DataFrame.\n",
      "Extracting contents of C:\\Users\\hannah\\Documents\\GitHub\\nationbetter_data\\raw_html_dicts\\Immigration_Rules_part_7_other_categories.pkl, to DataFrame.\n",
      "Extracting contents of C:\\Users\\hannah\\Documents\\GitHub\\nationbetter_data\\raw_html_dicts\\Immigration_Rules_part_8_family_members.pkl, to DataFrame.\n",
      "Extracting contents of C:\\Users\\hannah\\Documents\\GitHub\\nationbetter_data\\raw_html_dicts\\Immigration_Rules_part_9_grounds_for_refusal.pkl, to DataFrame.\n"
     ]
    }
   ],
   "source": [
    "%run -i examples/example_build_data.py"
   ]
  },
  {
   "cell_type": "code",
   "execution_count": 4,
   "metadata": {},
   "outputs": [
    {
     "data": {
      "text/plain": [
       "'C:\\\\Users\\\\hannah\\\\Documents\\\\GitHub\\\\nationbetter_data'"
      ]
     },
     "execution_count": 4,
     "metadata": {},
     "output_type": "execute_result"
    }
   ],
   "source": [
    "import nationbetter\n",
    "import os\n",
    "\n",
    "path = nationbetter.get_data_folder(os.path.abspath(\\\n",
    "        os.path.join(__file__,'..','..','..','..')))\n",
    "datapath = os.path.join(path,'nationbetter_data')\n",
    "datapath"
   ]
  },
  {
   "cell_type": "code",
   "execution_count": 5,
   "metadata": {},
   "outputs": [
    {
     "data": {
      "text/plain": [
       "['formatted_pdf_dfs', 'raw_html_dicts', 'raw_pdf', 'raw_pdf_dicts']"
      ]
     },
     "execution_count": 5,
     "metadata": {},
     "output_type": "execute_result"
    }
   ],
   "source": [
    "folders = os.listdir(datapath)[1:]\n",
    "folders"
   ]
  },
  {
   "cell_type": "code",
   "execution_count": 6,
   "metadata": {},
   "outputs": [
    {
     "data": {
      "text/plain": [
       "['2020-07-13_Tier_2_Policy_Guidance.pkl',\n",
       " '2020-07-16_Tier-2-5-sponsor-guidance_Jul-2020_v1.pkl',\n",
       " 'calculating-continuous-leave-v21.pkl',\n",
       " 'english-language-v17.pkl',\n",
       " 'Final_Tier_5_Temporary_Worker_Guidance_05-04-19.pkl',\n",
       " 'good-character-guidance.pkl',\n",
       " 'Guide-AN_-_July_20.pkl',\n",
       " 'naturalisation-as-a-british-citizen-by-discretion-v5.pkl',\n",
       " 'sponsorguideappBfrom060412.pkl']"
      ]
     },
     "execution_count": 6,
     "metadata": {},
     "output_type": "execute_result"
    }
   ],
   "source": [
    "html_folder = os.path.join(datapath,folders[0])\n",
    "html_file = os.listdir(html_folder)\n",
    "html_file"
   ]
  },
  {
   "cell_type": "code",
   "execution_count": 7,
   "metadata": {},
   "outputs": [
    {
     "ename": "NameError",
     "evalue": "name 'raw_html_folder' is not defined",
     "output_type": "error",
     "traceback": [
      "\u001b[1;31m---------------------------------------------------------------------------\u001b[0m",
      "\u001b[1;31mNameError\u001b[0m                                 Traceback (most recent call last)",
      "\u001b[1;32m~\\Documents\\GitHub\\Aug20_NationBetter\\nationbetter\\examples\\example_build_data.py\u001b[0m in \u001b[0;36m<module>\u001b[1;34m\u001b[0m\n\u001b[0;32m      1\u001b[0m \u001b[1;32mimport\u001b[0m \u001b[0mpickle\u001b[0m\u001b[1;33m\u001b[0m\u001b[1;33m\u001b[0m\u001b[0m\n\u001b[1;32m----> 2\u001b[1;33m \u001b[0mto_read\u001b[0m \u001b[1;33m=\u001b[0m \u001b[0mos\u001b[0m\u001b[1;33m.\u001b[0m\u001b[0mpath\u001b[0m\u001b[1;33m.\u001b[0m\u001b[0mjoin\u001b[0m\u001b[1;33m(\u001b[0m\u001b[0mraw_html_folder\u001b[0m\u001b[1;33m,\u001b[0m\u001b[0mhtml_file\u001b[0m\u001b[1;33m[\u001b[0m\u001b[1;36m2\u001b[0m\u001b[1;33m]\u001b[0m\u001b[1;33m)\u001b[0m\u001b[1;33m\u001b[0m\u001b[1;33m\u001b[0m\u001b[0m\n\u001b[0m\u001b[0;32m      3\u001b[0m \u001b[0mto_read2\u001b[0m \u001b[1;33m=\u001b[0m \u001b[0mpickle\u001b[0m\u001b[1;33m.\u001b[0m\u001b[0mload\u001b[0m\u001b[1;33m(\u001b[0m\u001b[0mopen\u001b[0m\u001b[1;33m(\u001b[0m\u001b[0mto_read\u001b[0m\u001b[1;33m,\u001b[0m\u001b[1;34m'rb'\u001b[0m\u001b[1;33m)\u001b[0m\u001b[1;33m)\u001b[0m\u001b[1;33m\u001b[0m\u001b[1;33m\u001b[0m\u001b[0m\n",
      "\u001b[1;31mNameError\u001b[0m: name 'raw_html_folder' is not defined"
     ]
    }
   ],
   "source": [
    "import pickle\n",
    "to_read = os.path.join(raw_html_folder,html_file[2])\n",
    "to_read2 = pickle.load(open(to_read,'rb'))\n"
   ]
  },
  {
   "cell_type": "code",
   "execution_count": null,
   "metadata": {},
   "outputs": [],
   "source": [
    "%run -i examples/example_retrieve_dataframes.py"
   ]
  },
  {
   "cell_type": "code",
   "execution_count": null,
   "metadata": {},
   "outputs": [],
   "source": [
    "# listing the possible imports \n",
    "pdf_names = os.listdir(datapath+'/formatted_pdf_dfs')[1:]\n",
    "html_names = os.listdir(datapath+'/formatted_html_dfs')[1:]\n",
    "print('To access one of the files in formatted_pdf_dfs and formatted_html_dfs,\\\n",
    "       select the wanted name from\\n {0}\\n {1}\\n using indexing'\\\n",
    "       .format(pdf_names,html_names))\n",
    "# Importing the datafame to variable\n",
    "some_pdf_df = nationbetter.import_source_to_df(datapath+'/formatted_pdf_dfs/'\\\n",
    "        +pdf_names[2])\n",
    "some_html_df = nationbetter.import_source_to_df(datapath+'/formatted_html_dfs/'\\\n",
    "        +html_names[2])\n",
    "print('Now the dict is in some_html_dict, see?:\\n {}'\\\n",
    "        .format(some_html_df.head()))\n"
   ]
  },
  {
   "cell_type": "code",
   "execution_count": 8,
   "metadata": {},
   "outputs": [
    {
     "name": "stdout",
     "output_type": "stream",
     "text": [
      "To access one of the files in formatted_pdf_dfs and formatted_html_dfs,        select the wanted name from\n",
      " ['2020-07-16_Tier-2-5-sponsor-guidance_Jul-2020_v1.pkl', 'calculating-continuous-leave-v21.pkl', 'english-language-v17.pkl', 'Final_Tier_5_Temporary_Worker_Guidance_05-04-19.pkl', 'good-character-guidance.pkl', 'Guide-AN_-_July_20.pkl', 'naturalisation-as-a-british-citizen-by-discretion-v5.pkl', 'sponsorguideappBfrom060412.pkl']\n",
      " ['Immigration_Rules_Appendix_7_overseas_workers_in_private_households.pkl', 'Immigration_Rules_Appendix_Armed_Forces.pkl', 'Immigration_Rules_Appendix_AR_(EU).pkl', 'Immigration_Rules_Appendix_AR_administrative_review.pkl', 'Immigration_Rules_Appendix_A_attributes.pkl', 'Immigration_Rules_Appendix_B_English_language.pkl', 'Immigration_Rules_Appendix_C_maintenance_(funds).pkl', 'Immigration_Rules_Appendix_D_highly_skilled_migrants.pkl', 'Immigration_Rules_Appendix_ECAA.pkl', 'Immigration_Rules_Appendix_EU.pkl', 'Immigration_Rules_Appendix_EU_(Family_Permit).pkl', 'Immigration_Rules_Appendix_E_maintenance_(funds)_for_the_family_of_Relevant_Points_Based_System_Migrants__.pkl', 'Immigration_Rules_Appendix_FM-SE_family_members_specified_evidence.pkl', 'Immigration_Rules_Appendix_FM_family_members.pkl', 'Immigration_Rules_Appendix_F_archived_Immigration_Rules.pkl', 'Immigration_Rules_Appendix_G_Youth_Mobility_Scheme.pkl', 'Immigration_Rules_Appendix_H_Tier_4_documentary_requirements.pkl', 'Immigration_Rules_Appendix_J_codes_of_practice_for_skilled_work.pkl', 'Immigration_Rules_Appendix_KoLL.pkl', 'Immigration_Rules_Appendix_K_shortage_occupation_list.pkl', 'Immigration_Rules_Appendix_M_sports_governing_bodies.pkl', 'Immigration_Rules_Appendix_N_authorised_exchange_schemes.pkl', 'Immigration_rules_Appendix_O_approved_English_language_tests.pkl', 'Immigration_Rules_Appendix_P_lists_of_financial_institutions.pkl', 'Immigration_Rules_Appendix_SN_Service_of_notices.pkl', 'Immigration_Rules_Appendix_T_tuberculosis_screening.pkl', 'Immigration_Rules_Appendix_U_Seasonal_Worker_Scheme.pkl', 'Immigration_Rules_Appendix_V_visitor_rules.pkl', 'Immigration_Rules_Appendix_W_Immigration_Rules_for_Workers.pkl', 'Immigration_Rules_Index.pkl', 'Immigration_Rules_introduction.pkl', 'Immigration_Rules_part_10_registering_with_the_police.pkl', 'Immigration_Rules_part_11A_temporary_protection.pkl', 'Immigration_Rules_part_11B.pkl', 'Immigration_Rules_part_11_asylum.pkl', 'Immigration_Rules_part_12_Procedure_and_rights_of_appeal.pkl', 'Immigration_Rules_part_13_deportation.pkl', 'Immigration_Rules_part_14_stateless_persons.pkl', 'Immigration_Rules_part_15_condition_to_hold_an_ATAS_clearance_certificate.pkl', 'Immigration_Rules_part_1_leave_to_enter_or_stay_in_the_UK.pkl', 'Immigration_Rules_part_2_transitional_provisions_.pkl', 'Immigration_Rules_part_3_students.pkl', 'Immigration_Rules_part_4_work_experience.pkl', 'Immigration_Rules_part_5_working_in_the_UK.pkl', 'Immigration_Rules_part_6A_the_points-based_system.pkl', 'Immigration_Rules_part_6_self-employment_and_business_people.pkl', 'Immigration_Rules_part_7_other_categories.pkl', 'Immigration_Rules_part_8_family_members.pkl', 'Immigration_Rules_part_9_grounds_for_refusal.pkl']\n",
      " using indexing\n",
      "Now the dict is in some_html_dict, see?:\n",
      "    section  subsection  is table  \\\n",
      "0        0           0     False   \n",
      "1        0           1     False   \n",
      "2        1           0     False   \n",
      "3        1           0     False   \n",
      "4        2           0     False   \n",
      "\n",
      "                                              string  \n",
      "0  Immigration Rules Appendix AR (EU)\\nAdministra...  \n",
      "1                                   Appendix AR (EU)  \n",
      "2                                 Eligible decisions  \n",
      "3  AR(EU)A1. An application for administrative re...  \n",
      "4                                      Consideration  \n"
     ]
    }
   ],
   "source": [
    "import os\n",
    "import nationbetter\n",
    "import pandas as pd\n",
    "\n",
    "#path = nationbetter.get_data_folder()\n",
    "path = nationbetter.get_data_folder(os.path.abspath(\\\n",
    "        os.path.join(__file__,'..','..','..','..')))\n",
    "path = os.path.join(path,'nationbetter_data')\n",
    "\n",
    "# listing the possible imports \n",
    "pdf_names = os.listdir(os.path.join(path,'formatted_pdf_dfs'))[1:]\n",
    "html_names = os.listdir(os.path.join(path,'formatted_html_dfs'))[1:]\n",
    "print('To access one of the files in formatted_pdf_dfs and formatted_html_dfs,\\\n",
    "        select the wanted name from\\n {0}\\n {1}\\n using indexing'\\\n",
    "        .format(pdf_names,html_names))\n",
    "# Importing the datafame to variable\n",
    "some_pdf_df = nationbetter.import_source_to_df(os.path.join(path,\\\n",
    "        'formatted_pdf_dfs/',pdf_names[2]))\n",
    "some_html_df = nationbetter.import_source_to_df(os.path.join(path,\\\n",
    "        'formatted_html_dfs/',html_names[2]))\n",
    "print('Now the dict is in some_html_dict, see?:\\n {}'\\\n",
    "        .format(some_html_df.head()))"
   ]
  },
  {
   "cell_type": "code",
   "execution_count": 9,
   "metadata": {},
   "outputs": [
    {
     "data": {
      "text/html": [
       "<div>\n",
       "<style scoped>\n",
       "    .dataframe tbody tr th:only-of-type {\n",
       "        vertical-align: middle;\n",
       "    }\n",
       "\n",
       "    .dataframe tbody tr th {\n",
       "        vertical-align: top;\n",
       "    }\n",
       "\n",
       "    .dataframe thead th {\n",
       "        text-align: right;\n",
       "    }\n",
       "</style>\n",
       "<table border=\"1\" class=\"dataframe\">\n",
       "  <thead>\n",
       "    <tr style=\"text-align: right;\">\n",
       "      <th></th>\n",
       "      <th>title</th>\n",
       "      <th>subtitle</th>\n",
       "      <th>subtext</th>\n",
       "      <th>text_type</th>\n",
       "      <th>page_no</th>\n",
       "      <th>text</th>\n",
       "    </tr>\n",
       "  </thead>\n",
       "  <tbody>\n",
       "    <tr>\n",
       "      <th>0</th>\n",
       "      <td>0.0</td>\n",
       "      <td>0.0</td>\n",
       "      <td>0.0</td>\n",
       "      <td>title</td>\n",
       "      <td>1</td>\n",
       "      <td>\\n \\n \\n \\n \\n \\n \\n \\n \\n \\n \\n \\n \\n \\n \\n ...</td>\n",
       "    </tr>\n",
       "    <tr>\n",
       "      <th>1</th>\n",
       "      <td>0.0</td>\n",
       "      <td>0.0</td>\n",
       "      <td>0.0</td>\n",
       "      <td>main_text</td>\n",
       "      <td>1</td>\n",
       "      <td>\\nVersion 17.0 \\n</td>\n",
       "    </tr>\n",
       "    <tr>\n",
       "      <th>2</th>\n",
       "      <td>1.0</td>\n",
       "      <td>0.0</td>\n",
       "      <td>0.0</td>\n",
       "      <td>title</td>\n",
       "      <td>1</td>\n",
       "      <td>\\n \\n \\n \\n \\nContents \\n</td>\n",
       "    </tr>\n",
       "    <tr>\n",
       "      <th>3</th>\n",
       "      <td>1.0</td>\n",
       "      <td>0.0</td>\n",
       "      <td>0.0</td>\n",
       "      <td>main_text</td>\n",
       "      <td>2</td>\n",
       "      <td>\\nContents .....................................</td>\n",
       "    </tr>\n",
       "    <tr>\n",
       "      <th>4</th>\n",
       "      <td>2.0</td>\n",
       "      <td>0.0</td>\n",
       "      <td>0.0</td>\n",
       "      <td>title</td>\n",
       "      <td>3</td>\n",
       "      <td>\\n \\nAbout this guidance \\n</td>\n",
       "    </tr>\n",
       "  </tbody>\n",
       "</table>\n",
       "</div>"
      ],
      "text/plain": [
       "   title  subtitle  subtext  text_type  page_no  \\\n",
       "0    0.0       0.0      0.0      title        1   \n",
       "1    0.0       0.0      0.0  main_text        1   \n",
       "2    1.0       0.0      0.0      title        1   \n",
       "3    1.0       0.0      0.0  main_text        2   \n",
       "4    2.0       0.0      0.0      title        3   \n",
       "\n",
       "                                                text  \n",
       "0   \\n \\n \\n \\n \\n \\n \\n \\n \\n \\n \\n \\n \\n \\n \\n ...  \n",
       "1                                  \\nVersion 17.0 \\n  \n",
       "2                          \\n \\n \\n \\n \\nContents \\n  \n",
       "3   \\nContents .....................................  \n",
       "4                        \\n \\nAbout this guidance \\n  "
      ]
     },
     "execution_count": 9,
     "metadata": {},
     "output_type": "execute_result"
    }
   ],
   "source": [
    "some_pdf_df.head()"
   ]
  },
  {
   "cell_type": "code",
   "execution_count": null,
   "metadata": {},
   "outputs": [],
   "source": []
  },
  {
   "cell_type": "code",
   "execution_count": null,
   "metadata": {},
   "outputs": [],
   "source": []
  }
 ],
 "metadata": {
  "kernelspec": {
   "display_name": "TensorFlow-GPU-1.13",
   "language": "python",
   "name": "tf-gpu"
  },
  "language_info": {
   "codemirror_mode": {
    "name": "ipython",
    "version": 3
   },
   "file_extension": ".py",
   "mimetype": "text/x-python",
   "name": "python",
   "nbconvert_exporter": "python",
   "pygments_lexer": "ipython3",
   "version": "3.7.7"
  }
 },
 "nbformat": 4,
 "nbformat_minor": 4
}
