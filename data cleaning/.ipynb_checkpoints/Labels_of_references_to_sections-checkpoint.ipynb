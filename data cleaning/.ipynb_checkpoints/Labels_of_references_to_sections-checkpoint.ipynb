{
 "cells": [
  {
   "cell_type": "code",
   "execution_count": 2,
   "metadata": {},
   "outputs": [],
   "source": [
    "import pandas as pd\n",
    "import re\n",
    "\n",
    "\n",
    "from flashtext import KeywordProcessor\n",
    "\n",
    "import pickle"
   ]
  },
  {
   "cell_type": "code",
   "execution_count": null,
   "metadata": {},
   "outputs": [],
   "source": []
  },
  {
   "cell_type": "code",
   "execution_count": null,
   "metadata": {},
   "outputs": [],
   "source": []
  },
  {
   "cell_type": "markdown",
   "metadata": {},
   "source": [
    "## 1. Import dataframe of the scraped Immigration Rules documents"
   ]
  },
  {
   "cell_type": "code",
   "execution_count": null,
   "metadata": {},
   "outputs": [],
   "source": []
  },
  {
   "cell_type": "code",
   "execution_count": 3,
   "metadata": {},
   "outputs": [],
   "source": [
    "with open(\"immigration_rules_scrape.pickle\",'rb') as f:\n",
    "    scrape_df = pickle.load(f)"
   ]
  },
  {
   "cell_type": "code",
   "execution_count": 4,
   "metadata": {},
   "outputs": [
    {
     "data": {
      "text/html": [
       "<div>\n",
       "<style scoped>\n",
       "    .dataframe tbody tr th:only-of-type {\n",
       "        vertical-align: middle;\n",
       "    }\n",
       "\n",
       "    .dataframe tbody tr th {\n",
       "        vertical-align: top;\n",
       "    }\n",
       "\n",
       "    .dataframe thead th {\n",
       "        text-align: right;\n",
       "    }\n",
       "</style>\n",
       "<table border=\"1\" class=\"dataframe\">\n",
       "  <thead>\n",
       "    <tr style=\"text-align: right;\">\n",
       "      <th></th>\n",
       "      <th>URL</th>\n",
       "      <th>media type</th>\n",
       "      <th>title</th>\n",
       "      <th>text_dump</th>\n",
       "      <th>text_segmented</th>\n",
       "      <th>hyperlinks_dump</th>\n",
       "      <th>timestamp</th>\n",
       "    </tr>\n",
       "  </thead>\n",
       "  <tbody>\n",
       "    <tr>\n",
       "      <th>0</th>\n",
       "      <td>https://www.gov.uk/guidance/immigration-rules/...</td>\n",
       "      <td>text/html</td>\n",
       "      <td>Immigration Rules: Index</td>\n",
       "      <td>\\nImmigration Rules: Index\\nThe rules are divi...</td>\n",
       "      <td>[(text, Immigration Rules: Index\\nThe rules ar...</td>\n",
       "      <td>[https://www.gov.uk/guidance/immigration-rules...</td>\n",
       "      <td>2020-08-25T18:14:38+00:00</td>\n",
       "    </tr>\n",
       "    <tr>\n",
       "      <th>1</th>\n",
       "      <td>https://www.gov.uk/guidance/immigration-rules/...</td>\n",
       "      <td>text/html</td>\n",
       "      <td>Immigration Rules: introduction</td>\n",
       "      <td>\\nImmigration Rules: introduction\\nThis contai...</td>\n",
       "      <td>[(text, Immigration Rules: introduction\\nThis ...</td>\n",
       "      <td>[]</td>\n",
       "      <td>2020-08-25T18:14:39+00:00</td>\n",
       "    </tr>\n",
       "    <tr>\n",
       "      <th>2</th>\n",
       "      <td>https://www.gov.uk/guidance/immigration-rules/...</td>\n",
       "      <td>text/html</td>\n",
       "      <td>Immigration Rules part 1: leave to enter or st...</td>\n",
       "      <td>\\nImmigration Rules part 1: leave to enter or ...</td>\n",
       "      <td>[(text, Immigration Rules part 1: leave to ent...</td>\n",
       "      <td>[]</td>\n",
       "      <td>2020-08-25T18:14:39+00:00</td>\n",
       "    </tr>\n",
       "    <tr>\n",
       "      <th>3</th>\n",
       "      <td>https://www.gov.uk/guidance/immigration-rules/...</td>\n",
       "      <td>text/html</td>\n",
       "      <td>Immigration Rules part 2: transitional provisi...</td>\n",
       "      <td>\\nImmigration Rules part 2: transitional provi...</td>\n",
       "      <td>[(text, Immigration Rules part 2: transitional...</td>\n",
       "      <td>[]</td>\n",
       "      <td>2020-08-25T18:14:41+00:00</td>\n",
       "    </tr>\n",
       "    <tr>\n",
       "      <th>4</th>\n",
       "      <td>https://www.gov.uk/guidance/immigration-rules/...</td>\n",
       "      <td>text/html</td>\n",
       "      <td>Immigration Rules part 3: students</td>\n",
       "      <td>\\nImmigration Rules part 3: students\\nPersons ...</td>\n",
       "      <td>[(text, Immigration Rules part 3: students\\nPe...</td>\n",
       "      <td>[]</td>\n",
       "      <td>2020-08-25T18:14:41+00:00</td>\n",
       "    </tr>\n",
       "  </tbody>\n",
       "</table>\n",
       "</div>"
      ],
      "text/plain": [
       "                                                 URL media type  \\\n",
       "0  https://www.gov.uk/guidance/immigration-rules/...  text/html   \n",
       "1  https://www.gov.uk/guidance/immigration-rules/...  text/html   \n",
       "2  https://www.gov.uk/guidance/immigration-rules/...  text/html   \n",
       "3  https://www.gov.uk/guidance/immigration-rules/...  text/html   \n",
       "4  https://www.gov.uk/guidance/immigration-rules/...  text/html   \n",
       "\n",
       "                                               title  \\\n",
       "0                           Immigration Rules: Index   \n",
       "1                    Immigration Rules: introduction   \n",
       "2  Immigration Rules part 1: leave to enter or st...   \n",
       "3  Immigration Rules part 2: transitional provisi...   \n",
       "4                 Immigration Rules part 3: students   \n",
       "\n",
       "                                           text_dump  \\\n",
       "0  \\nImmigration Rules: Index\\nThe rules are divi...   \n",
       "1  \\nImmigration Rules: introduction\\nThis contai...   \n",
       "2  \\nImmigration Rules part 1: leave to enter or ...   \n",
       "3  \\nImmigration Rules part 2: transitional provi...   \n",
       "4  \\nImmigration Rules part 3: students\\nPersons ...   \n",
       "\n",
       "                                      text_segmented  \\\n",
       "0  [(text, Immigration Rules: Index\\nThe rules ar...   \n",
       "1  [(text, Immigration Rules: introduction\\nThis ...   \n",
       "2  [(text, Immigration Rules part 1: leave to ent...   \n",
       "3  [(text, Immigration Rules part 2: transitional...   \n",
       "4  [(text, Immigration Rules part 3: students\\nPe...   \n",
       "\n",
       "                                     hyperlinks_dump  \\\n",
       "0  [https://www.gov.uk/guidance/immigration-rules...   \n",
       "1                                                 []   \n",
       "2                                                 []   \n",
       "3                                                 []   \n",
       "4                                                 []   \n",
       "\n",
       "                   timestamp  \n",
       "0  2020-08-25T18:14:38+00:00  \n",
       "1  2020-08-25T18:14:39+00:00  \n",
       "2  2020-08-25T18:14:39+00:00  \n",
       "3  2020-08-25T18:14:41+00:00  \n",
       "4  2020-08-25T18:14:41+00:00  "
      ]
     },
     "execution_count": 4,
     "metadata": {},
     "output_type": "execute_result"
    }
   ],
   "source": [
    "scrape_df.head()"
   ]
  },
  {
   "cell_type": "code",
   "execution_count": 5,
   "metadata": {},
   "outputs": [
    {
     "data": {
      "text/plain": [
       "51"
      ]
     },
     "execution_count": 5,
     "metadata": {},
     "output_type": "execute_result"
    }
   ],
   "source": [
    "len(scrape_df)"
   ]
  },
  {
   "cell_type": "code",
   "execution_count": 6,
   "metadata": {},
   "outputs": [
    {
     "data": {
      "text/plain": [
       "0                              Immigration Rules: Index\n",
       "1                       Immigration Rules: introduction\n",
       "2     Immigration Rules part 1: leave to enter or st...\n",
       "3     Immigration Rules part 2: transitional provisi...\n",
       "4                    Immigration Rules part 3: students\n",
       "5             Immigration Rules part 4: work experience\n",
       "6           Immigration Rules part 5: working in the UK\n",
       "7     Immigration Rules part 6: self-employment and ...\n",
       "8     Immigration Rules part 6A: the points-based sy...\n",
       "9            Immigration Rules part 7: other categories\n",
       "10             Immigration Rules part 8: family members\n",
       "11        Immigration Rules part 9: grounds for refusal\n",
       "12    Immigration Rules part 10: registering with th...\n",
       "13                    Immigration Rules part 11: asylum\n",
       "14     Immigration Rules part 11A: temporary protection\n",
       "15                           Immigration Rules part 11B\n",
       "16    Immigration Rules part 12: Procedure and right...\n",
       "17               Immigration Rules part 13: deportation\n",
       "18         Immigration Rules part 14: stateless persons\n",
       "19    Immigration Rules part 15: condition to hold a...\n",
       "20    Immigration Rules Appendix 2: police registration\n",
       "21    Immigration Rules Appendix 6: academic subject...\n",
       "22    Immigration Rules Appendix 7: overseas workers...\n",
       "23             Immigration Rules Appendix A: attributes\n",
       "24    Immigration Rules Appendix AR: administrative ...\n",
       "25                   Immigration Rules Appendix AR (EU)\n",
       "26              Immigration Rules Appendix Armed Forces\n",
       "27       Immigration Rules Appendix B: English language\n",
       "28    Immigration Rules Appendix C: maintenance (funds)\n",
       "29    Immigration Rules Appendix D: highly skilled m...\n",
       "30    Immigration Rules Appendix E: maintenance (fun...\n",
       "31                      Immigration Rules Appendix ECAA\n",
       "32                        Immigration Rules Appendix EU\n",
       "33        Immigration Rules Appendix EU (Family Permit)\n",
       "34    Immigration Rules Appendix F: archived Immigra...\n",
       "35        Immigration Rules Appendix FM: family members\n",
       "36    Immigration Rules Appendix FM-SE: family membe...\n",
       "37    Immigration Rules Appendix G: Youth Mobility S...\n",
       "38    Immigration Rules Appendix H: Tier 4 documenta...\n",
       "39    Immigration Rules Appendix J: codes of practic...\n",
       "40    Immigration Rules Appendix K: shortage occupat...\n",
       "41                      Immigration Rules Appendix KoLL\n",
       "42    Immigration Rules Appendix M: sports governing...\n",
       "43    Immigration Rules Appendix N: authorised excha...\n",
       "44    Immigration rules Appendix O: approved English...\n",
       "45    Immigration Rules Appendix P: lists of financi...\n",
       "46    Immigration Rules Appendix SN: Service of notices\n",
       "47    Immigration Rules Appendix T: tuberculosis scr...\n",
       "48    Immigration Rules Appendix U: Seasonal Worker ...\n",
       "49          Immigration Rules Appendix V: visitor rules\n",
       "50    Immigration Rules Appendix W: Immigration Rule...\n",
       "Name: title, dtype: object"
      ]
     },
     "execution_count": 6,
     "metadata": {},
     "output_type": "execute_result"
    }
   ],
   "source": [
    "scrape_df['title']"
   ]
  },
  {
   "cell_type": "code",
   "execution_count": null,
   "metadata": {},
   "outputs": [],
   "source": []
  },
  {
   "cell_type": "code",
   "execution_count": null,
   "metadata": {},
   "outputs": [],
   "source": []
  },
  {
   "cell_type": "markdown",
   "metadata": {},
   "source": [
    "## 2. Extract keywords from the Immigration Rules document titles:"
   ]
  },
  {
   "cell_type": "code",
   "execution_count": 7,
   "metadata": {},
   "outputs": [],
   "source": [
    "references_list = scrape_df['title']"
   ]
  },
  {
   "cell_type": "code",
   "execution_count": 8,
   "metadata": {},
   "outputs": [
    {
     "data": {
      "text/plain": [
       "['Part Appendix (EU)']"
      ]
     },
     "execution_count": 8,
     "metadata": {},
     "output_type": "execute_result"
    }
   ],
   "source": [
    "pattern_appendix = r\"[Aa]ppendix [0-9]*[A-Za-z]*[-]*\\s*[A-Za-z]*\\s*[(]*[A-Za-z]*\\s*[A-Za-z]*[)]*\"\n",
    "pattern_part = r\"[Pp]art [0-9]*[A-Za-z]*\\s*[A-Za-z]*\\s*[(]*[A-Za-z]*\\s*[A-Za-z]*[)]*\"\n",
    "\n",
    "re.findall(pattern_part, 'Immigration Rules Part Appendix (EU)' )"
   ]
  },
  {
   "cell_type": "code",
   "execution_count": 9,
   "metadata": {},
   "outputs": [],
   "source": [
    "labels_references = []\n",
    "\n",
    "for i in range(len(references_list)):\n",
    "    \n",
    "    ref_appendix = re.findall(pattern_appendix, str(references_list[i]) )\n",
    "    ref_part = re.findall(pattern_part, str(references_list[i]) )\n",
    "    \n",
    "    if ref_part!=[]:\n",
    "        labels_references+= ref_part\n",
    "     \n",
    "    if ref_appendix!=[]:\n",
    "        labels_references+= ref_appendix\n",
    "        \n",
    "    else: \n",
    "        continue\n",
    "\n",
    "        "
   ]
  },
  {
   "cell_type": "code",
   "execution_count": 10,
   "metadata": {},
   "outputs": [
    {
     "name": "stdout",
     "output_type": "stream",
     "text": [
      "['part 1', 'part 2', 'part 3', 'part 4', 'part 5', 'part 6', 'part 6A', 'part 7', 'part 8', 'part 9', 'part 10', 'part 11', 'part 11A', 'part 11B', 'part 12', 'part 13', 'part 14', 'part 15', 'Appendix 2', 'Appendix 6', 'Appendix 7', 'Appendix A', 'Appendix AR', 'Appendix AR (EU)', 'Appendix Armed Forces', 'Appendix B', 'Appendix C', 'Appendix D', 'Appendix E', 'Appendix ECAA', 'Appendix EU', 'Appendix EU (Family Permit)', 'Appendix F', 'Appendix FM', 'Appendix FM-SE', 'Appendix G', 'Appendix H', 'Appendix J', 'Appendix K', 'Appendix KoLL', 'Appendix M', 'Appendix N', 'Appendix O', 'Appendix P', 'Appendix SN', 'Appendix T', 'Appendix U', 'Appendix V', 'Appendix W']\n",
      "49\n"
     ]
    }
   ],
   "source": [
    "print(labels_references)\n",
    "print(len(labels_references))"
   ]
  },
  {
   "cell_type": "code",
   "execution_count": null,
   "metadata": {},
   "outputs": [],
   "source": []
  },
  {
   "cell_type": "code",
   "execution_count": null,
   "metadata": {},
   "outputs": [],
   "source": []
  },
  {
   "cell_type": "markdown",
   "metadata": {},
   "source": [
    "## 3. Extract sections into a dataframe for each document - stored in a dictionary"
   ]
  },
  {
   "cell_type": "code",
   "execution_count": null,
   "metadata": {},
   "outputs": [],
   "source": []
  },
  {
   "cell_type": "code",
   "execution_count": null,
   "metadata": {},
   "outputs": [],
   "source": []
  },
  {
   "cell_type": "code",
   "execution_count": 12,
   "metadata": {},
   "outputs": [],
   "source": [
    "\"\"\" Function to extract sections from text_segmented \"\"\"\n",
    "\n",
    "def extract_sections(list):\n",
    "    \n",
    "    \"\"\" list: list of tuples (string with label, text string) \"\"\"\n",
    "    \n",
    "\n",
    "    \n",
    "    section_num = 0\n",
    "    \n",
    "    sections = []\n",
    "    for key, value in list:\n",
    "\n",
    "        value = value.replace('\\n', ' ')\n",
    "        value = value.replace('\\t', ' ')\n",
    "        \n",
    "        section = key == 'section'\n",
    "\n",
    "        if section:\n",
    "            \n",
    "            section_num = section_num + 1\n",
    "\n",
    "            sections.append(['Section ' + value])\n",
    "            \n",
    "            sections[section_num-1].append(' ' + value)\n",
    "\n",
    "        else:\n",
    "            if section_num > 0:\n",
    "                \n",
    "                sections[section_num-1][1] +=  ' ' + value\n",
    "    \n",
    "    \n",
    "    return pd.DataFrame(sections)"
   ]
  },
  {
   "cell_type": "code",
   "execution_count": null,
   "metadata": {},
   "outputs": [],
   "source": []
  },
  {
   "cell_type": "code",
   "execution_count": 13,
   "metadata": {},
   "outputs": [],
   "source": [
    "\"\"\" Function to organize the url_list documents into sections from text_segmented \"\"\"\n",
    "\n",
    "def url_docs_sections(df):\n",
    "    \n",
    "    \n",
    "    \"\"\" \n",
    "    Input:\n",
    "        scraped_urls: a dataframe as the output of map_df(scrape_govuk_guidance,url_list)\n",
    "    Output:\n",
    "        Dictionary with Values the dataframe of sections for each url and Key the title of the corresponding document\n",
    "    \"\"\"\n",
    "    \n",
    "    list_sec_df = []\n",
    "    for row in range(len(df)):\n",
    "        \n",
    "         list_sec_df = list_sec_df + [extract_sections(df['text_segmented'][row])]\n",
    "        \n",
    "    \n",
    "    \n",
    "    return dict(list(zip(df['title'], list_sec_df)))"
   ]
  },
  {
   "cell_type": "code",
   "execution_count": null,
   "metadata": {},
   "outputs": [],
   "source": []
  },
  {
   "cell_type": "code",
   "execution_count": 14,
   "metadata": {},
   "outputs": [],
   "source": [
    "docs_sections_dic = url_docs_sections(scrape_df)"
   ]
  },
  {
   "cell_type": "code",
   "execution_count": 15,
   "metadata": {},
   "outputs": [
    {
     "data": {
      "text/plain": [
       "51"
      ]
     },
     "execution_count": 15,
     "metadata": {},
     "output_type": "execute_result"
    }
   ],
   "source": [
    "len(docs_sections_dic)"
   ]
  },
  {
   "cell_type": "code",
   "execution_count": null,
   "metadata": {},
   "outputs": [],
   "source": []
  },
  {
   "cell_type": "code",
   "execution_count": null,
   "metadata": {},
   "outputs": [],
   "source": []
  },
  {
   "cell_type": "markdown",
   "metadata": {},
   "source": [
    "## 4. Add labels of references to sections - stored in a column on each dataframe of the dictionary"
   ]
  },
  {
   "cell_type": "code",
   "execution_count": null,
   "metadata": {},
   "outputs": [],
   "source": []
  },
  {
   "cell_type": "code",
   "execution_count": null,
   "metadata": {},
   "outputs": [],
   "source": []
  },
  {
   "cell_type": "code",
   "execution_count": 16,
   "metadata": {},
   "outputs": [],
   "source": [
    "\"\"\" Function to count words on a list and return a dictionary\"\"\"\n",
    "\n",
    "def word_count_dict(word_list):\n",
    "    word_count = [word_list.count(p) for p in word_list]\n",
    "    return dict(list(zip(word_list,word_count)))"
   ]
  },
  {
   "cell_type": "code",
   "execution_count": null,
   "metadata": {},
   "outputs": [],
   "source": []
  },
  {
   "cell_type": "code",
   "execution_count": 17,
   "metadata": {},
   "outputs": [],
   "source": [
    "\"\"\" Function to add an extra column with labels \"\"\"\n",
    "\n",
    "# Create an object of KeywordProcessor\n",
    "keyword_processor = KeywordProcessor()\n",
    "\n",
    "\n",
    "\n",
    "def add_column_labeling_sections(dic, labels_list):\n",
    "    \n",
    "    \"\"\" \n",
    "    Input:\n",
    "        data: dataframe with a column of strings\n",
    "        list: list of keywords (strings)\n",
    "        \n",
    "    Output: \n",
    "        appends a column to data with the labels present in a certain entry of the column\n",
    "    \"\"\"\n",
    "    \n",
    "\n",
    "    \n",
    "    for key, df in dic.items() :\n",
    "        labels = list(labels_list)\n",
    "        \n",
    "        row = list(dic.keys()).index(key) \n",
    "\n",
    "        if row>1: \n",
    "            del labels[row-2]\n",
    "            keyword_processor.add_keywords_from_list(labels) # We remove the label of the document we are labelling\n",
    "            print(labels)\n",
    "            print(row)\n",
    "        else:\n",
    "            keyword_processor.add_keywords_from_list(labels)\n",
    "        \n",
    "        if len(df)>0:\n",
    "\n",
    "            \n",
    "            tags = []\n",
    "            for i in range(len(df)):    \n",
    "                keywords_found = keyword_processor.extract_keywords(df.iloc[:,1][i])\n",
    "                tags += [word_count_dict(keywords_found)]\n",
    "     \n",
    "            df['References to Immigration Rules'] = tags\n",
    "            keyword_processor.remove_keywords_from_list(labels)\n",
    "    \n",
    "        \n",
    "    return dic"
   ]
  },
  {
   "cell_type": "code",
   "execution_count": null,
   "metadata": {},
   "outputs": [],
   "source": []
  },
  {
   "cell_type": "code",
   "execution_count": 18,
   "metadata": {},
   "outputs": [
    {
     "name": "stdout",
     "output_type": "stream",
     "text": [
      "['part 2', 'part 3', 'part 4', 'part 5', 'part 6', 'part 6A', 'part 7', 'part 8', 'part 9', 'part 10', 'part 11', 'part 11A', 'part 11B', 'part 12', 'part 13', 'part 14', 'part 15', 'Appendix 2', 'Appendix 6', 'Appendix 7', 'Appendix A', 'Appendix AR', 'Appendix AR (EU)', 'Appendix Armed Forces', 'Appendix B', 'Appendix C', 'Appendix D', 'Appendix E', 'Appendix ECAA', 'Appendix EU', 'Appendix EU (Family Permit)', 'Appendix F', 'Appendix FM', 'Appendix FM-SE', 'Appendix G', 'Appendix H', 'Appendix J', 'Appendix K', 'Appendix KoLL', 'Appendix M', 'Appendix N', 'Appendix O', 'Appendix P', 'Appendix SN', 'Appendix T', 'Appendix U', 'Appendix V', 'Appendix W']\n",
      "2\n",
      "['part 1', 'part 3', 'part 4', 'part 5', 'part 6', 'part 6A', 'part 7', 'part 8', 'part 9', 'part 10', 'part 11', 'part 11A', 'part 11B', 'part 12', 'part 13', 'part 14', 'part 15', 'Appendix 2', 'Appendix 6', 'Appendix 7', 'Appendix A', 'Appendix AR', 'Appendix AR (EU)', 'Appendix Armed Forces', 'Appendix B', 'Appendix C', 'Appendix D', 'Appendix E', 'Appendix ECAA', 'Appendix EU', 'Appendix EU (Family Permit)', 'Appendix F', 'Appendix FM', 'Appendix FM-SE', 'Appendix G', 'Appendix H', 'Appendix J', 'Appendix K', 'Appendix KoLL', 'Appendix M', 'Appendix N', 'Appendix O', 'Appendix P', 'Appendix SN', 'Appendix T', 'Appendix U', 'Appendix V', 'Appendix W']\n",
      "3\n",
      "['part 1', 'part 2', 'part 4', 'part 5', 'part 6', 'part 6A', 'part 7', 'part 8', 'part 9', 'part 10', 'part 11', 'part 11A', 'part 11B', 'part 12', 'part 13', 'part 14', 'part 15', 'Appendix 2', 'Appendix 6', 'Appendix 7', 'Appendix A', 'Appendix AR', 'Appendix AR (EU)', 'Appendix Armed Forces', 'Appendix B', 'Appendix C', 'Appendix D', 'Appendix E', 'Appendix ECAA', 'Appendix EU', 'Appendix EU (Family Permit)', 'Appendix F', 'Appendix FM', 'Appendix FM-SE', 'Appendix G', 'Appendix H', 'Appendix J', 'Appendix K', 'Appendix KoLL', 'Appendix M', 'Appendix N', 'Appendix O', 'Appendix P', 'Appendix SN', 'Appendix T', 'Appendix U', 'Appendix V', 'Appendix W']\n",
      "4\n",
      "['part 1', 'part 2', 'part 3', 'part 5', 'part 6', 'part 6A', 'part 7', 'part 8', 'part 9', 'part 10', 'part 11', 'part 11A', 'part 11B', 'part 12', 'part 13', 'part 14', 'part 15', 'Appendix 2', 'Appendix 6', 'Appendix 7', 'Appendix A', 'Appendix AR', 'Appendix AR (EU)', 'Appendix Armed Forces', 'Appendix B', 'Appendix C', 'Appendix D', 'Appendix E', 'Appendix ECAA', 'Appendix EU', 'Appendix EU (Family Permit)', 'Appendix F', 'Appendix FM', 'Appendix FM-SE', 'Appendix G', 'Appendix H', 'Appendix J', 'Appendix K', 'Appendix KoLL', 'Appendix M', 'Appendix N', 'Appendix O', 'Appendix P', 'Appendix SN', 'Appendix T', 'Appendix U', 'Appendix V', 'Appendix W']\n",
      "5\n",
      "['part 1', 'part 2', 'part 3', 'part 4', 'part 6', 'part 6A', 'part 7', 'part 8', 'part 9', 'part 10', 'part 11', 'part 11A', 'part 11B', 'part 12', 'part 13', 'part 14', 'part 15', 'Appendix 2', 'Appendix 6', 'Appendix 7', 'Appendix A', 'Appendix AR', 'Appendix AR (EU)', 'Appendix Armed Forces', 'Appendix B', 'Appendix C', 'Appendix D', 'Appendix E', 'Appendix ECAA', 'Appendix EU', 'Appendix EU (Family Permit)', 'Appendix F', 'Appendix FM', 'Appendix FM-SE', 'Appendix G', 'Appendix H', 'Appendix J', 'Appendix K', 'Appendix KoLL', 'Appendix M', 'Appendix N', 'Appendix O', 'Appendix P', 'Appendix SN', 'Appendix T', 'Appendix U', 'Appendix V', 'Appendix W']\n",
      "6\n",
      "['part 1', 'part 2', 'part 3', 'part 4', 'part 5', 'part 6A', 'part 7', 'part 8', 'part 9', 'part 10', 'part 11', 'part 11A', 'part 11B', 'part 12', 'part 13', 'part 14', 'part 15', 'Appendix 2', 'Appendix 6', 'Appendix 7', 'Appendix A', 'Appendix AR', 'Appendix AR (EU)', 'Appendix Armed Forces', 'Appendix B', 'Appendix C', 'Appendix D', 'Appendix E', 'Appendix ECAA', 'Appendix EU', 'Appendix EU (Family Permit)', 'Appendix F', 'Appendix FM', 'Appendix FM-SE', 'Appendix G', 'Appendix H', 'Appendix J', 'Appendix K', 'Appendix KoLL', 'Appendix M', 'Appendix N', 'Appendix O', 'Appendix P', 'Appendix SN', 'Appendix T', 'Appendix U', 'Appendix V', 'Appendix W']\n",
      "7\n",
      "['part 1', 'part 2', 'part 3', 'part 4', 'part 5', 'part 6', 'part 7', 'part 8', 'part 9', 'part 10', 'part 11', 'part 11A', 'part 11B', 'part 12', 'part 13', 'part 14', 'part 15', 'Appendix 2', 'Appendix 6', 'Appendix 7', 'Appendix A', 'Appendix AR', 'Appendix AR (EU)', 'Appendix Armed Forces', 'Appendix B', 'Appendix C', 'Appendix D', 'Appendix E', 'Appendix ECAA', 'Appendix EU', 'Appendix EU (Family Permit)', 'Appendix F', 'Appendix FM', 'Appendix FM-SE', 'Appendix G', 'Appendix H', 'Appendix J', 'Appendix K', 'Appendix KoLL', 'Appendix M', 'Appendix N', 'Appendix O', 'Appendix P', 'Appendix SN', 'Appendix T', 'Appendix U', 'Appendix V', 'Appendix W']\n",
      "8\n",
      "['part 1', 'part 2', 'part 3', 'part 4', 'part 5', 'part 6', 'part 6A', 'part 8', 'part 9', 'part 10', 'part 11', 'part 11A', 'part 11B', 'part 12', 'part 13', 'part 14', 'part 15', 'Appendix 2', 'Appendix 6', 'Appendix 7', 'Appendix A', 'Appendix AR', 'Appendix AR (EU)', 'Appendix Armed Forces', 'Appendix B', 'Appendix C', 'Appendix D', 'Appendix E', 'Appendix ECAA', 'Appendix EU', 'Appendix EU (Family Permit)', 'Appendix F', 'Appendix FM', 'Appendix FM-SE', 'Appendix G', 'Appendix H', 'Appendix J', 'Appendix K', 'Appendix KoLL', 'Appendix M', 'Appendix N', 'Appendix O', 'Appendix P', 'Appendix SN', 'Appendix T', 'Appendix U', 'Appendix V', 'Appendix W']\n",
      "9\n",
      "['part 1', 'part 2', 'part 3', 'part 4', 'part 5', 'part 6', 'part 6A', 'part 7', 'part 9', 'part 10', 'part 11', 'part 11A', 'part 11B', 'part 12', 'part 13', 'part 14', 'part 15', 'Appendix 2', 'Appendix 6', 'Appendix 7', 'Appendix A', 'Appendix AR', 'Appendix AR (EU)', 'Appendix Armed Forces', 'Appendix B', 'Appendix C', 'Appendix D', 'Appendix E', 'Appendix ECAA', 'Appendix EU', 'Appendix EU (Family Permit)', 'Appendix F', 'Appendix FM', 'Appendix FM-SE', 'Appendix G', 'Appendix H', 'Appendix J', 'Appendix K', 'Appendix KoLL', 'Appendix M', 'Appendix N', 'Appendix O', 'Appendix P', 'Appendix SN', 'Appendix T', 'Appendix U', 'Appendix V', 'Appendix W']\n",
      "10\n",
      "['part 1', 'part 2', 'part 3', 'part 4', 'part 5', 'part 6', 'part 6A', 'part 7', 'part 8', 'part 10', 'part 11', 'part 11A', 'part 11B', 'part 12', 'part 13', 'part 14', 'part 15', 'Appendix 2', 'Appendix 6', 'Appendix 7', 'Appendix A', 'Appendix AR', 'Appendix AR (EU)', 'Appendix Armed Forces', 'Appendix B', 'Appendix C', 'Appendix D', 'Appendix E', 'Appendix ECAA', 'Appendix EU', 'Appendix EU (Family Permit)', 'Appendix F', 'Appendix FM', 'Appendix FM-SE', 'Appendix G', 'Appendix H', 'Appendix J', 'Appendix K', 'Appendix KoLL', 'Appendix M', 'Appendix N', 'Appendix O', 'Appendix P', 'Appendix SN', 'Appendix T', 'Appendix U', 'Appendix V', 'Appendix W']\n",
      "11\n",
      "['part 1', 'part 2', 'part 3', 'part 4', 'part 5', 'part 6', 'part 6A', 'part 7', 'part 8', 'part 9', 'part 11', 'part 11A', 'part 11B', 'part 12', 'part 13', 'part 14', 'part 15', 'Appendix 2', 'Appendix 6', 'Appendix 7', 'Appendix A', 'Appendix AR', 'Appendix AR (EU)', 'Appendix Armed Forces', 'Appendix B', 'Appendix C', 'Appendix D', 'Appendix E', 'Appendix ECAA', 'Appendix EU', 'Appendix EU (Family Permit)', 'Appendix F', 'Appendix FM', 'Appendix FM-SE', 'Appendix G', 'Appendix H', 'Appendix J', 'Appendix K', 'Appendix KoLL', 'Appendix M', 'Appendix N', 'Appendix O', 'Appendix P', 'Appendix SN', 'Appendix T', 'Appendix U', 'Appendix V', 'Appendix W']\n",
      "12\n",
      "['part 1', 'part 2', 'part 3', 'part 4', 'part 5', 'part 6', 'part 6A', 'part 7', 'part 8', 'part 9', 'part 10', 'part 11A', 'part 11B', 'part 12', 'part 13', 'part 14', 'part 15', 'Appendix 2', 'Appendix 6', 'Appendix 7', 'Appendix A', 'Appendix AR', 'Appendix AR (EU)', 'Appendix Armed Forces', 'Appendix B', 'Appendix C', 'Appendix D', 'Appendix E', 'Appendix ECAA', 'Appendix EU', 'Appendix EU (Family Permit)', 'Appendix F', 'Appendix FM', 'Appendix FM-SE', 'Appendix G', 'Appendix H', 'Appendix J', 'Appendix K', 'Appendix KoLL', 'Appendix M', 'Appendix N', 'Appendix O', 'Appendix P', 'Appendix SN', 'Appendix T', 'Appendix U', 'Appendix V', 'Appendix W']\n",
      "13\n",
      "['part 1', 'part 2', 'part 3', 'part 4', 'part 5', 'part 6', 'part 6A', 'part 7', 'part 8', 'part 9', 'part 10', 'part 11', 'part 11B', 'part 12', 'part 13', 'part 14', 'part 15', 'Appendix 2', 'Appendix 6', 'Appendix 7', 'Appendix A', 'Appendix AR', 'Appendix AR (EU)', 'Appendix Armed Forces', 'Appendix B', 'Appendix C', 'Appendix D', 'Appendix E', 'Appendix ECAA', 'Appendix EU', 'Appendix EU (Family Permit)', 'Appendix F', 'Appendix FM', 'Appendix FM-SE', 'Appendix G', 'Appendix H', 'Appendix J', 'Appendix K', 'Appendix KoLL', 'Appendix M', 'Appendix N', 'Appendix O', 'Appendix P', 'Appendix SN', 'Appendix T', 'Appendix U', 'Appendix V', 'Appendix W']\n",
      "14\n",
      "['part 1', 'part 2', 'part 3', 'part 4', 'part 5', 'part 6', 'part 6A', 'part 7', 'part 8', 'part 9', 'part 10', 'part 11', 'part 11A', 'part 12', 'part 13', 'part 14', 'part 15', 'Appendix 2', 'Appendix 6', 'Appendix 7', 'Appendix A', 'Appendix AR', 'Appendix AR (EU)', 'Appendix Armed Forces', 'Appendix B', 'Appendix C', 'Appendix D', 'Appendix E', 'Appendix ECAA', 'Appendix EU', 'Appendix EU (Family Permit)', 'Appendix F', 'Appendix FM', 'Appendix FM-SE', 'Appendix G', 'Appendix H', 'Appendix J', 'Appendix K', 'Appendix KoLL', 'Appendix M', 'Appendix N', 'Appendix O', 'Appendix P', 'Appendix SN', 'Appendix T', 'Appendix U', 'Appendix V', 'Appendix W']\n",
      "15\n",
      "['part 1', 'part 2', 'part 3', 'part 4', 'part 5', 'part 6', 'part 6A', 'part 7', 'part 8', 'part 9', 'part 10', 'part 11', 'part 11A', 'part 11B', 'part 13', 'part 14', 'part 15', 'Appendix 2', 'Appendix 6', 'Appendix 7', 'Appendix A', 'Appendix AR', 'Appendix AR (EU)', 'Appendix Armed Forces', 'Appendix B', 'Appendix C', 'Appendix D', 'Appendix E', 'Appendix ECAA', 'Appendix EU', 'Appendix EU (Family Permit)', 'Appendix F', 'Appendix FM', 'Appendix FM-SE', 'Appendix G', 'Appendix H', 'Appendix J', 'Appendix K', 'Appendix KoLL', 'Appendix M', 'Appendix N', 'Appendix O', 'Appendix P', 'Appendix SN', 'Appendix T', 'Appendix U', 'Appendix V', 'Appendix W']\n",
      "16\n",
      "['part 1', 'part 2', 'part 3', 'part 4', 'part 5', 'part 6', 'part 6A', 'part 7', 'part 8', 'part 9', 'part 10', 'part 11', 'part 11A', 'part 11B', 'part 12', 'part 14', 'part 15', 'Appendix 2', 'Appendix 6', 'Appendix 7', 'Appendix A', 'Appendix AR', 'Appendix AR (EU)', 'Appendix Armed Forces', 'Appendix B', 'Appendix C', 'Appendix D', 'Appendix E', 'Appendix ECAA', 'Appendix EU', 'Appendix EU (Family Permit)', 'Appendix F', 'Appendix FM', 'Appendix FM-SE', 'Appendix G', 'Appendix H', 'Appendix J', 'Appendix K', 'Appendix KoLL', 'Appendix M', 'Appendix N', 'Appendix O', 'Appendix P', 'Appendix SN', 'Appendix T', 'Appendix U', 'Appendix V', 'Appendix W']\n",
      "17\n",
      "['part 1', 'part 2', 'part 3', 'part 4', 'part 5', 'part 6', 'part 6A', 'part 7', 'part 8', 'part 9', 'part 10', 'part 11', 'part 11A', 'part 11B', 'part 12', 'part 13', 'part 15', 'Appendix 2', 'Appendix 6', 'Appendix 7', 'Appendix A', 'Appendix AR', 'Appendix AR (EU)', 'Appendix Armed Forces', 'Appendix B', 'Appendix C', 'Appendix D', 'Appendix E', 'Appendix ECAA', 'Appendix EU', 'Appendix EU (Family Permit)', 'Appendix F', 'Appendix FM', 'Appendix FM-SE', 'Appendix G', 'Appendix H', 'Appendix J', 'Appendix K', 'Appendix KoLL', 'Appendix M', 'Appendix N', 'Appendix O', 'Appendix P', 'Appendix SN', 'Appendix T', 'Appendix U', 'Appendix V', 'Appendix W']\n",
      "18\n",
      "['part 1', 'part 2', 'part 3', 'part 4', 'part 5', 'part 6', 'part 6A', 'part 7', 'part 8', 'part 9', 'part 10', 'part 11', 'part 11A', 'part 11B', 'part 12', 'part 13', 'part 14', 'Appendix 2', 'Appendix 6', 'Appendix 7', 'Appendix A', 'Appendix AR', 'Appendix AR (EU)', 'Appendix Armed Forces', 'Appendix B', 'Appendix C', 'Appendix D', 'Appendix E', 'Appendix ECAA', 'Appendix EU', 'Appendix EU (Family Permit)', 'Appendix F', 'Appendix FM', 'Appendix FM-SE', 'Appendix G', 'Appendix H', 'Appendix J', 'Appendix K', 'Appendix KoLL', 'Appendix M', 'Appendix N', 'Appendix O', 'Appendix P', 'Appendix SN', 'Appendix T', 'Appendix U', 'Appendix V', 'Appendix W']\n",
      "19\n",
      "['part 1', 'part 2', 'part 3', 'part 4', 'part 5', 'part 6', 'part 6A', 'part 7', 'part 8', 'part 9', 'part 10', 'part 11', 'part 11A', 'part 11B', 'part 12', 'part 13', 'part 14', 'part 15', 'Appendix 6', 'Appendix 7', 'Appendix A', 'Appendix AR', 'Appendix AR (EU)', 'Appendix Armed Forces', 'Appendix B', 'Appendix C', 'Appendix D', 'Appendix E', 'Appendix ECAA', 'Appendix EU', 'Appendix EU (Family Permit)', 'Appendix F', 'Appendix FM', 'Appendix FM-SE', 'Appendix G', 'Appendix H', 'Appendix J', 'Appendix K', 'Appendix KoLL', 'Appendix M', 'Appendix N', 'Appendix O', 'Appendix P', 'Appendix SN', 'Appendix T', 'Appendix U', 'Appendix V', 'Appendix W']\n",
      "20\n",
      "['part 1', 'part 2', 'part 3', 'part 4', 'part 5', 'part 6', 'part 6A', 'part 7', 'part 8', 'part 9', 'part 10', 'part 11', 'part 11A', 'part 11B', 'part 12', 'part 13', 'part 14', 'part 15', 'Appendix 2', 'Appendix 7', 'Appendix A', 'Appendix AR', 'Appendix AR (EU)', 'Appendix Armed Forces', 'Appendix B', 'Appendix C', 'Appendix D', 'Appendix E', 'Appendix ECAA', 'Appendix EU', 'Appendix EU (Family Permit)', 'Appendix F', 'Appendix FM', 'Appendix FM-SE', 'Appendix G', 'Appendix H', 'Appendix J', 'Appendix K', 'Appendix KoLL', 'Appendix M', 'Appendix N', 'Appendix O', 'Appendix P', 'Appendix SN', 'Appendix T', 'Appendix U', 'Appendix V', 'Appendix W']\n",
      "21\n",
      "['part 1', 'part 2', 'part 3', 'part 4', 'part 5', 'part 6', 'part 6A', 'part 7', 'part 8', 'part 9', 'part 10', 'part 11', 'part 11A', 'part 11B', 'part 12', 'part 13', 'part 14', 'part 15', 'Appendix 2', 'Appendix 6', 'Appendix A', 'Appendix AR', 'Appendix AR (EU)', 'Appendix Armed Forces', 'Appendix B', 'Appendix C', 'Appendix D', 'Appendix E', 'Appendix ECAA', 'Appendix EU', 'Appendix EU (Family Permit)', 'Appendix F', 'Appendix FM', 'Appendix FM-SE', 'Appendix G', 'Appendix H', 'Appendix J', 'Appendix K', 'Appendix KoLL', 'Appendix M', 'Appendix N', 'Appendix O', 'Appendix P', 'Appendix SN', 'Appendix T', 'Appendix U', 'Appendix V', 'Appendix W']\n",
      "22\n",
      "['part 1', 'part 2', 'part 3', 'part 4', 'part 5', 'part 6', 'part 6A', 'part 7', 'part 8', 'part 9', 'part 10', 'part 11', 'part 11A', 'part 11B', 'part 12', 'part 13', 'part 14', 'part 15', 'Appendix 2', 'Appendix 6', 'Appendix 7', 'Appendix AR', 'Appendix AR (EU)', 'Appendix Armed Forces', 'Appendix B', 'Appendix C', 'Appendix D', 'Appendix E', 'Appendix ECAA', 'Appendix EU', 'Appendix EU (Family Permit)', 'Appendix F', 'Appendix FM', 'Appendix FM-SE', 'Appendix G', 'Appendix H', 'Appendix J', 'Appendix K', 'Appendix KoLL', 'Appendix M', 'Appendix N', 'Appendix O', 'Appendix P', 'Appendix SN', 'Appendix T', 'Appendix U', 'Appendix V', 'Appendix W']\n",
      "23\n"
     ]
    },
    {
     "name": "stdout",
     "output_type": "stream",
     "text": [
      "['part 1', 'part 2', 'part 3', 'part 4', 'part 5', 'part 6', 'part 6A', 'part 7', 'part 8', 'part 9', 'part 10', 'part 11', 'part 11A', 'part 11B', 'part 12', 'part 13', 'part 14', 'part 15', 'Appendix 2', 'Appendix 6', 'Appendix 7', 'Appendix A', 'Appendix AR (EU)', 'Appendix Armed Forces', 'Appendix B', 'Appendix C', 'Appendix D', 'Appendix E', 'Appendix ECAA', 'Appendix EU', 'Appendix EU (Family Permit)', 'Appendix F', 'Appendix FM', 'Appendix FM-SE', 'Appendix G', 'Appendix H', 'Appendix J', 'Appendix K', 'Appendix KoLL', 'Appendix M', 'Appendix N', 'Appendix O', 'Appendix P', 'Appendix SN', 'Appendix T', 'Appendix U', 'Appendix V', 'Appendix W']\n",
      "24\n",
      "['part 1', 'part 2', 'part 3', 'part 4', 'part 5', 'part 6', 'part 6A', 'part 7', 'part 8', 'part 9', 'part 10', 'part 11', 'part 11A', 'part 11B', 'part 12', 'part 13', 'part 14', 'part 15', 'Appendix 2', 'Appendix 6', 'Appendix 7', 'Appendix A', 'Appendix AR', 'Appendix Armed Forces', 'Appendix B', 'Appendix C', 'Appendix D', 'Appendix E', 'Appendix ECAA', 'Appendix EU', 'Appendix EU (Family Permit)', 'Appendix F', 'Appendix FM', 'Appendix FM-SE', 'Appendix G', 'Appendix H', 'Appendix J', 'Appendix K', 'Appendix KoLL', 'Appendix M', 'Appendix N', 'Appendix O', 'Appendix P', 'Appendix SN', 'Appendix T', 'Appendix U', 'Appendix V', 'Appendix W']\n",
      "25\n",
      "['part 1', 'part 2', 'part 3', 'part 4', 'part 5', 'part 6', 'part 6A', 'part 7', 'part 8', 'part 9', 'part 10', 'part 11', 'part 11A', 'part 11B', 'part 12', 'part 13', 'part 14', 'part 15', 'Appendix 2', 'Appendix 6', 'Appendix 7', 'Appendix A', 'Appendix AR', 'Appendix AR (EU)', 'Appendix B', 'Appendix C', 'Appendix D', 'Appendix E', 'Appendix ECAA', 'Appendix EU', 'Appendix EU (Family Permit)', 'Appendix F', 'Appendix FM', 'Appendix FM-SE', 'Appendix G', 'Appendix H', 'Appendix J', 'Appendix K', 'Appendix KoLL', 'Appendix M', 'Appendix N', 'Appendix O', 'Appendix P', 'Appendix SN', 'Appendix T', 'Appendix U', 'Appendix V', 'Appendix W']\n",
      "26\n",
      "['part 1', 'part 2', 'part 3', 'part 4', 'part 5', 'part 6', 'part 6A', 'part 7', 'part 8', 'part 9', 'part 10', 'part 11', 'part 11A', 'part 11B', 'part 12', 'part 13', 'part 14', 'part 15', 'Appendix 2', 'Appendix 6', 'Appendix 7', 'Appendix A', 'Appendix AR', 'Appendix AR (EU)', 'Appendix Armed Forces', 'Appendix C', 'Appendix D', 'Appendix E', 'Appendix ECAA', 'Appendix EU', 'Appendix EU (Family Permit)', 'Appendix F', 'Appendix FM', 'Appendix FM-SE', 'Appendix G', 'Appendix H', 'Appendix J', 'Appendix K', 'Appendix KoLL', 'Appendix M', 'Appendix N', 'Appendix O', 'Appendix P', 'Appendix SN', 'Appendix T', 'Appendix U', 'Appendix V', 'Appendix W']\n",
      "27\n",
      "['part 1', 'part 2', 'part 3', 'part 4', 'part 5', 'part 6', 'part 6A', 'part 7', 'part 8', 'part 9', 'part 10', 'part 11', 'part 11A', 'part 11B', 'part 12', 'part 13', 'part 14', 'part 15', 'Appendix 2', 'Appendix 6', 'Appendix 7', 'Appendix A', 'Appendix AR', 'Appendix AR (EU)', 'Appendix Armed Forces', 'Appendix B', 'Appendix D', 'Appendix E', 'Appendix ECAA', 'Appendix EU', 'Appendix EU (Family Permit)', 'Appendix F', 'Appendix FM', 'Appendix FM-SE', 'Appendix G', 'Appendix H', 'Appendix J', 'Appendix K', 'Appendix KoLL', 'Appendix M', 'Appendix N', 'Appendix O', 'Appendix P', 'Appendix SN', 'Appendix T', 'Appendix U', 'Appendix V', 'Appendix W']\n",
      "28\n",
      "['part 1', 'part 2', 'part 3', 'part 4', 'part 5', 'part 6', 'part 6A', 'part 7', 'part 8', 'part 9', 'part 10', 'part 11', 'part 11A', 'part 11B', 'part 12', 'part 13', 'part 14', 'part 15', 'Appendix 2', 'Appendix 6', 'Appendix 7', 'Appendix A', 'Appendix AR', 'Appendix AR (EU)', 'Appendix Armed Forces', 'Appendix B', 'Appendix C', 'Appendix E', 'Appendix ECAA', 'Appendix EU', 'Appendix EU (Family Permit)', 'Appendix F', 'Appendix FM', 'Appendix FM-SE', 'Appendix G', 'Appendix H', 'Appendix J', 'Appendix K', 'Appendix KoLL', 'Appendix M', 'Appendix N', 'Appendix O', 'Appendix P', 'Appendix SN', 'Appendix T', 'Appendix U', 'Appendix V', 'Appendix W']\n",
      "29\n",
      "['part 1', 'part 2', 'part 3', 'part 4', 'part 5', 'part 6', 'part 6A', 'part 7', 'part 8', 'part 9', 'part 10', 'part 11', 'part 11A', 'part 11B', 'part 12', 'part 13', 'part 14', 'part 15', 'Appendix 2', 'Appendix 6', 'Appendix 7', 'Appendix A', 'Appendix AR', 'Appendix AR (EU)', 'Appendix Armed Forces', 'Appendix B', 'Appendix C', 'Appendix D', 'Appendix ECAA', 'Appendix EU', 'Appendix EU (Family Permit)', 'Appendix F', 'Appendix FM', 'Appendix FM-SE', 'Appendix G', 'Appendix H', 'Appendix J', 'Appendix K', 'Appendix KoLL', 'Appendix M', 'Appendix N', 'Appendix O', 'Appendix P', 'Appendix SN', 'Appendix T', 'Appendix U', 'Appendix V', 'Appendix W']\n",
      "30\n",
      "['part 1', 'part 2', 'part 3', 'part 4', 'part 5', 'part 6', 'part 6A', 'part 7', 'part 8', 'part 9', 'part 10', 'part 11', 'part 11A', 'part 11B', 'part 12', 'part 13', 'part 14', 'part 15', 'Appendix 2', 'Appendix 6', 'Appendix 7', 'Appendix A', 'Appendix AR', 'Appendix AR (EU)', 'Appendix Armed Forces', 'Appendix B', 'Appendix C', 'Appendix D', 'Appendix E', 'Appendix EU', 'Appendix EU (Family Permit)', 'Appendix F', 'Appendix FM', 'Appendix FM-SE', 'Appendix G', 'Appendix H', 'Appendix J', 'Appendix K', 'Appendix KoLL', 'Appendix M', 'Appendix N', 'Appendix O', 'Appendix P', 'Appendix SN', 'Appendix T', 'Appendix U', 'Appendix V', 'Appendix W']\n",
      "31\n",
      "['part 1', 'part 2', 'part 3', 'part 4', 'part 5', 'part 6', 'part 6A', 'part 7', 'part 8', 'part 9', 'part 10', 'part 11', 'part 11A', 'part 11B', 'part 12', 'part 13', 'part 14', 'part 15', 'Appendix 2', 'Appendix 6', 'Appendix 7', 'Appendix A', 'Appendix AR', 'Appendix AR (EU)', 'Appendix Armed Forces', 'Appendix B', 'Appendix C', 'Appendix D', 'Appendix E', 'Appendix ECAA', 'Appendix EU (Family Permit)', 'Appendix F', 'Appendix FM', 'Appendix FM-SE', 'Appendix G', 'Appendix H', 'Appendix J', 'Appendix K', 'Appendix KoLL', 'Appendix M', 'Appendix N', 'Appendix O', 'Appendix P', 'Appendix SN', 'Appendix T', 'Appendix U', 'Appendix V', 'Appendix W']\n",
      "32\n",
      "['part 1', 'part 2', 'part 3', 'part 4', 'part 5', 'part 6', 'part 6A', 'part 7', 'part 8', 'part 9', 'part 10', 'part 11', 'part 11A', 'part 11B', 'part 12', 'part 13', 'part 14', 'part 15', 'Appendix 2', 'Appendix 6', 'Appendix 7', 'Appendix A', 'Appendix AR', 'Appendix AR (EU)', 'Appendix Armed Forces', 'Appendix B', 'Appendix C', 'Appendix D', 'Appendix E', 'Appendix ECAA', 'Appendix EU', 'Appendix F', 'Appendix FM', 'Appendix FM-SE', 'Appendix G', 'Appendix H', 'Appendix J', 'Appendix K', 'Appendix KoLL', 'Appendix M', 'Appendix N', 'Appendix O', 'Appendix P', 'Appendix SN', 'Appendix T', 'Appendix U', 'Appendix V', 'Appendix W']\n",
      "33\n",
      "['part 1', 'part 2', 'part 3', 'part 4', 'part 5', 'part 6', 'part 6A', 'part 7', 'part 8', 'part 9', 'part 10', 'part 11', 'part 11A', 'part 11B', 'part 12', 'part 13', 'part 14', 'part 15', 'Appendix 2', 'Appendix 6', 'Appendix 7', 'Appendix A', 'Appendix AR', 'Appendix AR (EU)', 'Appendix Armed Forces', 'Appendix B', 'Appendix C', 'Appendix D', 'Appendix E', 'Appendix ECAA', 'Appendix EU', 'Appendix EU (Family Permit)', 'Appendix FM', 'Appendix FM-SE', 'Appendix G', 'Appendix H', 'Appendix J', 'Appendix K', 'Appendix KoLL', 'Appendix M', 'Appendix N', 'Appendix O', 'Appendix P', 'Appendix SN', 'Appendix T', 'Appendix U', 'Appendix V', 'Appendix W']\n",
      "34\n",
      "['part 1', 'part 2', 'part 3', 'part 4', 'part 5', 'part 6', 'part 6A', 'part 7', 'part 8', 'part 9', 'part 10', 'part 11', 'part 11A', 'part 11B', 'part 12', 'part 13', 'part 14', 'part 15', 'Appendix 2', 'Appendix 6', 'Appendix 7', 'Appendix A', 'Appendix AR', 'Appendix AR (EU)', 'Appendix Armed Forces', 'Appendix B', 'Appendix C', 'Appendix D', 'Appendix E', 'Appendix ECAA', 'Appendix EU', 'Appendix EU (Family Permit)', 'Appendix F', 'Appendix FM-SE', 'Appendix G', 'Appendix H', 'Appendix J', 'Appendix K', 'Appendix KoLL', 'Appendix M', 'Appendix N', 'Appendix O', 'Appendix P', 'Appendix SN', 'Appendix T', 'Appendix U', 'Appendix V', 'Appendix W']\n",
      "35\n",
      "['part 1', 'part 2', 'part 3', 'part 4', 'part 5', 'part 6', 'part 6A', 'part 7', 'part 8', 'part 9', 'part 10', 'part 11', 'part 11A', 'part 11B', 'part 12', 'part 13', 'part 14', 'part 15', 'Appendix 2', 'Appendix 6', 'Appendix 7', 'Appendix A', 'Appendix AR', 'Appendix AR (EU)', 'Appendix Armed Forces', 'Appendix B', 'Appendix C', 'Appendix D', 'Appendix E', 'Appendix ECAA', 'Appendix EU', 'Appendix EU (Family Permit)', 'Appendix F', 'Appendix FM', 'Appendix G', 'Appendix H', 'Appendix J', 'Appendix K', 'Appendix KoLL', 'Appendix M', 'Appendix N', 'Appendix O', 'Appendix P', 'Appendix SN', 'Appendix T', 'Appendix U', 'Appendix V', 'Appendix W']\n",
      "36\n",
      "['part 1', 'part 2', 'part 3', 'part 4', 'part 5', 'part 6', 'part 6A', 'part 7', 'part 8', 'part 9', 'part 10', 'part 11', 'part 11A', 'part 11B', 'part 12', 'part 13', 'part 14', 'part 15', 'Appendix 2', 'Appendix 6', 'Appendix 7', 'Appendix A', 'Appendix AR', 'Appendix AR (EU)', 'Appendix Armed Forces', 'Appendix B', 'Appendix C', 'Appendix D', 'Appendix E', 'Appendix ECAA', 'Appendix EU', 'Appendix EU (Family Permit)', 'Appendix F', 'Appendix FM', 'Appendix FM-SE', 'Appendix H', 'Appendix J', 'Appendix K', 'Appendix KoLL', 'Appendix M', 'Appendix N', 'Appendix O', 'Appendix P', 'Appendix SN', 'Appendix T', 'Appendix U', 'Appendix V', 'Appendix W']\n",
      "37\n",
      "['part 1', 'part 2', 'part 3', 'part 4', 'part 5', 'part 6', 'part 6A', 'part 7', 'part 8', 'part 9', 'part 10', 'part 11', 'part 11A', 'part 11B', 'part 12', 'part 13', 'part 14', 'part 15', 'Appendix 2', 'Appendix 6', 'Appendix 7', 'Appendix A', 'Appendix AR', 'Appendix AR (EU)', 'Appendix Armed Forces', 'Appendix B', 'Appendix C', 'Appendix D', 'Appendix E', 'Appendix ECAA', 'Appendix EU', 'Appendix EU (Family Permit)', 'Appendix F', 'Appendix FM', 'Appendix FM-SE', 'Appendix G', 'Appendix J', 'Appendix K', 'Appendix KoLL', 'Appendix M', 'Appendix N', 'Appendix O', 'Appendix P', 'Appendix SN', 'Appendix T', 'Appendix U', 'Appendix V', 'Appendix W']\n",
      "38\n",
      "['part 1', 'part 2', 'part 3', 'part 4', 'part 5', 'part 6', 'part 6A', 'part 7', 'part 8', 'part 9', 'part 10', 'part 11', 'part 11A', 'part 11B', 'part 12', 'part 13', 'part 14', 'part 15', 'Appendix 2', 'Appendix 6', 'Appendix 7', 'Appendix A', 'Appendix AR', 'Appendix AR (EU)', 'Appendix Armed Forces', 'Appendix B', 'Appendix C', 'Appendix D', 'Appendix E', 'Appendix ECAA', 'Appendix EU', 'Appendix EU (Family Permit)', 'Appendix F', 'Appendix FM', 'Appendix FM-SE', 'Appendix G', 'Appendix H', 'Appendix K', 'Appendix KoLL', 'Appendix M', 'Appendix N', 'Appendix O', 'Appendix P', 'Appendix SN', 'Appendix T', 'Appendix U', 'Appendix V', 'Appendix W']\n",
      "39\n"
     ]
    },
    {
     "name": "stdout",
     "output_type": "stream",
     "text": [
      "['part 1', 'part 2', 'part 3', 'part 4', 'part 5', 'part 6', 'part 6A', 'part 7', 'part 8', 'part 9', 'part 10', 'part 11', 'part 11A', 'part 11B', 'part 12', 'part 13', 'part 14', 'part 15', 'Appendix 2', 'Appendix 6', 'Appendix 7', 'Appendix A', 'Appendix AR', 'Appendix AR (EU)', 'Appendix Armed Forces', 'Appendix B', 'Appendix C', 'Appendix D', 'Appendix E', 'Appendix ECAA', 'Appendix EU', 'Appendix EU (Family Permit)', 'Appendix F', 'Appendix FM', 'Appendix FM-SE', 'Appendix G', 'Appendix H', 'Appendix J', 'Appendix KoLL', 'Appendix M', 'Appendix N', 'Appendix O', 'Appendix P', 'Appendix SN', 'Appendix T', 'Appendix U', 'Appendix V', 'Appendix W']\n",
      "40\n",
      "['part 1', 'part 2', 'part 3', 'part 4', 'part 5', 'part 6', 'part 6A', 'part 7', 'part 8', 'part 9', 'part 10', 'part 11', 'part 11A', 'part 11B', 'part 12', 'part 13', 'part 14', 'part 15', 'Appendix 2', 'Appendix 6', 'Appendix 7', 'Appendix A', 'Appendix AR', 'Appendix AR (EU)', 'Appendix Armed Forces', 'Appendix B', 'Appendix C', 'Appendix D', 'Appendix E', 'Appendix ECAA', 'Appendix EU', 'Appendix EU (Family Permit)', 'Appendix F', 'Appendix FM', 'Appendix FM-SE', 'Appendix G', 'Appendix H', 'Appendix J', 'Appendix K', 'Appendix M', 'Appendix N', 'Appendix O', 'Appendix P', 'Appendix SN', 'Appendix T', 'Appendix U', 'Appendix V', 'Appendix W']\n",
      "41\n",
      "['part 1', 'part 2', 'part 3', 'part 4', 'part 5', 'part 6', 'part 6A', 'part 7', 'part 8', 'part 9', 'part 10', 'part 11', 'part 11A', 'part 11B', 'part 12', 'part 13', 'part 14', 'part 15', 'Appendix 2', 'Appendix 6', 'Appendix 7', 'Appendix A', 'Appendix AR', 'Appendix AR (EU)', 'Appendix Armed Forces', 'Appendix B', 'Appendix C', 'Appendix D', 'Appendix E', 'Appendix ECAA', 'Appendix EU', 'Appendix EU (Family Permit)', 'Appendix F', 'Appendix FM', 'Appendix FM-SE', 'Appendix G', 'Appendix H', 'Appendix J', 'Appendix K', 'Appendix KoLL', 'Appendix N', 'Appendix O', 'Appendix P', 'Appendix SN', 'Appendix T', 'Appendix U', 'Appendix V', 'Appendix W']\n",
      "42\n",
      "['part 1', 'part 2', 'part 3', 'part 4', 'part 5', 'part 6', 'part 6A', 'part 7', 'part 8', 'part 9', 'part 10', 'part 11', 'part 11A', 'part 11B', 'part 12', 'part 13', 'part 14', 'part 15', 'Appendix 2', 'Appendix 6', 'Appendix 7', 'Appendix A', 'Appendix AR', 'Appendix AR (EU)', 'Appendix Armed Forces', 'Appendix B', 'Appendix C', 'Appendix D', 'Appendix E', 'Appendix ECAA', 'Appendix EU', 'Appendix EU (Family Permit)', 'Appendix F', 'Appendix FM', 'Appendix FM-SE', 'Appendix G', 'Appendix H', 'Appendix J', 'Appendix K', 'Appendix KoLL', 'Appendix M', 'Appendix O', 'Appendix P', 'Appendix SN', 'Appendix T', 'Appendix U', 'Appendix V', 'Appendix W']\n",
      "43\n",
      "['part 1', 'part 2', 'part 3', 'part 4', 'part 5', 'part 6', 'part 6A', 'part 7', 'part 8', 'part 9', 'part 10', 'part 11', 'part 11A', 'part 11B', 'part 12', 'part 13', 'part 14', 'part 15', 'Appendix 2', 'Appendix 6', 'Appendix 7', 'Appendix A', 'Appendix AR', 'Appendix AR (EU)', 'Appendix Armed Forces', 'Appendix B', 'Appendix C', 'Appendix D', 'Appendix E', 'Appendix ECAA', 'Appendix EU', 'Appendix EU (Family Permit)', 'Appendix F', 'Appendix FM', 'Appendix FM-SE', 'Appendix G', 'Appendix H', 'Appendix J', 'Appendix K', 'Appendix KoLL', 'Appendix M', 'Appendix N', 'Appendix P', 'Appendix SN', 'Appendix T', 'Appendix U', 'Appendix V', 'Appendix W']\n",
      "44\n",
      "['part 1', 'part 2', 'part 3', 'part 4', 'part 5', 'part 6', 'part 6A', 'part 7', 'part 8', 'part 9', 'part 10', 'part 11', 'part 11A', 'part 11B', 'part 12', 'part 13', 'part 14', 'part 15', 'Appendix 2', 'Appendix 6', 'Appendix 7', 'Appendix A', 'Appendix AR', 'Appendix AR (EU)', 'Appendix Armed Forces', 'Appendix B', 'Appendix C', 'Appendix D', 'Appendix E', 'Appendix ECAA', 'Appendix EU', 'Appendix EU (Family Permit)', 'Appendix F', 'Appendix FM', 'Appendix FM-SE', 'Appendix G', 'Appendix H', 'Appendix J', 'Appendix K', 'Appendix KoLL', 'Appendix M', 'Appendix N', 'Appendix O', 'Appendix SN', 'Appendix T', 'Appendix U', 'Appendix V', 'Appendix W']\n",
      "45\n",
      "['part 1', 'part 2', 'part 3', 'part 4', 'part 5', 'part 6', 'part 6A', 'part 7', 'part 8', 'part 9', 'part 10', 'part 11', 'part 11A', 'part 11B', 'part 12', 'part 13', 'part 14', 'part 15', 'Appendix 2', 'Appendix 6', 'Appendix 7', 'Appendix A', 'Appendix AR', 'Appendix AR (EU)', 'Appendix Armed Forces', 'Appendix B', 'Appendix C', 'Appendix D', 'Appendix E', 'Appendix ECAA', 'Appendix EU', 'Appendix EU (Family Permit)', 'Appendix F', 'Appendix FM', 'Appendix FM-SE', 'Appendix G', 'Appendix H', 'Appendix J', 'Appendix K', 'Appendix KoLL', 'Appendix M', 'Appendix N', 'Appendix O', 'Appendix P', 'Appendix T', 'Appendix U', 'Appendix V', 'Appendix W']\n",
      "46\n",
      "['part 1', 'part 2', 'part 3', 'part 4', 'part 5', 'part 6', 'part 6A', 'part 7', 'part 8', 'part 9', 'part 10', 'part 11', 'part 11A', 'part 11B', 'part 12', 'part 13', 'part 14', 'part 15', 'Appendix 2', 'Appendix 6', 'Appendix 7', 'Appendix A', 'Appendix AR', 'Appendix AR (EU)', 'Appendix Armed Forces', 'Appendix B', 'Appendix C', 'Appendix D', 'Appendix E', 'Appendix ECAA', 'Appendix EU', 'Appendix EU (Family Permit)', 'Appendix F', 'Appendix FM', 'Appendix FM-SE', 'Appendix G', 'Appendix H', 'Appendix J', 'Appendix K', 'Appendix KoLL', 'Appendix M', 'Appendix N', 'Appendix O', 'Appendix P', 'Appendix SN', 'Appendix U', 'Appendix V', 'Appendix W']\n",
      "47\n",
      "['part 1', 'part 2', 'part 3', 'part 4', 'part 5', 'part 6', 'part 6A', 'part 7', 'part 8', 'part 9', 'part 10', 'part 11', 'part 11A', 'part 11B', 'part 12', 'part 13', 'part 14', 'part 15', 'Appendix 2', 'Appendix 6', 'Appendix 7', 'Appendix A', 'Appendix AR', 'Appendix AR (EU)', 'Appendix Armed Forces', 'Appendix B', 'Appendix C', 'Appendix D', 'Appendix E', 'Appendix ECAA', 'Appendix EU', 'Appendix EU (Family Permit)', 'Appendix F', 'Appendix FM', 'Appendix FM-SE', 'Appendix G', 'Appendix H', 'Appendix J', 'Appendix K', 'Appendix KoLL', 'Appendix M', 'Appendix N', 'Appendix O', 'Appendix P', 'Appendix SN', 'Appendix T', 'Appendix V', 'Appendix W']\n",
      "48\n",
      "['part 1', 'part 2', 'part 3', 'part 4', 'part 5', 'part 6', 'part 6A', 'part 7', 'part 8', 'part 9', 'part 10', 'part 11', 'part 11A', 'part 11B', 'part 12', 'part 13', 'part 14', 'part 15', 'Appendix 2', 'Appendix 6', 'Appendix 7', 'Appendix A', 'Appendix AR', 'Appendix AR (EU)', 'Appendix Armed Forces', 'Appendix B', 'Appendix C', 'Appendix D', 'Appendix E', 'Appendix ECAA', 'Appendix EU', 'Appendix EU (Family Permit)', 'Appendix F', 'Appendix FM', 'Appendix FM-SE', 'Appendix G', 'Appendix H', 'Appendix J', 'Appendix K', 'Appendix KoLL', 'Appendix M', 'Appendix N', 'Appendix O', 'Appendix P', 'Appendix SN', 'Appendix T', 'Appendix U', 'Appendix W']\n",
      "49\n",
      "['part 1', 'part 2', 'part 3', 'part 4', 'part 5', 'part 6', 'part 6A', 'part 7', 'part 8', 'part 9', 'part 10', 'part 11', 'part 11A', 'part 11B', 'part 12', 'part 13', 'part 14', 'part 15', 'Appendix 2', 'Appendix 6', 'Appendix 7', 'Appendix A', 'Appendix AR', 'Appendix AR (EU)', 'Appendix Armed Forces', 'Appendix B', 'Appendix C', 'Appendix D', 'Appendix E', 'Appendix ECAA', 'Appendix EU', 'Appendix EU (Family Permit)', 'Appendix F', 'Appendix FM', 'Appendix FM-SE', 'Appendix G', 'Appendix H', 'Appendix J', 'Appendix K', 'Appendix KoLL', 'Appendix M', 'Appendix N', 'Appendix O', 'Appendix P', 'Appendix SN', 'Appendix T', 'Appendix U', 'Appendix V']\n",
      "50\n"
     ]
    }
   ],
   "source": [
    "docs_section_labels_ref = add_column_labeling_sections(docs_sections_dic, labels_references)"
   ]
  },
  {
   "cell_type": "code",
   "execution_count": 21,
   "metadata": {},
   "outputs": [
    {
     "data": {
      "text/html": [
       "<div>\n",
       "<style scoped>\n",
       "    .dataframe tbody tr th:only-of-type {\n",
       "        vertical-align: middle;\n",
       "    }\n",
       "\n",
       "    .dataframe tbody tr th {\n",
       "        vertical-align: top;\n",
       "    }\n",
       "\n",
       "    .dataframe thead th {\n",
       "        text-align: right;\n",
       "    }\n",
       "</style>\n",
       "<table border=\"1\" class=\"dataframe\">\n",
       "  <thead>\n",
       "    <tr style=\"text-align: right;\">\n",
       "      <th></th>\n",
       "      <th>0</th>\n",
       "      <th>1</th>\n",
       "      <th>References to Immigration Rules</th>\n",
       "    </tr>\n",
       "  </thead>\n",
       "  <tbody>\n",
       "    <tr>\n",
       "      <th>0</th>\n",
       "      <td>Section Person intending to establish themselv...</td>\n",
       "      <td>Person intending to establish themselves in b...</td>\n",
       "      <td>{'Appendix F': 18}</td>\n",
       "    </tr>\n",
       "    <tr>\n",
       "      <th>1</th>\n",
       "      <td>Section Innovators</td>\n",
       "      <td>Innovators Requirements for leave to enter th...</td>\n",
       "      <td>{'Appendix F': 15}</td>\n",
       "    </tr>\n",
       "    <tr>\n",
       "      <th>2</th>\n",
       "      <td>Section Persons intending to establish themsel...</td>\n",
       "      <td>Persons intending to establish themselves in ...</td>\n",
       "      <td>{'Appendix F': 3}</td>\n",
       "    </tr>\n",
       "    <tr>\n",
       "      <th>3</th>\n",
       "      <td>Section Requirements for an extension of stay ...</td>\n",
       "      <td>Requirements for an extension of stay as an i...</td>\n",
       "      <td>{'Appendix F': 8}</td>\n",
       "    </tr>\n",
       "    <tr>\n",
       "      <th>4</th>\n",
       "      <td>Section Writers, composers and artists</td>\n",
       "      <td>Writers, composers and artists Requirements f...</td>\n",
       "      <td>{'Appendix F': 6}</td>\n",
       "    </tr>\n",
       "  </tbody>\n",
       "</table>\n",
       "</div>"
      ],
      "text/plain": [
       "                                                   0  \\\n",
       "0  Section Person intending to establish themselv...   \n",
       "1                                 Section Innovators   \n",
       "2  Section Persons intending to establish themsel...   \n",
       "3  Section Requirements for an extension of stay ...   \n",
       "4             Section Writers, composers and artists   \n",
       "\n",
       "                                                   1  \\\n",
       "0   Person intending to establish themselves in b...   \n",
       "1   Innovators Requirements for leave to enter th...   \n",
       "2   Persons intending to establish themselves in ...   \n",
       "3   Requirements for an extension of stay as an i...   \n",
       "4   Writers, composers and artists Requirements f...   \n",
       "\n",
       "  References to Immigration Rules  \n",
       "0              {'Appendix F': 18}  \n",
       "1              {'Appendix F': 15}  \n",
       "2               {'Appendix F': 3}  \n",
       "3               {'Appendix F': 8}  \n",
       "4               {'Appendix F': 6}  "
      ]
     },
     "execution_count": 21,
     "metadata": {},
     "output_type": "execute_result"
    }
   ],
   "source": [
    "list(docs_section_labels_ref.values())[7]"
   ]
  },
  {
   "cell_type": "code",
   "execution_count": null,
   "metadata": {},
   "outputs": [],
   "source": []
  },
  {
   "cell_type": "code",
   "execution_count": 20,
   "metadata": {},
   "outputs": [
    {
     "data": {
      "text/plain": [
       "49"
      ]
     },
     "execution_count": 20,
     "metadata": {},
     "output_type": "execute_result"
    }
   ],
   "source": [
    "len(labels_references)"
   ]
  },
  {
   "cell_type": "code",
   "execution_count": null,
   "metadata": {},
   "outputs": [],
   "source": []
  },
  {
   "cell_type": "code",
   "execution_count": null,
   "metadata": {},
   "outputs": [],
   "source": []
  }
 ],
 "metadata": {
  "kernelspec": {
   "display_name": "Python 3",
   "language": "python",
   "name": "python3"
  },
  "language_info": {
   "codemirror_mode": {
    "name": "ipython",
    "version": 3
   },
   "file_extension": ".py",
   "mimetype": "text/x-python",
   "name": "python",
   "nbconvert_exporter": "python",
   "pygments_lexer": "ipython3",
   "version": "3.7.4"
  }
 },
 "nbformat": 4,
 "nbformat_minor": 2
}
