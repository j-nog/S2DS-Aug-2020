{
 "cells": [
  {
   "cell_type": "markdown",
   "metadata": {},
   "source": [
    "# Notebook for running the script to build database instance"
   ]
  },
  {
   "cell_type": "markdown",
   "metadata": {},
   "source": [
    "We highly advise running this in a venv as supplied with the `requirements.txt` file in the `../package_nationbetter/` folder. To run the code first install required dependencies using \n",
    "```\n",
    "pip install ../package_nationbetter/ --upgrade \n",
    "``` \n",
    "When editing files in the package body `../package_nationbetter/nationbetter/` rerun the previous command to refresh the dependencies of nationbetter on the contained `.py` files which are called using the `import nationbetter` command.\n",
    "\n",
    "Running the code builds the full labeled sectioned dataset. Note this rebuilds the full library and takes a few minutes, I have not yet written the functionality to get the code to check if rebuilding the tree gives the same output -> then do not build the tree."
   ]
  },
  {
   "cell_type": "code",
   "execution_count": 1,
   "metadata": {},
   "outputs": [
    {
     "name": "stdout",
     "output_type": "stream",
     "text": [
      "Processing /Users/joao/Dropbox/Mathematics/Data Analysis/S2DS/Nation Better/Aug20_NationBetter/deliverable/package_nationbetter\n",
      "Building wheels for collected packages: NationBeter-PIVIGO-GovUKCorpusParser\n",
      "  Building wheel for NationBeter-PIVIGO-GovUKCorpusParser (setup.py) ... \u001b[?25ldone\n",
      "\u001b[?25h  Created wheel for NationBeter-PIVIGO-GovUKCorpusParser: filename=NationBeter_PIVIGO_GovUKCorpusParser-0.0.1-cp37-none-any.whl size=31447 sha256=683a830b6b7d30adca1149320030c98910c3dccdad8e3116db87e8e3c7938cf4\n",
      "  Stored in directory: /private/var/folders/_l/g2349h3j6fjf11xrwj4fmp1h0000gn/T/pip-ephem-wheel-cache-sqyso9xz/wheels/69/4c/92/21b638651813249e84a40d959802297180031081548b8f08ad\n",
      "Successfully built NationBeter-PIVIGO-GovUKCorpusParser\n",
      "Installing collected packages: NationBeter-PIVIGO-GovUKCorpusParser\n",
      "Successfully installed NationBeter-PIVIGO-GovUKCorpusParser-0.0.1\n",
      "Note: you may need to restart the kernel to use updated packages.\n"
     ]
    }
   ],
   "source": [
    "pip install ../package_nationbetter --upgrade"
   ]
  },
  {
   "cell_type": "code",
   "execution_count": null,
   "metadata": {},
   "outputs": [],
   "source": [
    "pip install -r ../package_nationbetter/requirements.txt"
   ]
  },
  {
   "cell_type": "code",
   "execution_count": null,
   "metadata": {},
   "outputs": [],
   "source": [
    "%run -i ../package_nationbetter/examples/example_build_data.py"
   ]
  },
  {
   "cell_type": "markdown",
   "metadata": {},
   "source": [
    "# Data structure"
   ]
  },
  {
   "cell_type": "code",
   "execution_count": 37,
   "metadata": {},
   "outputs": [
    {
     "data": {
      "text/plain": [
       "'/Users/EyzoStoutenAir/S2DS/Nation.Better/Aug20_NationBetter/deliverable/data_nationbetter'"
      ]
     },
     "execution_count": 37,
     "metadata": {},
     "output_type": "execute_result"
    }
   ],
   "source": [
    "import nationbetter\n",
    "import os\n",
    "\n",
    "path = nationbetter.get_data_folder(os.path.abspath(\\\n",
    "        os.path.join(__file__,'..','..','..')))\n",
    "datapath = os.path.join(path,'data_nationbetter')\n",
    "datapath"
   ]
  },
  {
   "cell_type": "markdown",
   "metadata": {},
   "source": [
    "Currently the database of extracted files is stored in the data_nationbetter folder. Each part of the extraction and cleaning up is handled by seperate files in the `package_nationbetter/nationbetter/` which write and read files using the methods in `file_handler.py`: `write_files` and `import_source_to_df` and `import_dict`. These methods by default import and export using pickle but other formats can be called as well by passing `out_type='csv'` or `out_type=json`. The readers should handle these files without any change."
   ]
  },
  {
   "cell_type": "code",
   "execution_count": 38,
   "metadata": {},
   "outputs": [
    {
     "data": {
      "text/plain": [
       "['formatted_html_dfs',\n",
       " 'formatted_pdf_dfs',\n",
       " 'labeled_corpus.pkl',\n",
       " 'raw_html_dicts',\n",
       " 'raw_pdf',\n",
       " 'raw_pdf_dicts']"
      ]
     },
     "execution_count": 38,
     "metadata": {},
     "output_type": "execute_result"
    }
   ],
   "source": [
    "folders = os.listdir(datapath)[1:]\n",
    "folders"
   ]
  },
  {
   "cell_type": "code",
   "execution_count": 39,
   "metadata": {},
   "outputs": [
    {
     "data": {
      "text/plain": [
       "['Immigration_Rules_Appendix_6_academic_subjects_that_need_a_certificate.pkl',\n",
       " 'Immigration_Rules_Appendix_7_overseas_workers_in_private_households.pkl',\n",
       " 'Immigration_Rules_Appendix_A_attributes.pkl',\n",
       " 'Immigration_Rules_Appendix_AR_(EU).pkl',\n",
       " 'Immigration_Rules_Appendix_AR_administrative_review.pkl']"
      ]
     },
     "execution_count": 39,
     "metadata": {},
     "output_type": "execute_result"
    }
   ],
   "source": [
    "html_folder = os.path.join(datapath,folders[0])\n",
    "html_file = os.listdir(html_folder)\n",
    "html_file[0:5]"
   ]
  },
  {
   "cell_type": "code",
   "execution_count": 47,
   "metadata": {},
   "outputs": [
    {
     "data": {
      "text/html": [
       "<div>\n",
       "<style scoped>\n",
       "    .dataframe tbody tr th:only-of-type {\n",
       "        vertical-align: middle;\n",
       "    }\n",
       "\n",
       "    .dataframe tbody tr th {\n",
       "        vertical-align: top;\n",
       "    }\n",
       "\n",
       "    .dataframe thead th {\n",
       "        text-align: right;\n",
       "    }\n",
       "</style>\n",
       "<table border=\"1\" class=\"dataframe\">\n",
       "  <thead>\n",
       "    <tr style=\"text-align: right;\">\n",
       "      <th></th>\n",
       "      <th>title</th>\n",
       "      <th>subtitle</th>\n",
       "      <th>subsubtitle</th>\n",
       "      <th>text_type</th>\n",
       "      <th>page_no</th>\n",
       "      <th>text</th>\n",
       "      <th>url</th>\n",
       "    </tr>\n",
       "  </thead>\n",
       "  <tbody>\n",
       "    <tr>\n",
       "      <th>0</th>\n",
       "      <td>0.0</td>\n",
       "      <td>0.0</td>\n",
       "      <td>0.0</td>\n",
       "      <td>title</td>\n",
       "      <td>1</td>\n",
       "      <td>\\n \\n \\nTier 2 and 5: Guidance for Sponsors -...</td>\n",
       "      <td>https://assets.publishing.service.gov.uk/gover...</td>\n",
       "    </tr>\n",
       "    <tr>\n",
       "      <th>1</th>\n",
       "      <td>0.0</td>\n",
       "      <td>0.0</td>\n",
       "      <td>0.0</td>\n",
       "      <td>main_text</td>\n",
       "      <td>1</td>\n",
       "      <td>\\nThis addendum was published on 19 July 2019...</td>\n",
       "      <td>https://assets.publishing.service.gov.uk/gover...</td>\n",
       "    </tr>\n",
       "    <tr>\n",
       "      <th>2</th>\n",
       "      <td>1.0</td>\n",
       "      <td>0.0</td>\n",
       "      <td>0.0</td>\n",
       "      <td>title</td>\n",
       "      <td>1</td>\n",
       "      <td>\\n \\n \\n \\n \\n \\n \\n \\n \\n \\n \\n \\nTiers 2 an...</td>\n",
       "      <td>https://assets.publishing.service.gov.uk/gover...</td>\n",
       "    </tr>\n",
       "    <tr>\n",
       "      <th>3</th>\n",
       "      <td>1.0</td>\n",
       "      <td>0.0</td>\n",
       "      <td>0.0</td>\n",
       "      <td>main_text</td>\n",
       "      <td>2</td>\n",
       "      <td>\\nVersion 07/20 \\n \\nThis guidance is to be u...</td>\n",
       "      <td>https://assets.publishing.service.gov.uk/gover...</td>\n",
       "    </tr>\n",
       "    <tr>\n",
       "      <th>4</th>\n",
       "      <td>1.0</td>\n",
       "      <td>1.0</td>\n",
       "      <td>0.0</td>\n",
       "      <td>subtitle</td>\n",
       "      <td>2</td>\n",
       "      <td>\\n \\nContents \\n</td>\n",
       "      <td>https://assets.publishing.service.gov.uk/gover...</td>\n",
       "    </tr>\n",
       "    <tr>\n",
       "      <th>...</th>\n",
       "      <td>...</td>\n",
       "      <td>...</td>\n",
       "      <td>...</td>\n",
       "      <td>...</td>\n",
       "      <td>...</td>\n",
       "      <td>...</td>\n",
       "      <td>...</td>\n",
       "    </tr>\n",
       "    <tr>\n",
       "      <th>502</th>\n",
       "      <td>51.0</td>\n",
       "      <td>5.0</td>\n",
       "      <td>0.0</td>\n",
       "      <td>main_text</td>\n",
       "      <td>208</td>\n",
       "      <td>If your application is approved, you will not ...</td>\n",
       "      <td>https://assets.publishing.service.gov.uk/gover...</td>\n",
       "    </tr>\n",
       "    <tr>\n",
       "      <th>503</th>\n",
       "      <td>51.0</td>\n",
       "      <td>6.0</td>\n",
       "      <td>0.0</td>\n",
       "      <td>subtitle</td>\n",
       "      <td>209</td>\n",
       "      <td>\\nIf your application for a licence is refuse...</td>\n",
       "      <td>https://assets.publishing.service.gov.uk/gover...</td>\n",
       "    </tr>\n",
       "    <tr>\n",
       "      <th>504</th>\n",
       "      <td>51.0</td>\n",
       "      <td>6.0</td>\n",
       "      <td>0.0</td>\n",
       "      <td>main_text</td>\n",
       "      <td>209</td>\n",
       "      <td>If we are not satisfied that you can offer gen...</td>\n",
       "      <td>https://assets.publishing.service.gov.uk/gover...</td>\n",
       "    </tr>\n",
       "    <tr>\n",
       "      <th>505</th>\n",
       "      <td>51.0</td>\n",
       "      <td>7.0</td>\n",
       "      <td>0.0</td>\n",
       "      <td>subtitle</td>\n",
       "      <td>209</td>\n",
       "      <td>\\nFurther information \\n</td>\n",
       "      <td>https://assets.publishing.service.gov.uk/gover...</td>\n",
       "    </tr>\n",
       "    <tr>\n",
       "      <th>506</th>\n",
       "      <td>51.0</td>\n",
       "      <td>7.0</td>\n",
       "      <td>0.0</td>\n",
       "      <td>main_text</td>\n",
       "      <td>209</td>\n",
       "      <td>Further information on the new points-based sy...</td>\n",
       "      <td>https://assets.publishing.service.gov.uk/gover...</td>\n",
       "    </tr>\n",
       "  </tbody>\n",
       "</table>\n",
       "<p>507 rows × 7 columns</p>\n",
       "</div>"
      ],
      "text/plain": [
       "     title  subtitle  subsubtitle  text_type  page_no  \\\n",
       "0      0.0       0.0          0.0      title        1   \n",
       "1      0.0       0.0          0.0  main_text        1   \n",
       "2      1.0       0.0          0.0      title        1   \n",
       "3      1.0       0.0          0.0  main_text        2   \n",
       "4      1.0       1.0          0.0   subtitle        2   \n",
       "..     ...       ...          ...        ...      ...   \n",
       "502   51.0       5.0          0.0  main_text      208   \n",
       "503   51.0       6.0          0.0   subtitle      209   \n",
       "504   51.0       6.0          0.0  main_text      209   \n",
       "505   51.0       7.0          0.0   subtitle      209   \n",
       "506   51.0       7.0          0.0  main_text      209   \n",
       "\n",
       "                                                  text  \\\n",
       "0     \\n \\n \\nTier 2 and 5: Guidance for Sponsors -...   \n",
       "1     \\nThis addendum was published on 19 July 2019...   \n",
       "2     \\n \\n \\n \\n \\n \\n \\n \\n \\n \\n \\n \\nTiers 2 an...   \n",
       "3     \\nVersion 07/20 \\n \\nThis guidance is to be u...   \n",
       "4                                     \\n \\nContents \\n   \n",
       "..                                                 ...   \n",
       "502  If your application is approved, you will not ...   \n",
       "503   \\nIf your application for a licence is refuse...   \n",
       "504  If we are not satisfied that you can offer gen...   \n",
       "505                           \\nFurther information \\n   \n",
       "506  Further information on the new points-based sy...   \n",
       "\n",
       "                                                   url  \n",
       "0    https://assets.publishing.service.gov.uk/gover...  \n",
       "1    https://assets.publishing.service.gov.uk/gover...  \n",
       "2    https://assets.publishing.service.gov.uk/gover...  \n",
       "3    https://assets.publishing.service.gov.uk/gover...  \n",
       "4    https://assets.publishing.service.gov.uk/gover...  \n",
       "..                                                 ...  \n",
       "502  https://assets.publishing.service.gov.uk/gover...  \n",
       "503  https://assets.publishing.service.gov.uk/gover...  \n",
       "504  https://assets.publishing.service.gov.uk/gover...  \n",
       "505  https://assets.publishing.service.gov.uk/gover...  \n",
       "506  https://assets.publishing.service.gov.uk/gover...  \n",
       "\n",
       "[507 rows x 7 columns]"
      ]
     },
     "execution_count": 47,
     "metadata": {},
     "output_type": "execute_result"
    }
   ],
   "source": [
    "folder_no = 1\n",
    "file_no = 2\n",
    "file = os.listdir(os.path.join(datapath,folders[folder_no]))\n",
    "nationbetter.import_source_to_df(os.path.join(datapath,folders[folder_no],file[file_no]))"
   ]
  },
  {
   "cell_type": "code",
   "execution_count": 33,
   "metadata": {},
   "outputs": [
    {
     "name": "stdout",
     "output_type": "stream",
     "text": [
      "To access one of the files in formatted_pdf_dfs and formatted_html_dfs,        select the wanted name from\n",
      " ['2020-07-13_Tier_2_Policy_Guidance.pkl', '2020-07-16_Tier-2-5-sponsor-guidance_Jul-2020_v1.pkl', 'calculating-continuous-leave-v21.pkl', 'english-language-v17.pkl', 'Final_Tier_5_Temporary_Worker_Guidance_05-04-19.pkl', 'good-character-guidance.pkl', 'Guide-AN_-_July_20.pkl', 'naturalisation-as-a-british-citizen-by-discretion-v5.pkl', 'sponsorguideappBfrom060412.pkl']\n",
      " ['Immigration_Rules_Appendix_7_overseas_workers_in_private_households.pkl', 'Immigration_Rules_Appendix_A_attributes.pkl', 'Immigration_Rules_Appendix_AR_(EU).pkl', 'Immigration_Rules_Appendix_AR_administrative_review.pkl', 'Immigration_Rules_Appendix_Armed_Forces.pkl', 'Immigration_Rules_Appendix_B_English_language.pkl', 'Immigration_Rules_Appendix_C_maintenance_(funds).pkl', 'Immigration_Rules_Appendix_D_highly_skilled_migrants.pkl', 'Immigration_Rules_Appendix_E_maintenance_(funds)_for_the_family_of_Relevant_Points_Based_System_Migrants__.pkl', 'Immigration_Rules_Appendix_ECAA.pkl', 'Immigration_Rules_Appendix_EU.pkl', 'Immigration_Rules_Appendix_EU_(Family_Permit).pkl', 'Immigration_Rules_Appendix_F_archived_Immigration_Rules.pkl', 'Immigration_Rules_Appendix_FM-SE_family_members_specified_evidence.pkl', 'Immigration_Rules_Appendix_FM_family_members.pkl', 'Immigration_Rules_Appendix_G_Youth_Mobility_Scheme.pkl', 'Immigration_Rules_Appendix_H_Tier_4_documentary_requirements.pkl', 'Immigration_Rules_Appendix_J_codes_of_practice_for_skilled_work.pkl', 'Immigration_Rules_Appendix_K_shortage_occupation_list.pkl', 'Immigration_Rules_Appendix_KoLL.pkl', 'Immigration_Rules_Appendix_M_sports_governing_bodies.pkl', 'Immigration_Rules_Appendix_N_authorised_exchange_schemes.pkl', 'Immigration_rules_Appendix_O_approved_English_language_tests.pkl', 'Immigration_Rules_Appendix_P_lists_of_financial_institutions.pkl', 'Immigration_Rules_Appendix_SN_Service_of_notices.pkl', 'Immigration_Rules_Appendix_T_tuberculosis_screening.pkl', 'Immigration_Rules_Appendix_U_Seasonal_Worker_Scheme.pkl', 'Immigration_Rules_Appendix_V_visitor_rules.pkl', 'Immigration_Rules_Appendix_W_Immigration_Rules_for_Workers.pkl', 'Immigration_Rules_Index.pkl', 'Immigration_Rules_introduction.pkl', 'Immigration_Rules_part_10_registering_with_the_police.pkl', 'Immigration_Rules_part_11_asylum.pkl', 'Immigration_Rules_part_11A_temporary_protection.pkl', 'Immigration_Rules_part_11B.pkl', 'Immigration_Rules_part_12_Procedure_and_rights_of_appeal.pkl', 'Immigration_Rules_part_13_deportation.pkl', 'Immigration_Rules_part_14_stateless_persons.pkl', 'Immigration_Rules_part_15_condition_to_hold_an_ATAS_clearance_certificate.pkl', 'Immigration_Rules_part_1_leave_to_enter_or_stay_in_the_UK.pkl', 'Immigration_Rules_part_2_transitional_provisions_.pkl', 'Immigration_Rules_part_3_students.pkl', 'Immigration_Rules_part_4_work_experience.pkl', 'Immigration_Rules_part_5_working_in_the_UK.pkl', 'Immigration_Rules_part_6_self-employment_and_business_people.pkl', 'Immigration_Rules_part_6A_the_points-based_system.pkl', 'Immigration_Rules_part_7_other_categories.pkl', 'Immigration_Rules_part_8_family_members.pkl', 'Immigration_Rules_part_9_grounds_for_refusal.pkl']\n",
      " using indexing\n",
      "Now the dict is in some_html_dict, see?:\n",
      "    section  subsection  is table  \\\n",
      "0        0           0     False   \n",
      "1        0           1     False   \n",
      "2        1           0     False   \n",
      "3        1           0     False   \n",
      "4        2           0     False   \n",
      "\n",
      "                                              string  \n",
      "0  Immigration Rules Appendix AR (EU)\\nAdministra...  \n",
      "1                                   Appendix AR (EU)  \n",
      "2                                 Eligible decisions  \n",
      "3  AR(EU)A1. An application for administrative re...  \n",
      "4                                      Consideration  \n"
     ]
    }
   ],
   "source": [
    "%run -i ../package_nationbetter/examples/example_retrieve_dataframes.py"
   ]
  }
 ],
 "metadata": {
  "kernelspec": {
   "display_name": "Python 3",
   "language": "python",
   "name": "python3"
  },
  "language_info": {
   "codemirror_mode": {
    "name": "ipython",
    "version": 3
   },
   "file_extension": ".py",
   "mimetype": "text/x-python",
   "name": "python",
   "nbconvert_exporter": "python",
   "pygments_lexer": "ipython3",
   "version": "3.7.4"
  }
 },
 "nbformat": 4,
 "nbformat_minor": 4
}
