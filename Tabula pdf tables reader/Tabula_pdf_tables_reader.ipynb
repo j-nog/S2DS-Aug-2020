{
 "cells": [
  {
   "cell_type": "code",
   "execution_count": 3,
   "metadata": {},
   "outputs": [
    {
     "name": "stdout",
     "output_type": "stream",
     "text": [
      "Collecting tabula-py\n",
      "\u001b[?25l  Downloading https://files.pythonhosted.org/packages/8d/ed/20655a47a603430272c995d908d0dd96f93c2aa8973c8a55a66c8f3b8dfe/tabula_py-2.1.1-py3-none-any.whl (10.4MB)\n",
      "\u001b[K     |████████████████████████████████| 10.4MB 1.2MB/s eta 0:00:01\n",
      "\u001b[?25hCollecting distro (from tabula-py)\n",
      "  Downloading https://files.pythonhosted.org/packages/25/b7/b3c4270a11414cb22c6352ebc7a83aaa3712043be29daa05018fd5a5c956/distro-1.5.0-py2.py3-none-any.whl\n",
      "Requirement already satisfied: numpy in /opt/anaconda3/lib/python3.7/site-packages (from tabula-py) (1.17.2)\n",
      "Collecting pandas>=0.25.3 (from tabula-py)\n",
      "\u001b[?25l  Downloading https://files.pythonhosted.org/packages/2f/30/5ab95bee54e0221160af169bdb36c2eb5c65e0549a4c143d54aa515e2f27/pandas-1.1.0-cp37-cp37m-macosx_10_9_x86_64.whl (10.4MB)\n",
      "\u001b[K     |████████████████████████████████| 10.4MB 2.0MB/s eta 0:00:01\n",
      "\u001b[?25hRequirement already satisfied: pytz>=2017.2 in /opt/anaconda3/lib/python3.7/site-packages (from pandas>=0.25.3->tabula-py) (2019.3)\n",
      "Requirement already satisfied: python-dateutil>=2.7.3 in /opt/anaconda3/lib/python3.7/site-packages (from pandas>=0.25.3->tabula-py) (2.8.0)\n",
      "Requirement already satisfied: six>=1.5 in /opt/anaconda3/lib/python3.7/site-packages (from python-dateutil>=2.7.3->pandas>=0.25.3->tabula-py) (1.12.0)\n",
      "Installing collected packages: distro, pandas, tabula-py\n",
      "  Found existing installation: pandas 0.25.1\n",
      "    Uninstalling pandas-0.25.1:\n",
      "      Successfully uninstalled pandas-0.25.1\n",
      "Successfully installed distro-1.5.0 pandas-1.1.0 tabula-py-2.1.1\n",
      "Note: you may need to restart the kernel to use updated packages.\n"
     ]
    }
   ],
   "source": [
    "pip install tabula-py"
   ]
  },
  {
   "cell_type": "code",
   "execution_count": 2,
   "metadata": {},
   "outputs": [],
   "source": [
    "import tabula"
   ]
  },
  {
   "cell_type": "code",
   "execution_count": 3,
   "metadata": {},
   "outputs": [],
   "source": [
    "pdf_file = [\"AppendixB_IMMIGRATION_OFFENCES.pdf\", \"Tier_2_Policy_Guidance.pdf\"]"
   ]
  },
  {
   "cell_type": "code",
   "execution_count": null,
   "metadata": {},
   "outputs": [],
   "source": []
  },
  {
   "cell_type": "code",
   "execution_count": 26,
   "metadata": {
    "scrolled": true
   },
   "outputs": [],
   "source": [
    "df_loc = tabula.read_pdf(pdf_file[1], output_format=\"json\", pages='all')"
   ]
  },
  {
   "cell_type": "code",
   "execution_count": 37,
   "metadata": {
    "scrolled": true
   },
   "outputs": [
    {
     "name": "stdout",
     "output_type": "stream",
     "text": [
      "86.399925 69.47999 145.32012939453125 483.23883056640625\n"
     ]
    }
   ],
   "source": [
    "print(df_loc[5]['top'], df_loc[5]['left'], df_loc[5]['height'], df_loc[5]['width'])"
   ]
  },
  {
   "cell_type": "code",
   "execution_count": 48,
   "metadata": {},
   "outputs": [
    {
     "ename": "NameError",
     "evalue": "name 'df_loc' is not defined",
     "output_type": "error",
     "traceback": [
      "\u001b[0;31m---------------------------------------------------------------------------\u001b[0m",
      "\u001b[0;31mNameError\u001b[0m                                 Traceback (most recent call last)",
      "\u001b[0;32m<ipython-input-48-337251401db8>\u001b[0m in \u001b[0;36m<module>\u001b[0;34m\u001b[0m\n\u001b[0;32m----> 1\u001b[0;31m \u001b[0mdf_loc\u001b[0m\u001b[0;34m[\u001b[0m\u001b[0;36m5\u001b[0m\u001b[0;34m]\u001b[0m\u001b[0;34m\u001b[0m\u001b[0;34m\u001b[0m\u001b[0m\n\u001b[0m",
      "\u001b[0;31mNameError\u001b[0m: name 'df_loc' is not defined"
     ]
    }
   ],
   "source": [
    "df_loc[5]"
   ]
  },
  {
   "cell_type": "code",
   "execution_count": 41,
   "metadata": {},
   "outputs": [
    {
     "data": {
      "text/plain": [
       "{'extraction_method': 'lattice',\n",
       " 'top': 316.16492,\n",
       " 'left': 42.924305,\n",
       " 'width': 446.3509521484375,\n",
       " 'height': 99.30999755859375,\n",
       " 'right': 489.27527,\n",
       " 'bottom': 415.4749,\n",
       " 'data': [[{'top': 316.16492,\n",
       "    'left': 42.924305,\n",
       "    'width': 198.3955841064453,\n",
       "    'height': 42.3951416015625,\n",
       "    'text': 'Standard Occupational\\rClassification (SOC) code and\\rdescription'},\n",
       "   {'top': 316.16492,\n",
       "    'left': 241.31989,\n",
       "    'width': 247.95538330078125,\n",
       "    'height': 42.3951416015625,\n",
       "    'text': 'Job titles included on the United\\rKingdom Shortage Occupation List and\\rfurther criteria'}],\n",
       "  [{'top': 358.56006,\n",
       "    'left': 42.924305,\n",
       "    'width': 198.3955841064453,\n",
       "    'height': 56.91485595703125,\n",
       "    'text': '2114\\rSocial and humanities scientists'},\n",
       "   {'top': 358.56006,\n",
       "    'left': 241.31989,\n",
       "    'width': 247.95538330078125,\n",
       "    'height': 56.91485595703125,\n",
       "    'text': 'Only the following jobs in this occupation\\rcode:\\r•Archaeologists'}]]}"
      ]
     },
     "execution_count": 41,
     "metadata": {},
     "output_type": "execute_result"
    }
   ],
   "source": [
    "df[0]"
   ]
  },
  {
   "cell_type": "code",
   "execution_count": null,
   "metadata": {},
   "outputs": [],
   "source": []
  },
  {
   "cell_type": "code",
   "execution_count": null,
   "metadata": {},
   "outputs": [],
   "source": []
  },
  {
   "cell_type": "code",
   "execution_count": 42,
   "metadata": {},
   "outputs": [],
   "source": [
    "df = tabula.read_pdf(pdf_file[1], pages='all')"
   ]
  },
  {
   "cell_type": "code",
   "execution_count": 47,
   "metadata": {},
   "outputs": [
    {
     "data": {
      "text/html": [
       "<div>\n",
       "<style scoped>\n",
       "    .dataframe tbody tr th:only-of-type {\n",
       "        vertical-align: middle;\n",
       "    }\n",
       "\n",
       "    .dataframe tbody tr th {\n",
       "        vertical-align: top;\n",
       "    }\n",
       "\n",
       "    .dataframe thead th {\n",
       "        text-align: right;\n",
       "    }\n",
       "</style>\n",
       "<table border=\"1\" class=\"dataframe\">\n",
       "  <thead>\n",
       "    <tr style=\"text-align: right;\">\n",
       "      <th></th>\n",
       "      <th>Criterion</th>\n",
       "      <th>Points</th>\n",
       "    </tr>\n",
       "  </thead>\n",
       "  <tbody>\n",
       "    <tr>\n",
       "      <th>0</th>\n",
       "      <td>Certificate of Sponsorship</td>\n",
       "      <td>30</td>\n",
       "    </tr>\n",
       "    <tr>\n",
       "      <th>1</th>\n",
       "      <td>Appropriate salary</td>\n",
       "      <td>20</td>\n",
       "    </tr>\n",
       "  </tbody>\n",
       "</table>\n",
       "</div>"
      ],
      "text/plain": [
       "                    Criterion  Points\n",
       "0  Certificate of Sponsorship      30\n",
       "1          Appropriate salary      20"
      ]
     },
     "execution_count": 47,
     "metadata": {},
     "output_type": "execute_result"
    }
   ],
   "source": [
    "df[4]"
   ]
  },
  {
   "cell_type": "code",
   "execution_count": null,
   "metadata": {},
   "outputs": [],
   "source": []
  }
 ],
 "metadata": {
  "kernelspec": {
   "display_name": "Python 3",
   "language": "python",
   "name": "python3"
  },
  "language_info": {
   "codemirror_mode": {
    "name": "ipython",
    "version": 3
   },
   "file_extension": ".py",
   "mimetype": "text/x-python",
   "name": "python",
   "nbconvert_exporter": "python",
   "pygments_lexer": "ipython3",
   "version": "3.7.4"
  }
 },
 "nbformat": 4,
 "nbformat_minor": 2
}
