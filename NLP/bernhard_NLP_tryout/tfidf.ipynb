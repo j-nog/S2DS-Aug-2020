{
 "cells": [
  {
   "cell_type": "code",
   "execution_count": 2,
   "metadata": {},
   "outputs": [],
   "source": [
    "import numpy as np"
   ]
  },
  {
   "cell_type": "code",
   "execution_count": 22,
   "metadata": {},
   "outputs": [],
   "source": [
    "def get_idf_vector(corpus):\n",
    "    \"\"\"\n",
    "    corpus : list of list of str\n",
    "        list of \"documents\" (smallest units of text).\n",
    "        A \"document\" is a list of distinct strings, i.e. a list of distinct terms.\n",
    "    returns : ()\n",
    "    \"\"\"\n",
    "    term_list = []\n",
    "    for doc in corpus:\n",
    "        for term in doc:\n",
    "            if not term in term_list:\n",
    "                term_list.append(term)\n",
    "    \n",
    "    n_documents = len(corpus)\n",
    "    print(n_documents)\n",
    "    #document frequency vector\n",
    "    doc_freq = np.zeros(len(term_list))\n",
    "    \n",
    "    for doc in corpus:\n",
    "        for term in doc:\n",
    "            doc_freq[term_list.index(term)] += 1\n",
    "            \n",
    "    idf = np.log(n_documents/(doc_freq))\n",
    "    \n",
    "    return idf,term_list,doc_freq\n",
    "\n",
    "\n",
    "def get_tf_vector(terms,term_list,normalize=True):\n",
    "    \"\"\"\n",
    "    Generates a term frequency vector\n",
    "    terms : list of (str, int) \n",
    "        list of terms with their number of occurence\n",
    "    vocab : list of str\n",
    "        list of all distinct terms. Word vectors will be constructed according to their order\n",
    "    normalize : bool\n",
    "        normalize the term frequency vector if true.\n",
    "    \"\"\"\n",
    "    \n",
    "    tf = np.zeros(len(term_list))\n",
    "    for term in terms:\n",
    "        if term[0] in term_list:\n",
    "            tf[vocab.index(term[0])] = term[1]\n",
    "        \n",
    "    if normalize:\n",
    "        tf_length = np.sqrt(np.sum(tf**2))\n",
    "        if tf_length > 1e-15:\n",
    "            tf /= tf_length\n",
    "    \n",
    "    return tf\n",
    "\n",
    "\n",
    "def cos_similarity(v1,v2):\n",
    "    \"\"\"\n",
    "    Cosine similarity of two vectors\n",
    "    v1 : 1d array_like\n",
    "    v2 : 1d array_like\n",
    "    returns: float\n",
    "    \"\"\"\n",
    "    angle = np.arccos(np.dot(v1,v2)/np.sqrt(np.sum(v1**2)*np.sum(v2**2)))\n",
    "    return 1 - angle/np.pi"
   ]
  },
  {
   "cell_type": "code",
   "execution_count": 23,
   "metadata": {},
   "outputs": [],
   "source": [
    "test_corpus = [[\"foo\",\"bar\",\"baz\"],[\"alpha\",\"beta\"],[\"foo\",\"alpha\"]]"
   ]
  },
  {
   "cell_type": "code",
   "execution_count": 24,
   "metadata": {},
   "outputs": [
    {
     "name": "stdout",
     "output_type": "stream",
     "text": [
      "3\n"
     ]
    },
    {
     "data": {
      "text/plain": [
       "['foo', 'bar', 'baz', 'alpha', 'beta']"
      ]
     },
     "execution_count": 24,
     "metadata": {},
     "output_type": "execute_result"
    }
   ],
   "source": [
    "idf,vocab,doc_freq = get_idf_vector(test_corpus)\n",
    "\n",
    "\n",
    "vocab\n",
    "\n"
   ]
  },
  {
   "cell_type": "code",
   "execution_count": 25,
   "metadata": {},
   "outputs": [
    {
     "data": {
      "text/plain": [
       "array([0.38465798, 0.        , 0.34741171, 0.        , 0.        ])"
      ]
     },
     "execution_count": 25,
     "metadata": {},
     "output_type": "execute_result"
    }
   ],
   "source": [
    "query_terms = [(\"foo\",3),(\"baz\",1),(\"beef\",1)]\n",
    "get_tf_vector(query_terms,vocab)*idf\n",
    "#get_tf_vector([(\"foo\",3),(\"baz\",1),(\"beef\",1)],vocab)*idf"
   ]
  },
  {
   "cell_type": "code",
   "execution_count": 26,
   "metadata": {},
   "outputs": [
    {
     "name": "stdout",
     "output_type": "stream",
     "text": [
      "[0.38465798 0.         0.34741171 0.         0.        ]\n",
      "[0.33736736 0.         0.60940045 0.         0.        ]\n"
     ]
    },
    {
     "data": {
      "text/plain": [
       "0.8947586886875564"
      ]
     },
     "execution_count": 26,
     "metadata": {},
     "output_type": "execute_result"
    }
   ],
   "source": [
    "terms1 = [(\"foo\",3),(\"baz\",1),(\"beef\",1)]\n",
    "terms2 = [(\"foo\",3),(\"baz\",2),(\"beef\",1)]\n",
    "\n",
    "v1 = get_tf_vector(terms1,vocab)*idf\n",
    "v2 = get_tf_vector(terms2,vocab)*idf\n",
    "\n",
    "print(v1)\n",
    "print(v2)\n",
    "\n",
    "cos_similarity(v1,v2)\n"
   ]
  },
  {
   "cell_type": "code",
   "execution_count": 27,
   "metadata": {},
   "outputs": [
    {
     "data": {
      "text/plain": [
       "['foo', 'baz', 'beef']"
      ]
     },
     "execution_count": 27,
     "metadata": {},
     "output_type": "execute_result"
    }
   ],
   "source": [
    "list(list(zip(*terms1))[0])"
   ]
  },
  {
   "cell_type": "code",
   "execution_count": null,
   "metadata": {},
   "outputs": [],
   "source": []
  }
 ],
 "metadata": {
  "kernelspec": {
   "display_name": "Python 3",
   "language": "python",
   "name": "python3"
  },
  "language_info": {
   "codemirror_mode": {
    "name": "ipython",
    "version": 3
   },
   "file_extension": ".py",
   "mimetype": "text/x-python",
   "name": "python",
   "nbconvert_exporter": "python",
   "pygments_lexer": "ipython3",
   "version": "3.7.7"
  }
 },
 "nbformat": 4,
 "nbformat_minor": 4
}
