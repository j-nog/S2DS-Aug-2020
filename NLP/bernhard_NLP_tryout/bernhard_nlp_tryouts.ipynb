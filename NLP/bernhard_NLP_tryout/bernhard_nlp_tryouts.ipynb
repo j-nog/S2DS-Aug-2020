{
 "cells": [
  {
   "cell_type": "code",
   "execution_count": 1,
   "metadata": {},
   "outputs": [],
   "source": [
    "import pandas as pd\n",
    "import spacy\n",
    "import numpy as np\n",
    "import matplotlib.pyplot as plt\n",
    "import seaborn as sns\n"
   ]
  },
  {
   "cell_type": "code",
   "execution_count": 2,
   "metadata": {},
   "outputs": [],
   "source": [
    "string = \"The quick brown fox jumps over the lazy dog.\""
   ]
  },
  {
   "cell_type": "code",
   "execution_count": 3,
   "metadata": {},
   "outputs": [],
   "source": [
    "nlp = spacy.load(\"en_core_web_md\")"
   ]
  },
  {
   "cell_type": "code",
   "execution_count": 4,
   "metadata": {},
   "outputs": [],
   "source": [
    "tokens = nlp(string)\n",
    "tokens_str = []\n",
    "for token in tokens:\n",
    "    tokens_str.append(str(token))"
   ]
  },
  {
   "cell_type": "code",
   "execution_count": 5,
   "metadata": {},
   "outputs": [],
   "source": [
    "similarity_matrix = np.zeros((len(tokens),len(tokens)))\n",
    "\n",
    "for (ii,token1) in enumerate(tokens):\n",
    "    for (jj,token2) in enumerate(tokens):\n",
    "        similarity_matrix[ii,jj] = token1.similarity(token2)"
   ]
  },
  {
   "cell_type": "code",
   "execution_count": 6,
   "metadata": {},
   "outputs": [
    {
     "data": {
      "text/plain": [
       "<matplotlib.colorbar.Colorbar at 0x201875db348>"
      ]
     },
     "execution_count": 6,
     "metadata": {},
     "output_type": "execute_result"
    },
    {
     "data": {
      "image/png": "[encoded data removed]",
      "text/plain": [
       "<Figure size 288x288 with 2 Axes>"
      ]
     },
     "metadata": {
      "needs_background": "light"
     },
     "output_type": "display_data"
    }
   ],
   "source": [
    "plt.matshow(similarity_matrix)\n",
    "plt.colorbar()"
   ]
  },
  {
   "cell_type": "code",
   "execution_count": 7,
   "metadata": {},
   "outputs": [
    {
     "name": "stdout",
     "output_type": "stream",
     "text": [
      "fox\n",
      "dog\n"
     ]
    }
   ],
   "source": [
    "print(tokens[3])\n",
    "print(tokens[8])"
   ]
  },
  {
   "cell_type": "code",
   "execution_count": 8,
   "metadata": {},
   "outputs": [
    {
     "data": {
      "text/plain": [
       "<matplotlib.axes._subplots.AxesSubplot at 0x201a89a8088>"
      ]
     },
     "execution_count": 8,
     "metadata": {},
     "output_type": "execute_result"
    },
    {
     "data": {
      "image/png": "[encoded data removed]",
      "text/plain": [
       "<Figure size 432x288 with 2 Axes>"
      ]
     },
     "metadata": {
      "needs_background": "light"
     },
     "output_type": "display_data"
    }
   ],
   "source": [
    "sns.heatmap(similarity_matrix,xticklabels=tokens_str,yticklabels=tokens_str)"
   ]
  },
  {
   "cell_type": "code",
   "execution_count": 9,
   "metadata": {},
   "outputs": [],
   "source": [
    "scrape_df = pd.read_csv(\"../../data cleaning/immigration_rules_scrape.csv\", encoding='utf-8')"
   ]
  },
  {
   "cell_type": "code",
   "execution_count": 10,
   "metadata": {},
   "outputs": [
    {
     "data": {
      "text/html": [
       "<div>\n",
       "<style scoped>\n",
       "    .dataframe tbody tr th:only-of-type {\n",
       "        vertical-align: middle;\n",
       "    }\n",
       "\n",
       "    .dataframe tbody tr th {\n",
       "        vertical-align: top;\n",
       "    }\n",
       "\n",
       "    .dataframe thead th {\n",
       "        text-align: right;\n",
       "    }\n",
       "</style>\n",
       "<table border=\"1\" class=\"dataframe\">\n",
       "  <thead>\n",
       "    <tr style=\"text-align: right;\">\n",
       "      <th></th>\n",
       "      <th>URL</th>\n",
       "      <th>media type</th>\n",
       "      <th>title</th>\n",
       "      <th>text_dump</th>\n",
       "      <th>text_segmented</th>\n",
       "      <th>hyperlinks_dump</th>\n",
       "      <th>timestamp</th>\n",
       "    </tr>\n",
       "  </thead>\n",
       "  <tbody>\n",
       "    <tr>\n",
       "      <th>0</th>\n",
       "      <td>https://www.gov.uk/guidance/immigration-rules/...</td>\n",
       "      <td>text/html</td>\n",
       "      <td>Immigration Rules: Index</td>\n",
       "      <td>\\nImmigration Rules: Index\\nThe rules are divi...</td>\n",
       "      <td>[('text', 'Immigration Rules: Index\\nThe rules...</td>\n",
       "      <td>['https://www.gov.uk/guidance/immigration-rule...</td>\n",
       "      <td>2020-08-19T13:29:45+00:00</td>\n",
       "    </tr>\n",
       "    <tr>\n",
       "      <th>1</th>\n",
       "      <td>https://www.gov.uk/guidance/immigration-rules/...</td>\n",
       "      <td>text/html</td>\n",
       "      <td>Immigration Rules: introduction</td>\n",
       "      <td>\\nImmigration Rules: introduction\\nThis contai...</td>\n",
       "      <td>[('text', 'Immigration Rules: introduction\\nTh...</td>\n",
       "      <td>[]</td>\n",
       "      <td>2020-08-19T13:29:46+00:00</td>\n",
       "    </tr>\n",
       "    <tr>\n",
       "      <th>2</th>\n",
       "      <td>https://www.gov.uk/guidance/immigration-rules/...</td>\n",
       "      <td>text/html</td>\n",
       "      <td>Immigration Rules part 1: leave to enter or st...</td>\n",
       "      <td>\\nImmigration Rules part 1: leave to enter or ...</td>\n",
       "      <td>[('text', 'Immigration Rules part 1: leave to ...</td>\n",
       "      <td>[]</td>\n",
       "      <td>2020-08-19T13:29:46+00:00</td>\n",
       "    </tr>\n",
       "    <tr>\n",
       "      <th>3</th>\n",
       "      <td>https://www.gov.uk/guidance/immigration-rules/...</td>\n",
       "      <td>text/html</td>\n",
       "      <td>Immigration Rules part 2: transitional provisi...</td>\n",
       "      <td>\\nImmigration Rules part 2: transitional provi...</td>\n",
       "      <td>[('text', 'Immigration Rules part 2: transitio...</td>\n",
       "      <td>[]</td>\n",
       "      <td>2020-08-19T13:29:47+00:00</td>\n",
       "    </tr>\n",
       "    <tr>\n",
       "      <th>4</th>\n",
       "      <td>https://www.gov.uk/guidance/immigration-rules/...</td>\n",
       "      <td>text/html</td>\n",
       "      <td>Immigration Rules part 3: students</td>\n",
       "      <td>\\nImmigration Rules part 3: students\\nPersons ...</td>\n",
       "      <td>[('text', 'Immigration Rules part 3: students\\...</td>\n",
       "      <td>[]</td>\n",
       "      <td>2020-08-19T13:29:48+00:00</td>\n",
       "    </tr>\n",
       "    <tr>\n",
       "      <th>5</th>\n",
       "      <td>https://www.gov.uk/guidance/immigration-rules/...</td>\n",
       "      <td>text/html</td>\n",
       "      <td>Immigration Rules part 4: work experience</td>\n",
       "      <td>\\nImmigration Rules part 4: work experience\\nP...</td>\n",
       "      <td>[('text', 'Immigration Rules part 4: work expe...</td>\n",
       "      <td>[]</td>\n",
       "      <td>2020-08-19T13:29:49+00:00</td>\n",
       "    </tr>\n",
       "    <tr>\n",
       "      <th>6</th>\n",
       "      <td>https://www.gov.uk/guidance/immigration-rules/...</td>\n",
       "      <td>text/html</td>\n",
       "      <td>Immigration Rules part 5: working in the UK</td>\n",
       "      <td>\\nImmigration Rules part 5: working in the UK\\...</td>\n",
       "      <td>[('text', 'Immigration Rules part 5: working i...</td>\n",
       "      <td>[]</td>\n",
       "      <td>2020-08-19T13:29:50+00:00</td>\n",
       "    </tr>\n",
       "    <tr>\n",
       "      <th>7</th>\n",
       "      <td>https://www.gov.uk/guidance/immigration-rules/...</td>\n",
       "      <td>text/html</td>\n",
       "      <td>Immigration Rules part 6: self-employment and ...</td>\n",
       "      <td>\\nImmigration Rules part 6: self-employment an...</td>\n",
       "      <td>[('text', 'Immigration Rules part 6: self-empl...</td>\n",
       "      <td>[]</td>\n",
       "      <td>2020-08-19T13:29:51+00:00</td>\n",
       "    </tr>\n",
       "    <tr>\n",
       "      <th>8</th>\n",
       "      <td>https://www.gov.uk/guidance/immigration-rules/...</td>\n",
       "      <td>text/html</td>\n",
       "      <td>Immigration Rules part 6A: the points-based sy...</td>\n",
       "      <td>\\nImmigration Rules part 6A: the points-based ...</td>\n",
       "      <td>[('text', 'Immigration Rules part 6A: the poin...</td>\n",
       "      <td>[]</td>\n",
       "      <td>2020-08-19T13:29:52+00:00</td>\n",
       "    </tr>\n",
       "    <tr>\n",
       "      <th>9</th>\n",
       "      <td>https://www.gov.uk/guidance/immigration-rules/...</td>\n",
       "      <td>text/html</td>\n",
       "      <td>Immigration Rules part 7: other categories</td>\n",
       "      <td>\\nImmigration Rules part 7: other categories\\n...</td>\n",
       "      <td>[('text', 'Immigration Rules part 7: other cat...</td>\n",
       "      <td>[]</td>\n",
       "      <td>2020-08-19T13:29:55+00:00</td>\n",
       "    </tr>\n",
       "  </tbody>\n",
       "</table>\n",
       "</div>"
      ],
      "text/plain": [
       "                                                 URL media type  \\\n",
       "0  https://www.gov.uk/guidance/immigration-rules/...  text/html   \n",
       "1  https://www.gov.uk/guidance/immigration-rules/...  text/html   \n",
       "2  https://www.gov.uk/guidance/immigration-rules/...  text/html   \n",
       "3  https://www.gov.uk/guidance/immigration-rules/...  text/html   \n",
       "4  https://www.gov.uk/guidance/immigration-rules/...  text/html   \n",
       "5  https://www.gov.uk/guidance/immigration-rules/...  text/html   \n",
       "6  https://www.gov.uk/guidance/immigration-rules/...  text/html   \n",
       "7  https://www.gov.uk/guidance/immigration-rules/...  text/html   \n",
       "8  https://www.gov.uk/guidance/immigration-rules/...  text/html   \n",
       "9  https://www.gov.uk/guidance/immigration-rules/...  text/html   \n",
       "\n",
       "                                               title  \\\n",
       "0                           Immigration Rules: Index   \n",
       "1                    Immigration Rules: introduction   \n",
       "2  Immigration Rules part 1: leave to enter or st...   \n",
       "3  Immigration Rules part 2: transitional provisi...   \n",
       "4                 Immigration Rules part 3: students   \n",
       "5          Immigration Rules part 4: work experience   \n",
       "6        Immigration Rules part 5: working in the UK   \n",
       "7  Immigration Rules part 6: self-employment and ...   \n",
       "8  Immigration Rules part 6A: the points-based sy...   \n",
       "9         Immigration Rules part 7: other categories   \n",
       "\n",
       "                                           text_dump  \\\n",
       "0  \\nImmigration Rules: Index\\nThe rules are divi...   \n",
       "1  \\nImmigration Rules: introduction\\nThis contai...   \n",
       "2  \\nImmigration Rules part 1: leave to enter or ...   \n",
       "3  \\nImmigration Rules part 2: transitional provi...   \n",
       "4  \\nImmigration Rules part 3: students\\nPersons ...   \n",
       "5  \\nImmigration Rules part 4: work experience\\nP...   \n",
       "6  \\nImmigration Rules part 5: working in the UK\\...   \n",
       "7  \\nImmigration Rules part 6: self-employment an...   \n",
       "8  \\nImmigration Rules part 6A: the points-based ...   \n",
       "9  \\nImmigration Rules part 7: other categories\\n...   \n",
       "\n",
       "                                      text_segmented  \\\n",
       "0  [('text', 'Immigration Rules: Index\\nThe rules...   \n",
       "1  [('text', 'Immigration Rules: introduction\\nTh...   \n",
       "2  [('text', 'Immigration Rules part 1: leave to ...   \n",
       "3  [('text', 'Immigration Rules part 2: transitio...   \n",
       "4  [('text', 'Immigration Rules part 3: students\\...   \n",
       "5  [('text', 'Immigration Rules part 4: work expe...   \n",
       "6  [('text', 'Immigration Rules part 5: working i...   \n",
       "7  [('text', 'Immigration Rules part 6: self-empl...   \n",
       "8  [('text', 'Immigration Rules part 6A: the poin...   \n",
       "9  [('text', 'Immigration Rules part 7: other cat...   \n",
       "\n",
       "                                     hyperlinks_dump  \\\n",
       "0  ['https://www.gov.uk/guidance/immigration-rule...   \n",
       "1                                                 []   \n",
       "2                                                 []   \n",
       "3                                                 []   \n",
       "4                                                 []   \n",
       "5                                                 []   \n",
       "6                                                 []   \n",
       "7                                                 []   \n",
       "8                                                 []   \n",
       "9                                                 []   \n",
       "\n",
       "                   timestamp  \n",
       "0  2020-08-19T13:29:45+00:00  \n",
       "1  2020-08-19T13:29:46+00:00  \n",
       "2  2020-08-19T13:29:46+00:00  \n",
       "3  2020-08-19T13:29:47+00:00  \n",
       "4  2020-08-19T13:29:48+00:00  \n",
       "5  2020-08-19T13:29:49+00:00  \n",
       "6  2020-08-19T13:29:50+00:00  \n",
       "7  2020-08-19T13:29:51+00:00  \n",
       "8  2020-08-19T13:29:52+00:00  \n",
       "9  2020-08-19T13:29:55+00:00  "
      ]
     },
     "execution_count": 10,
     "metadata": {},
     "output_type": "execute_result"
    }
   ],
   "source": [
    "scrape_df.head(10)"
   ]
  },
  {
   "cell_type": "code",
   "execution_count": 22,
   "metadata": {},
   "outputs": [],
   "source": [
    "tokens = nlp(scrape_df.loc[2,\"text_dump\"])"
   ]
  },
  {
   "cell_type": "code",
   "execution_count": 21,
   "metadata": {},
   "outputs": [
    {
     "data": {
      "text/plain": [
       "'\\nImmigration Rules part 1: leave to enter or stay in the UK\\nGeneral provisions regarding entry clearance, leave to enter or remain in the United Kingdom (paragraphs 7 to 39E).\\n\\n\\n\\nLeave to enter the United Kingdom\\n\\n7.A person who is neither a British citizen nor a Commonwealth citizen with the right of abode nor a person who is entitled to enter or remain in the United Kingdom by virtue of the provisions of the 2006 EEA Regulations requires leave to enter the United Kingdom.\\n8.Under Sections 3 and 4 of the Immigration Act 1971 an Immigration Officer when admitting  to the United Kingdom a person subject to immigration control under that Act may give leave to enter for a limited period and, if he does, may impose all or any of the following conditions:\\n    \\n(i) a condition restricting employment or occupation in the United Kingdom;\\n(ii) a condition requiring the person to maintain and accommodate himself, and any dependants of his, without recourse to public funds;\\n(iii) a condition requiring the person to register with the police; and\\n(iv) a condition restricting his studies in the United Kingdom\\n\\n\\n\\nHe may also require him to report to the appropriate Medical Officer of Environmental Health. Under Section 24 of the 1971 Act it is an offence knowingly to remain beyond the time limit or fail to comply with such a condition or requirement.\\n\\n9.The time limit and any conditions attached will be made known to the person concerned either:\\n    \\n(i) by written notice given to him or endorsed by the Immigration Officer in his passport or travel document; or\\n(ii) in any other manner permitted by the Immigration (Leave to Enter and Remain) Order 2000.\\n\\n\\n\\nExercise of the power to refuse leave to enter the United Kingdom or to cancel leave to enter or remain which is in force\\n\\n10.The power to refuse leave to enter the United Kingdom or to cancel leave to enter or remain which is already in force is not to be exercised by an Immigration Officer acting on his own. The authority of a Chief Immigration Officer or of an Immigration Inspector must always be obtained.\\n\\nSuspension of leave to enter or remain in the United Kingdom\\n\\n10A. Where a person has arrived in the United Kingdom with leave to enter or remain which is in force but which was given to him before his arrival he may be examined by an Immigration Officer under paragraph 2A of Schedule 2 to the Immigration Act 1971. An Immigration Officer examining a person under paragraph 2A may suspend that person’s leave to enter or remain in the United Kingdom until the examination is completed.\\n\\nCancellation of leave to enter or remain in the United Kingdom\\n\\n10.B Where a person arrives in the United Kingdom with leave to enter or remain in the United Kingdom which is already in force, an Immigration Officer may cancel that leave.\\n\\nRequirement for persons arriving in the United Kingdom or seeking entry through the Channel Tunnel to produce evidence of identity and nationality\\n\\n11.A person must, on arrival in the United Kingdom or when seeking entry through the \\nChannel Tunnel, produce on request by the Immigration Officer:\\n    \\n(i) a valid national passport or other document satisfactorily establishing his identity and nationality; and\\n(ii) such information as may be required to establish whether he requires leave to enter the United Kingdom and, if so, whether and on what terms leave to enter should be given.\\n\\n\\n\\nRequirement for a person not requiring leave to enter the United Kingdom to prove that he has the right of abode\\n\\n12. A person claiming to be a British citizen must prove that he has the right of abode in the United Kingdom by producing either:\\n    \\n(i) a United Kingdom passport describing him as a British citizen or as a citizen of the United Kingdom and Colonies having the right of abode in the United Kingdom; or\\n(ii) a certificate of entitlement duly issued by or on behalf of the Government of the United Kingdom certifying that he has the right of abode.\\n\\n\\n13. A person claiming to be a Commonwealth citizen with the right of abode in the United \\nKingdom must prove that he has the right of abode by producing a certificate of entitlement \\nduly issued to him by or on behalf of the Government of the United Kingdom certifying that \\nhe has the right of abode.\\n14. A Commonwealth citizen who has been given limited leave to enter the United Kingdom may later claim to have the right of abode. The time limit on his stay may be removed if he is \\nable to establish a claim to the right of abode, for example by showing that:\\n    \\n(i) immediately before the commencement of the British Nationality Act 1981 he was a Commonwealth citizen born to or legally adopted by a parent who at the time of the birth had \\ncitizenship of the United Kingdom and Colonies by his birth in the United Kingdom or any of the Islands; and\\n(ii) he has not ceased to be a Commonwealth citizen in the meanwhile.\\n\\n\\n\\nCommon Travel Area\\n\\n15.The United Kingdom, the Channel Islands, the Isle of Man and the Republic of Ireland \\ncollectively form a common travel area. A person who has been examined for the purpose of  immigration control at the point at which he entered the area does not normally require leave to enter any other part of it. However certain persons subject to the Immigration (Control of Entry through the Republic of Ireland) Order 1972 (as amended) who enter the United Kingdom through the Republic of Ireland do require leave to enter. This includes:\\n    \\n(i) those who merely passed through the Republic of Ireland;\\n(ii)persons requiring visas;\\n(iii)persons who entered the Republic of Ireland unlawfully;\\n(iv)persons who are subject to directions given by the Secretary of State for their exclusion from the United Kingdom on the ground that their exclusion is conducive to the public good;\\n(v)persons who entered the Republic from the United Kingdom and Islands after entering \\nthere unlawfully or overstaying their leave.\\n\\n\\n\\nAdmission of certain British passport holders\\n\\n16. A person in any of the following categories may be admitted freely to the United Kingdom on production of a United Kingdom passport issued in the United Kingdom and Islands or the \\nRepublic of Ireland prior to 1 January 1973, unless his passport has been endorsed to show that he was subject to immigration control:\\n    \\n(i) a British Dependent Territories citizen;\\n(ii) a British National (Overseas);\\n(iii) a British Overseas citizen;\\n(iv) a British protected person;\\n(v) a British subject by virtue of Section 30(a) of the British Nationality Act 1981, (who, immediately before the commencement of the 1981 Act would have been a British subject not \\npossessing citizenship of the United Kingdom and Colonies or the citizenship of any other Commonwealth country or territory).\\n\\n\\n17. British Overseas citizens who hold United Kingdom passports wherever issued and who \\nsatisfy the Immigration Officer that they have, since 1 March 1968, been given indefinite leave to enter or remain in the United Kingdom may be given indefinite leave to enter.\\n\\nPersons outside the United Kingdom\\n\\n17A. Where a person is outside the United Kingdom but wishes to travel to the United Kingdom an Immigration Officer may give or refuse him leave to enter. An Immigration Officer may exercise these powers whether or not he is, himself, in the United Kingdom. However, an Immigration Officer is not obliged to consider an application for leave to enter from a person outside the United Kingdom.\\n17B. Where a person having left the common travel area, has leave to enter the United \\nKingdom which remains in force under article 13 of the Immigration (Leave to Enter and \\nRemain) Order 2000, an Immigration Officer may cancel that leave. An Immigration Officer may exercise these powers whether or not he is, himself, in the United Kingdom. If a person \\noutside the United Kingdom has leave to remain in the United Kingdom which is in force in \\nthis way, the Secretary of State may cancel that leave.\\n\\nReturning Residents\\n\\n18. A person may resume their residence in the UK provided the Immigration Officer is satisfied that the person concerned:\\n    \\n(i) had indefinite leave to enter or remain in the United Kingdom when he last left; and\\n(ii) has not been away from the United Kingdom for more than 2 years; and\\n(iii) did not receive assistance from public funds towards the cost of leaving the United Kingdom; and\\n(iv) now seeks admission for the purpose of settlement.\\n\\n\\n18A. Those who qualify to resume their residence in accordance with paragraph 18 do not need a visa to enter the UK.\\n19. A person who does not benefit from the preceding paragraph by reason only of having been absent from the United Kingdom for more than two consecutive years, must have applied for, and been granted indefinite leave to enter by way of entry clearance if, he can demonstrate he has strong ties to the United Kingdom and intends to make the United Kingdom his permanent home.\\n19A. Sub paragraphs (ii) and (iii) of paragraph 18 shall not apply where a person who has indefinite leave to enter or remain in the United Kingdom accompanies on an overseas posting a partner, parent, a spouse, civil partner, unmarried partner or same-sex partner who is:\\na) a member of HM Forces serving overseas; or\\nb) a British citizen or is settled in the UK and\\n    \\n(i) a permanent member of HM Diplomatic Service;\\n(ii) a comparable United Kingdom based permanent staff member of the British Council;\\n(iii) a permanent staff member of the Department for International Development; or\\n(iv) a permanent Home Office employee.\\n\\n\\n20.The leave of a person whose stay in the United Kingdom is subject to a time limit lapses on his going to a country or territory outside the common travel area if the leave was given for a period of six months or less or conferred by a visit visa. In other cases, leave lapses on the holder remaining outside the United Kingdom for a continuous period of more than two years. A person whose leave has lapsed and who returns after a temporary absence abroad within the period of this earlier leave has no claim to admission as a returning resident. His application to re-enter the United Kingdom should be considered in the light of all the relevant circumstances. The same time limit and any conditions attached will normally be reimposed if he meets the requirements of these Rules, unless he is seeking admission in a different capacity from the one in which he was last given leave to enter or remain.\\n\\nNon-lapsing leave\\n\\n20A. Leave to enter or remain in the United Kingdom will usually lapse on the holder going to a country or territory outside the common travel area. However, under article 13 of the Immigration (Leave to Enter and Remain) Order 2000 such leave will not lapse where it was \\ngiven for a period exceeding six months or where it was conferred by means of an entry \\nclearance (other than a visit visa).\\n20B. Those who seek leave to enter the United Kingdom within the period of their earlier leave and for the same purpose as that for which that leave was granted, unless it\\n    \\n(i) was for a period of six months or less; or\\n(ii) was extended by statutory instrument or by section 3C of the Immigration Act 1971 (inserted by section 3 of the Immigration and Asylum Act 1999);\\ndo not need a visa to enter the UK.\\n\\n\\n\\nHolders of restricted travel documents and passports\\n\\n21. The leave to enter or remain in the United Kingdom of the holder of a passport or travel \\ndocument whose permission to enter another country has to be exercised before a given date may be restricted so as to terminate at least 2 months before that date.\\n22. If his passport or travel document is endorsed with a restriction on the period for \\nwhich he may remain outside his country of normal residence, his leave to enter or remain in the United Kingdom may be limited so as not to extend beyond the period of authorised absence.\\n23.The holder of a travel document issued by the Home Office should not be given leave to \\nenter or remain for a period extending beyond the validity of that document. This paragraph and paragraphs 21-22 do not apply to a person who is eligible for admission for settlement or to a spouse or civil partner who is eligible for admission under paragraph 282 or to a person who qualifies for the removal of the time limit on his stay.\\n\\nLeave to enter granted on arrival in the United Kingdom\\n\\n\\n23A. A person who is not a visa national and who is seeking leave to enter on arrival in the United Kingdom for a period not exceeding 6 months for a purpose for which prior entry clearance is not required under these Rules may be granted such leave, for a period not exceeding 6 months. This paragraph does not apply where the person is a British National (Overseas), a British overseas territories citizen, a British Overseas citizen, a British protected person, or a person who under the British Nationality Act 1981 is a British subject.\\n\\n\\n23B. A person who is a British National (Overseas), a British overseas territories citizen, a British Overseas citizen, a British protected person, or a person who under the British Nationality Act 1981 is a British subject, and who is seeking leave to enter on arrival in the United Kingdom for a purpose for which prior entry clearance is not required under these Rules may be granted such leave, irrespective of the period of time for which he seeks entry, for a period not exceeding 6 months.\\n\\n\\nEntry clearance\\n\\n24. The following:\\n    \\n(i)\\ta visa national;\\n(ii) a non visa national not a British national and is seeking entry for a period exceeding six months, or for a purpose for which prior entry clearance is required under these Rules;\\n(iii) a British national without the right of abode who is seeking entry for a purpose for which prior entry clearance is required under these Rules.\\n\\n\\n\\n\\nmust either:\\n    \\n(i) produce to the Immigration Officer a valid passport or other identity document endorsed with a United Kingdom entry clearance, issued to him for the purpose for which he seeks entry, which is still in force,\\n\\n\\n\\n\\nor:\\n    \\n(ii) where he has been granted a United Kingdom entry clearance which was issued to him in electronic form for the purpose for which he seeks entry and which is still in force, produce to the Immigration Officer a valid passport or other identity document.\\n\\n\\n\\nSuch a person will be refused leave to enter if he has no such current entry clearance.  Any other person who wishes to ascertain in advance whether he is eligible for admission to the United Kingdom may apply for the issue of an entry clearance.\\n\\n25. Entry clearance takes the form of a visa (for visa nationals) or an entry certificate (for non visa nationals). A visa or an entry certificate may be issued in electronic form. These documents are to be taken as evidence of the holder’s eligibility for entry into the United Kingdom, and accordingly accepted as “entry clearances” within the meaning of the Immigration Act 1971.\\n25A. An entry clearance which satisfies the requirements set out in article 3 of the Immigration (Leave to Enter and Remain) Order 2000 will have effect as leave to enter the United Kingdom. The requirements are that the entry clearance must specify the purpose for which the holder wishes to enter the United Kingdom and should be endorsed with the conditions to which it is subject or wish a statement that it has effect as indefinite leave to enter the United Kingdom. The holder of such an entry clearance will not require leave to enter on arrival in the United Kingdom and, for the purposes of these Rules, will be treated as a person who has arrived in the United Kingdom with leave to enter the United Kingdom which is in force but which was given to him before his arrival.\\n26. An application for entry clearance will be considered in accordance with the provisions in these Rules governing the grant or refusal of leave to enter. Where appropriate, the term “Entry Clearance Officer” should be substituted for “Immigration Officer”.\\n\\n27. An application for entry clearance is to be decided in the light of the circumstances existing at the time of the decision, except that an applicant will not be refused an entry clearance where entry is sought in one of the categories contained in paragraphs 296-316 or paragraph EC-C of Appendix FM solely on account of his attaining the age of 18 years between receipt of his application and the date of the decision on it.\\n\\n\\n28. An applicant for an entry clearance must be outside the United Kingdom and Islands at the time of the application. An application for an entry clearance as a visitor or as a short-term student must be made to any post designated by the Secretary of State to accept such applications. Subject to paragraph 28A, any other application must be made to a post in the country or territory where the applicant is living which has been designated by the Secretary of State to accept applications for entry clearance for that purpose and from that category of applicant. Where there is no such post the applicant must apply to the appropriate designated post outside the country or territory where he is living.\\n\\n28A (a) An application for entry clearance as a Tier 5 (Temporary Worker) Migrant in the creative and sporting sub-category of Tier 5 may also be made at the post in the country or \\nterritory where the applicant is situated at the time of the application, provided that:\\n    \\n(i) the post has been designated by the Secretary of State to accept applications for entry clearance for that purpose and from that category of applicant,\\n(ii) the applicant is in that country or territory for a similar purpose to the activity he proposes to undertake in the UK, and\\n(iii) the applicant is able to demonstrate to the Entry Clearance Officer that he has authority to be living in that country or territory in accordance with its immigration laws. Those applicants who are known to the authorities of that country or territory but who have not been given permission to live in that country or territory will not be eligible to make an application.\\n(b) An application for entry clearance as a Global Talent migrant or as a Tier 5 (Youth Mobility Scheme) Temporary Migrant may also be made at the post in the country or territory where the applicant is situated at the time of the application, provided that:\\n        \\n(i) the post has been designated by the Secretary of State to accept applications for entry clearance for that purpose and from that category of applicant, and\\n(ii) the applicant is able to demonstrate to the Entry Clearance Officer that he has authority to be living in that country or territory in accordance with its immigration laws and that when he was given authority to live in that country or territory he was given authority to live in that country or territory for a period of more than 6 months. Those applicants who are known to the authorities of that country or territory but who have not been given permission to live in that country or territory will not be eligible to make an application.\\n\\n\\n\\n\\n\\n\\n29. For the purposes of paragraph 28 “post” means a British Diplomatic Mission, British Consular post or the office of any person outside the United Kingdom and Islands who has been authorised by the Secretary of State to accept applications for entry clearance. A list of designated posts is published by the Foreign and Commonwealth Office.\\n30. An application for an entry clearance is not made until any fee required to be paid under the regulations made under sections 68 and 69 of the Immigration Act 2014 has been paid.\\n30A. An entry clearance may be revoked if the Entry Clearance Officer is satisfied that:\\n    \\n(i) whether or not to the holder’s knowledge, false representations were employed or material facts were not disclosed, either in writing or orally, for the purpose of obtaining the entry clearance; or\\n(ii) a change of circumstances since the entry clearance was issued has removed the basis of the holder’s claim to be admitted to the United Kingdom, except where the change of circumstances amounts solely to his exceeding the age for entry in one of the categories contained in paragraphs 296-316 of these Rules since the issue of the entry clearance; or\\n(iii) where sub-paragraph (iv) does not apply, the holder’s exclusion from the United Kingdom would be conducive to the public good; or\\n(iv) in the case of an entry clearance granted under Appendix EU (Family Permit), in respect of conduct committed before the specified date as defined in that Appendix, the holder is subject to an exclusion order, an exclusion decision or an Islands exclusion decision as defined in that Appendix.\\n\\n\\n\\n\\n30B. An entry clearance shall cease to have effect where the entry clearance has effect as leave to enter and an Immigration Officer cancels that leave in accordance with paragraph 2A(8) of Schedule 2 to the Immigration Act 1971.\\n30C. An Immigration Officer may cancel an entry clearance which is capable of having effect \\nas leave to enter if the holder arrives in the United Kingdom before the day on which the entry clearance becomes effective or if the holder seeks to enter the United Kingdom for a purpose other than the purpose specified in the entry clearance.\\n\\nVariation of leave to enter or remain in the United Kingdom\\n\\n31. Under Section 3(3) of the 1971 Act a limited leave to enter or remain in the United Kingdom may be varied by extending or restricting its duration, by adding, varying or revoking conditions or by removing the time limit (where upon any condition attached to the leave ceases to apply). When leave to enter or remain is varied an entry is to be made in the applicant’s passport or travel document (and his registration certificate where appropriate) or the decision may be made known in writing in some other appropriate way.\\n31A. Where a person has arrived in the United Kingdom with leave to enter or remain in the United Kingdom which is in force but was given to him before his arrival, he may apply, on arrival at the port of entry in the United Kingdom, for variation of that leave. An Immigration Officer acting on behalf of the Secretary of State may vary the leave at the port of entry but is not obliged to consider an application for variation made at the port of entry. If an Immigration Officer acting on behalf of the Secretary of State has declined to consider an application for variation of leave at a port of entry but the leave has not been cancelled under paragraph 2A(8) of Schedule 2 to the Immigration Act 1971, the person seeking variation should apply to the Home Office under paragraph 32.\\n32.DELETED\\n33.DELETED\\n33A. Where a person having left the common travel area, has leave to enter or remain in the United Kingdom which remains in force under article 13 of the Immigration (Leave to Enter and Remain) Order 2000., his leave may be varied (including any condition to which it is subject in such form and manner as permitted for the giving of leave to enter. However, the Secretary of State is not obliged to consider an application for variation of leave to enter or remain from a person outside the United Kingdom.\\n33B-33G DELETED\\nA34. DELETED\\n\\nHow to make a valid application for leave to remain in the UK\\n\\n34. An application for leave to remain must be made in accordance with sub-paragraphs (1) to (9) below.\\n    \\n(1) (a) Subject to paragraph 34(1)(c), the application must be made on an application form which is specified for the immigration category under which the applicant is applying on the date on which the application is made.\\n        \\n(b) An application form is specified when it is posted on the visa and immigration pages of the GOV.UK website.\\n(c) An application can be made on a previous version of a specified paper application form (and shall be treated as made on a specified form) as long as it is no more than 21 days out of date.\\n\\n\\n(2) All mandatory sections of the application form must be completed.\\n(3) Where the applicant is required to pay a fee, this fee must be paid in full in accordance with the process set out in the application form.\\n(4) Where the applicant is required to pay the Immigration Health Surcharge, this must be paid in accordance with the process set out on the visa and immigration pages of the GOV.UK website.\\n(5) (a) Subject to paragraph 34(5)(c), the applicant must provide proof of identity as described in 34(5)(b) below and in accordance with the process set out in the application form.\\n        \\n(b) Proof of identity for the purpose of this paragraph means:\\n            \\n(i) a valid passport or, if an applicant (except a PBS applicant) does not have a valid passport, a valid national identity card; or\\n(ii) if the applicant does not have a valid passport or national identity card, their most recent passport or (except a PBS applicant) their most recent national identity card; or\\n(iii) if the applicant does not have any of the above, a valid travel document.\\n\\n\\n(c) Proof of identity need not be provided where:\\n            \\n(i) the applicant’s passport, national identity card or travel document is held by the Home Office at the date of application; or\\n(ii) the applicant’s passport, nationality identity card or travel document has been permanently lost or stolen and there is no functioning national government to issue a replacement; or\\n(iii) the applicant’s passport, nationality identity card or travel document has been retained by an employer or other person in circumstances which have led to the applicant being the subject of a positive conclusive grounds decision made by a competent authority under the National Referral Mechanism; or\\n(iv) the application is for limited leave to enable access to public funds pending an application under paragraph 289A of, or under Part 6 of Appendix Armed Forces or section DVILR of Appendix FM to these Rules; or\\n(v) the application is made under Part 14 of these Rules for leave as a stateless person or as the family member of a stateless person; or\\n(vi) the application was made by a person in the UK with refugee leave or humanitarian protection; or\\n(vii) the applicant provides a good reason beyond their control why they cannot provide proof of their identity.\\n\\n\\n\\n\\n(6) Where any of paragraph 34(5)(c)(ii)-(vii) applies, the Secretary of State may ask the applicant to provide alternative satisfactory evidence of their identity and nationality.\\n(7) Where the main applicant is under the age of eighteen, their parent or legal guardian must provide written consent to the application.\\n(8) Where the application is made on a paper application form, it must be sent by pre-paid post or courier to the address on the application form.\\n(9) An applicant must comply with the application process set out on the visa and immigration pages on GOV.UK and in the invitation to enrol biometrics which is provided as part of the application process in relation to –\\n        \\n(a) making an appointment to provide biometrics, and\\n(b) providing any evidence requested by the Secretary of State in support of their application.\\n\\n\\n\\n\\n\\nInvalid applications\\n\\n34A. Subject to paragraph 34B, where an application for leave to remain does not meet the requirements of paragraph 34, it is invalid and will not be considered.\\n34B. (1) Where an application for leave to remain does not meet the requirements of paragraph 34(1)-(9), the Secretary of State may notify the applicant and give them one opportunity to correct the error(s) or omission(s) identified by the Secretary of State within the timescale specified in the notification.\\n    \\n(2) Where an applicant does not comply with the notification in paragraph 34B(1), or with the requirements in paragraph 34(G)(4), the application is invalid and will not be considered unless the Secretary of State exercises discretion to treat an invalid application as valid and the requirements of paragraph 34(3) and (5) have been met.\\n(3) Notice of invalidity will be given in writing and served in accordance with Appendix SN of these Rules.\\n\\n\\n\\nMultiple Applications\\n\\n34BB (1) An applicant may only have one outstanding application for leave to remain at a time.\\n    \\n(2) If an application for leave to remain is submitted in circumstances where a previous application for leave to remain has not been decided, it will be treated as a variation of the previous application.\\n(3) Where more than one application for leave to remain is submitted on the same day then subject to sub-paragraph (4), each application will be invalid and will not be considered.\\n(4) The Secretary of State may give the applicant a single opportunity to withdraw all but one of the applications within 10 working days of the date on which the notification was sent. If all but one of the applications are not withdrawn by the specified date each application will be invalid and will not be considered.\\n(5) Notice of invalidity will be given in writing and served in accordance with Appendix SN of these Rules.\\n\\n\\n\\nDependent applicants applying at the same time as the main applicant\\n\\n34C. A dependent applicant can be included on a main applicant’s application form where the application form allows the dependant to be included.\\n34D. DELETED\\n\\nVariation of Applications or Claims for Leave to Remain\\n\\n34E. If a person wishes to vary the purpose of an application for leave to remain in the United Kingdom, the variation must comply with the requirements of paragraph 34 (as they apply at the date the variation is made) as if the variation were a new application. If it does not, subject to paragraph 34B, the variation will be invalid and will not be considered.\\n34F. Any valid variation of a leave to remain application will be decided in accordance with the immigration rules in force at the date such variation is made.\\n\\nDate an application (or variation of an application) for leave to remain is made\\n\\n34G. For the purposes of these rules, the date on which an application (or a variation of application in accordance with paragraph 34E is made is:\\n    \\n(1) where the paper application form is sent by post by Royal Mail, whether or not accompanied by a fee waiver request form, the date of posting as shown on the tracking information provided by Royal Mail or, if not tracked, by the postmark date on the envelope; or\\n(2) where the paper application form is sent by courier, or other postal services provider, the date on which it is delivered to the Home Office; or\\n(3) where the application is made via the online application process, and there is no request for a fee waiver, the date on which the online application is submitted; or\\n(4) where the online application includes a request for a fee waiver, the date on which the online request for a fee waiver is submitted, as long as the completed application for leave to remain is submitted within 10 days of the receipt of the decision on the fee waiver application.\\n(5) Notice of invalidity under paragraph 34G(4) will be given in writing and served in accordance with Appendix SN of these Rules.\\n\\n\\n34H-34I DELETED\\n\\nWithdrawn applications for leave to remain in the United Kingdom\\n\\n34J. The proof of identity provided under paragraph 34(5) will be returned to the applicant whilst their application is being considered, unless the Secretary of State considers it necessary to retain it. Where the Secretary of State has retained an applicant’s proof of identity and the applicant requests the return of their passport for the purpose of travel outside the common travel area, the application for leave shall, provided it has not already been determined, be treated as withdrawn on the date that request is received by the Home Office.\\n34K. Where proof of identity provided under paragraph 34(5) has been returned to the applicant pending a decision on their application for leave to remain and the applicant travels outside the common travel area their application for leave to remain shall, provided that it has not been determined, be treated as withdrawn on the date that the applicant left the common travel area.\\n\\nSpecified forms and procedures in connection with applications for administrative review\\nNotice of an eligible decision\\n\\n34L. (1) Unless sub-paragraph (2) applies, written notice must be given to a person of any eligible decision. The notice given must:\\n    \\n(a) include or be accompanied by a statement of reasons for the decision to which it relates, and\\n(b) include information on how to apply for an administrative review and the time limit for making an application.\\n\\n\\n(2) Sub-paragraph (1) does not apply where the eligible decision is a grant of leave to remain.\\n\\nMaking an application\\n\\n34M. An application for administrative review must be made in accordance with the requirements set out in paragraphs 34N to 34S. If it is not it will be invalid and will not be considered.\\n34N. (1) Unless sub-paragraph (2) or (2A) applies only one valid application for administrative review may be made in respect of an eligible decision.\\n(2) A further application for administrative review in respect of an eligible decision as set out in Appendix AR may be made where the outcome of the administrative review is as set out in paragraph AR2.2(d) of Appendix AR of these Rules.\\n(2A) A further application for administrative review in respect of an eligible decision under Appendix AR (EU) may be made where a decision is withdrawn and a new decision made in accordance with paragraph AR(EU)2.2. of Appendix AR (EU).\\n(3) An application for administrative review of an eligible decision under Appendix AR may not be made if the applicant has previously signed an administrative review waiver form in respect of the eligible decision, in accordance with paragraph AR2.10 of Appendix AR of these Rules.\\n(4) If, after receiving notice of the eligible decision, an application for entry clearance, leave to enter or leave to remain is made during the time within which an application for administrative review under Appendix AR may be brought within paragraph 34R (including any possibility of an administrative review out-of-time under paragraph 34R(3)), an application for administrative review of the eligible decision may not be made under Appendix AR.\\n34O. An application for administrative review under Appendix AR or Appendix AR (EU) must be made online in accordance with paragraph 34U, unless the eligible decision relates to an application that was a valid paper application, in which case it can be made:\\n    \\n(a) in accordance with paragraph 34U;\\n(b) in relation to a leave to enter or remain application, in accordance with paragraph 34V; or\\n(c) in relation to an entry clearance application, in accordance with paragraph 34VA.\\n\\n\\n34P. The application must be made in relation to an eligible decision.\\n34Q. An application under Appendix AR must be made:\\n    \\n(a) when the administrative review is in relation to an eligible decision on an in country application, as defined in paragraph AR3.2 of Appendix AR, while the applicant is in the UK;\\n(b) when the administrative review is in relation to an eligible decision made on arrival at the United Kingdom, as defined in paragraph AR4.2 of Appendix AR, while the applicant is in the UK, unless the eligible decision is made in the Control Zone (as defined in Appendix AR of these Rules), in which case administrative review may not be applied for and will not be considered until after the applicant has left or been removed from the Control Zone;\\n(c) when the administrative review is in relation to an eligible decision on an application for entry clearance, as defined in paragraph AR5.2 of Appendix AR, while the applicant is outside the UK.\\n\\n\\n34QA. An application under Appendix AR (EU) of these Rules may be made from either inside or outside the UK.\\n34R.(1) An application under Appendix AR must be made:\\n    \\n(a) where the applicant is in the UK and not detained, no more than 14 calendar days after receipt by the applicant of the notice of the eligible decision;\\n(b) where the applicant is in detention in the UK under the Immigration Acts, no more than 7 calendar days after receipt by the applicant of the notice of the eligible decision;\\n(c) where the applicant is overseas, no more than 28 calendar days after receipt by the applicant of the notice of the eligible decision; or\\n(d) where the eligible decision is a grant of leave to remain, no more than 14 calendar days after receipt by the applicant of the biometric immigration document which states the length and conditions of leave granted.\\n\\n\\n34R(1A) An application under Appendix AR (EU) must be made:\\n    \\n(a) where the applicant is in the UK and not detained, no more than 28 calendar days after receipt by the applicant of the notice of the eligible decision;\\n(b) where the applicant is in detention in the UK under the Immigration Acts, no more than 7 calendar days after receipt by the applicant of the notice of the eligible decision;\\n(c) where the applicant is overseas, no more than 28 calendar days after receipt by the applicant of the notice of the eligible decision.\\n\\n\\n(2) An application which is permitted under paragraph 34N(2) or 34N(2A) of these Rules must be made within the relevant time limit stated in paragraph 34R(1) as if it was an initial application, and the notice of the outcome of the previous administrative review will be treated as the notice of the eligible decision.\\n(3) But the application may be accepted out of time if the Secretary of State is satisfied that it would be unjust not to waive the time limit and that the application was made as soon as reasonably practicable.\\n(4) DELETED\\n(5) For provision about when an application is made see paragraph 34W.\\n34S. An applicant may only include an application on behalf of a dependant of the applicant if that dependant:\\n    \\n(a) was a dependant on the application which resulted in the eligible decision; or\\n(b) was previously granted leave to enter or remain as a dependant of the applicant and that leave is being cancelled at the same time as that of the applicant\\n\\n\\n\\nNotice of invalidity\\n34T. A notice of invalidity will be given in writing and served in accordance with Appendix SN of these Rules.\\nOnline applications for administrative review\\n\\n34U. (1) In this paragraph:\\n    \\n“the relevant online application process” means the application process accessible via the gov.uk website and identified there as relevant for applications for administrative review; and\\n\\n\\n“specified” in relation to the relevant online application process means specified in the online guidance accompanying that process.\\n(2) An application may be made online by completing the relevant online application process.\\n(3) Where an application is made online:\\n    \\n(a)any specified fee in connection with the application must be paid in accordance with the method specified;\\n(b)any section of the online application which is designated as mandatory must be completed as specified; and\\n(c)documents specified as mandatory on the online application or in the related guidance must be submitted either electronically with the online application and in the specified manner, where this is permitted, or received by post and in the specified manner no more than seven working days after the day on which the online application is submitted.\\n\\n\\n\\nPostal applications for administrative review\\n\\n34V. (1) Subject to paragraph 34O, an application may be made by post or courier in accordance with this paragraph.\\n(2) Where an application is made by post or courier:\\n    \\n(a) it must be made on the application form as specified within the meaning of paragraph 34 (but see paragraph 34Y);\\n(b) any specified fee in connection with the application must be paid in accordance with the method specified in the application form, separate payment form or related guidance notes (as applicable);\\n(c) any section of the application form which is designated as mandatory in the form itself or related guidance notes must be completed;\\n(d) the form must be signed by the applicant or their representative;\\n(e) the application must be accompanied by any documents specified as mandatory in the application form or related guidance notes; and\\n(f) the application must be sent to the address specified on the form.\\n\\n\\n\\nApplications for administrative review of entry clearance decisions\\n\\n34VA. (1) Subject to paragraph 34O, an application may be made by post, courier, hand, fax or email in accordance with this paragraph.\\n    \\n(2) Where an application is made by post, courier, hand, fax or email:\\n        \\n(a) it must be made on the application form as specified within the meaning of paragraph 34 (but see paragraph 34Y);\\n(b) any section of the application form which is designated as mandatory in the form itself or related guidance notes must be completed;\\n(c) the form must be signed by the applicant or their representative;\\n(d) the application must be accompanied by any documents specified as mandatory in the application form or related guidance notes; and\\n(e) the application must be delivered to the postal address, email address or fax number specified on the form.\\n\\n\\n\\n\\n\\nDetermining the date of an application\\n\\n34W. (1) An application for administrative review is made:\\n    \\n(a) where it is made by post in accordance with paragraph 34V, on the marked date of posting;\\n(b) where it is made by courier in accordance with paragraph 34V, on the date on which it is delivered; and\\n(c) where it is made online in accordance with paragraph 34U, on the date on which it is submitted.\\n\\n\\n(2) Accepting an application has been made does not mean that it is accepted as being valid.\\n\\nWithdrawal of applications\\n\\n34X. (1) An application which may only be brought from within the UK and has not been determined will be treated as withdrawn if the \\napplicant requests the return of their passport for the purpose of travel outside the UK.\\n(2) An application which may only be brought from within the UK and which has not been determined will be treated as withdrawn if the applicant leaves the UK.\\n(3) The application for administrative review may be withdrawn by the applicant. A request to withdraw an application must be made in writing to the Home Office at the address provided for that purpose on the visas and immigration pages of the gov.uk website. The application will be treated as withdrawn on the date on which the request is received.\\n(4) An application for administrative review which has not been determined will be treated as withdrawn if the applicant makes an application for entry clearance, leave to enter or leave to remain.\\n(5) Sub-paragraphs (1) and (2) above do not apply to an application for administrative review made under Appendix AR (EU).\\n\\nTransitional arrangements for specified forms used in postal and courier applications\\n\\n34Y. Where an application is made no more than 21 days after the date on which a form is specified (within the meaning of paragraph 34) and on a form that was specified immediately prior to the date of the new specification, the application is deemed to have been made on the specified form (and is therefore not to be treated as invalid by reason only of being made on the “wrong” form).\\n\\nUndertakings\\n\\n35. A sponsor of a person seeking leave to enter or remain in the United Kingdom may be asked to give an undertaking in writing to be responsible for that person’s maintenance, accommodation and (as appropriate) personal care for the period of any leave granted, including any further variation or for a period of 5 years from date of grant where indefinite leave to enter or remain is granted. Under the Social Security Administration Act 1992 and the Social Security Administration (Northern Ireland) Act 1992, the Department of Social Security or, as the case may be, the Department of Health and Social Services in Northern Ireland, may seek to recover from the person giving such an undertaking any income support paid to meet the needs of the person in respect of whom the undertaking has been given. Under the Immigration and Asylum Act 1999 the Home Office may seek to recover from the person giving such an undertaking amounts attributable to any support provided under section 95 of the Immigration and Asylum Act 1999 (support for asylum seekers) to, or in respect of, the person in respect of whom the undertaking has been given. Failure by the sponsor to maintain that person in accordance with the undertaking, may also be an offence under section 105 of the Social Security Administration Act 1992 and/or under section 108 of the Immigration and Asylum Act 1999 if, as a consequence, asylum support and/or income support is provided to, or in respect of, that person.\\n\\nMedical\\n\\n36. A person who intends to remain in the United Kingdom for more than 6 months should normally be referred to the Medical Inspector for examination. If he produces a medical certificate he should be advised to hand it to the Medical Inspector. Any person seeking entry who mentions health or medical treatment as a reason for his visit, or who appears not to be in good mental or physical health, should also be referred to the Medical Inspector; and the Immigration Officer has discretion, which should be exercised sparingly, to refer for examination in any other case.\\n37. Where the Medical Inspector advises that a person seeking entry is suffering from a specified disease or condition which may interfere with his ability to support himself or his dependants, the Immigration Officer should take account of this, in conjunction with other factors, in deciding whether to admit that person. The Immigration Officer should also take account of the Medical Inspector’s assessment of the likely course of treatment in deciding whether a person seeking entry for private medical treatment has sufficient means at his disposal.\\n38. A returning resident should not be refused leave to enter or have existing leave to enter or remain cancelled on medical grounds. But where a person would be refused leave to enter or have existing leave to enter or remain cancelled on medical grounds if he were not a returning resident or in any case where it is decided on compassionate grounds not to exercise the power to refuse leave to enter or to cancel existing leave to enter or remain, or in any other case where the Medical Inspector so recommends, the Immigration Officer should give the person concerned a notice requiring him to report to the Medical Officer of Environmental Health designated by the Medical Inspector with a view to further examination and any necessary treatment.\\nA39. Any person making an application for entry clearance to come to the UK for more than six months or as a fiancé(e) or proposed civil partner applying for leave to enter under Section EC-P:Entry clearance as a partner under Appendix FM, having been present in a country listed in Appendix T for more than six months immediately prior to their application, must present, at the time of application, a valid medical certificate issued by a medical practitioner approved by the Secretary of State for these purposes, as listed on the Gov.uk website, confirming that they have undergone screening for active pulmonary tuberculosis and that this tuberculosis is not present in the applicant.\\nB39. Applicants seeking leave to enter as a returning resident under paragraph 19 of these \\nrules, having been absent from the United Kingdom for more than two years are also subject to the requirements in paragraph A39.\\nC39. Where a person has lawfully been present in a country not mentioned in Appendix T for more than six months and they are applying for entry clearance as in A39 in a country in Appendix T but have not been in that country or any other country mentioned in Appendix T for more than six months immediately before making their application, they will not be required to produce a medical certificate showing they are free from active pulmonary TB. This does not alter the discretionary powers as in paragraph 39 below.\\n39. The Entry Clearance Officer has the same discretion as an Immigration Officer to refer applicants for entry clearance for medical examination and the same principles will apply to the decision whether or not to issue an entry clearance.\\n\\nStudents\\n39A. An application for a variation of leave to enter or remain made by a student who is sponsored by a government or international sponsorship agency may be refused if the sponsor has not given written consent to the proposed variation.\\nSpecified documents\\n\\n39B. (a) Where these Rules state that specified documents must be provided, that means documents specified in these Rules as being specified documents for the route under which the applicant is applying. If the specified documents are not provided, the applicant will not meet the requirement for which the specified documents are required as evidence.\\n    \\n(b) Where these Rules specify documents that are to be provided, those documents are considered to be specified documents, whether or not they are named as such, and as such are subject to the requirements in (c) to (f) below.\\n(c) If the Entry Clearance Officer or Secretary of State has reasonable cause to doubt the \\ngenuineness of any document submitted by an applicant which is, or which purports to be, a specified document under these Rules, and having taken reasonable steps to verify the \\ndocument is unable to verify that it is genuine, the document will be discounted for the \\npurposes of this application.\\n(d) Specified documents may be originals or copies.\\n(e) Specified documents must contain, or the applicant must provide, full contact details to allow each document to be verified.\\n(f) Where any specified documents provided are not in English or Welsh, the applicant must provide the version in the original language and a full translation that can be independently verified by the Entry \\nClearance Officer, Immigration Officer or the Secretary of State.\\n\\n\\n\\n\\nThe translation must be dated and include:\\n    \\n(i) confirmation that it is an accurate translation of the original document;\\n(ii) the full name and signature of the translator or an authorised official of the translation company;\\n(iii) the translator or translation company’s contact details; and\\n(iv) if the applicant is applying for leave to remain or indefinite leave to remain, certification by a qualified translator and details of the translator or translation company’s credentials.\\n\\n\\n\\nIndefinite leave to enter or remain\\n\\n39C (a) An applicant for indefinite leave to enter or remain must, unless the applicant provides a reasonable explanation, comply with any request made by the Secretary of State to attend an interview.\\n    \\n(b) If the decision-maker has reasonable cause to doubt (on examination or interview or on any other basis) that any evidence submitted by or on behalf of an applicant for the purposes of satisfying the requirements of Appendix KoLL of these Rules was genuinely obtained, that evidence may be discounted for the purposes of the application.\\n(c) Where sub-paragraph (b) applies, the decision-maker may give the applicant a further opportunity to demonstrate sufficient knowledge of the English language and about life in the United Kingdom in accordance with paragraph 3.2 or 3.3 of Appendix KoLL.\\n(d) A decision-maker may decide not to give the applicant a further opportunity under sub-paragraph (c) where the decision-maker does not anticipate that the supply of further evidence will lead to a grant of leave to enter or remain in the United Kingdom because the application may be refused for other reasons.\\n\\n\\n\\nPower to interview a person with limited leave to enter or remain\\n\\n39D. For the purpose of assessing whether any of the grounds of curtailment under paragraphs 245DE(c), 245EE(c), 276BD1, 276BN1, 276BS1, 323 (other than 323(vii)), 323A, 323B, or 323C, apply the Secretary of State may request a person who holds limited leave to enter or remain in the UK to:\\n    \\n(i)\\tprovide additional information and evidence to the Home Office at the address specified in the request within 28 calendar days of the date the request is sent; and/or\\n(ii) attend an interview.\\n\\n\\n\\nExceptions for overstayers\\n\\n39E. This paragraph applies where:\\n    \\n(1) the application was made within 14 days of the applicant’s leave expiring and the Secretary of State considers that there was a good reason beyond the control of the applicant or their representative, provided in or with the application, why the application could not be made in-time; or\\n(2) the application was made:\\n        \\n(a) following the refusal of a previous application for leave which was made in-time; and\\n(b) within 14 days of:\\n            \\n(i) the refusal of the previous application for leave; or\\n(ii) the expiry of any leave extended by section 3C of the Immigration Act 1971; or\\n(iii) the expiry of the time-limit for making an in-time application for administrative review or appeal (where applicable); or\\n(iv) any administrative review or appeal being concluded, withdrawn or abandoned or lapsing.\\n\\n\\n\\n\\n\\n\\n\\n\\n\\n\\n'"
      ]
     },
     "execution_count": 21,
     "metadata": {},
     "output_type": "execute_result"
    }
   ],
   "source": [
    "scrape_df.loc[2,\"text_dump\"]"
   ]
  },
  {
   "cell_type": "code",
   "execution_count": 24,
   "metadata": {},
   "outputs": [
    {
     "name": "stdout",
     "output_type": "stream",
     "text": [
      "\n",
      "\n",
      "Immigration\n",
      "Rules\n",
      "part\n",
      "1\n",
      ":\n",
      "leave\n",
      "to\n",
      "enter\n",
      "or\n",
      "stay\n",
      "in\n",
      "the\n",
      "UK\n",
      "\n",
      "\n",
      "General\n",
      "provisions\n",
      "regarding\n",
      "entry\n",
      "clearance\n",
      ",\n",
      "leave\n",
      "to\n",
      "enter\n",
      "or\n",
      "remain\n",
      "in\n",
      "the\n",
      "United\n",
      "Kingdom\n"
     ]
    }
   ],
   "source": [
    "for ii in range(30):\n",
    "    print(tokens[ii])"
   ]
  },
  {
   "cell_type": "code",
   "execution_count": null,
   "metadata": {},
   "outputs": [],
   "source": []
  }
 ],
 "metadata": {
  "kernelspec": {
   "display_name": "Python 3",
   "language": "python",
   "name": "python3"
  },
  "language_info": {
   "codemirror_mode": {
    "name": "ipython",
    "version": 3
   },
   "file_extension": ".py",
   "mimetype": "text/x-python",
   "name": "python",
   "nbconvert_exporter": "python",
   "pygments_lexer": "ipython3",
   "version": "3.7.7"
  }
 },
 "nbformat": 4,
 "nbformat_minor": 4
}
