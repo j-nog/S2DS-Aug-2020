{
 "cells": [
  {
   "cell_type": "markdown",
   "metadata": {},
   "source": [
    "## Get keywords from NER"
   ]
  },
  {
   "cell_type": "code",
   "execution_count": 2,
   "metadata": {},
   "outputs": [
    {
     "data": {
      "text/html": [
       "<div>\n",
       "<style scoped>\n",
       "    .dataframe tbody tr th:only-of-type {\n",
       "        vertical-align: middle;\n",
       "    }\n",
       "\n",
       "    .dataframe tbody tr th {\n",
       "        vertical-align: top;\n",
       "    }\n",
       "\n",
       "    .dataframe thead th {\n",
       "        text-align: right;\n",
       "    }\n",
       "</style>\n",
       "<table border=\"1\" class=\"dataframe\">\n",
       "  <thead>\n",
       "    <tr style=\"text-align: right;\">\n",
       "      <th></th>\n",
       "      <th>section_title</th>\n",
       "      <th>raw_text</th>\n",
       "    </tr>\n",
       "  </thead>\n",
       "  <tbody>\n",
       "    <tr>\n",
       "      <th>0</th>\n",
       "      <td>Contents</td>\n",
       "      <td>\\nTier 2 and 5: Guidance for Sponsors - Adden...</td>\n",
       "    </tr>\n",
       "    <tr>\n",
       "      <th>1</th>\n",
       "      <td>About this guidance</td>\n",
       "      <td>This guidance is for organisations who want to...</td>\n",
       "    </tr>\n",
       "    <tr>\n",
       "      <th>2</th>\n",
       "      <td>Contacts</td>\n",
       "      <td>If you think that the guidance has factual err...</td>\n",
       "    </tr>\n",
       "    <tr>\n",
       "      <th>3</th>\n",
       "      <td>Clearance and publication</td>\n",
       "      <td>Below is information on when this version of t...</td>\n",
       "    </tr>\n",
       "    <tr>\n",
       "      <th>4</th>\n",
       "      <td>Glossary</td>\n",
       "      <td>Phrase \\nWe or Us \\nYou or Your \\nMeaning \\nTh...</td>\n",
       "    </tr>\n",
       "    <tr>\n",
       "      <th>...</th>\n",
       "      <td>...</td>\n",
       "      <td>...</td>\n",
       "    </tr>\n",
       "    <tr>\n",
       "      <th>245</th>\n",
       "      <td>How to apply for a licence</td>\n",
       "      <td>To apply, you must complete the online applica...</td>\n",
       "    </tr>\n",
       "    <tr>\n",
       "      <th>246</th>\n",
       "      <td>If your application is approved</td>\n",
       "      <td>If your application for a sponsor licence is a...</td>\n",
       "    </tr>\n",
       "    <tr>\n",
       "      <th>247</th>\n",
       "      <td>Assigning a CoS for RQF level 3 to 5 jobs</td>\n",
       "      <td>If your application is approved, you will not ...</td>\n",
       "    </tr>\n",
       "    <tr>\n",
       "      <th>248</th>\n",
       "      <td>If your application for a licence is refused</td>\n",
       "      <td>If we are not satisfied that you can offer gen...</td>\n",
       "    </tr>\n",
       "    <tr>\n",
       "      <th>249</th>\n",
       "      <td>Further information</td>\n",
       "      <td>GOV.UK website as it becomes available. We wil...</td>\n",
       "    </tr>\n",
       "  </tbody>\n",
       "</table>\n",
       "<p>250 rows × 2 columns</p>\n",
       "</div>"
      ],
      "text/plain": [
       "                                    section_title  \\\n",
       "0                                        Contents   \n",
       "1                             About this guidance   \n",
       "2                                        Contacts   \n",
       "3                       Clearance and publication   \n",
       "4                                        Glossary   \n",
       "..                                            ...   \n",
       "245                    How to apply for a licence   \n",
       "246               If your application is approved   \n",
       "247     Assigning a CoS for RQF level 3 to 5 jobs   \n",
       "248  If your application for a licence is refused   \n",
       "249                           Further information   \n",
       "\n",
       "                                              raw_text  \n",
       "0     \\nTier 2 and 5: Guidance for Sponsors - Adden...  \n",
       "1    This guidance is for organisations who want to...  \n",
       "2    If you think that the guidance has factual err...  \n",
       "3    Below is information on when this version of t...  \n",
       "4    Phrase \\nWe or Us \\nYou or Your \\nMeaning \\nTh...  \n",
       "..                                                 ...  \n",
       "245  To apply, you must complete the online applica...  \n",
       "246  If your application for a sponsor licence is a...  \n",
       "247  If your application is approved, you will not ...  \n",
       "248  If we are not satisfied that you can offer gen...  \n",
       "249  GOV.UK website as it becomes available. We wil...  \n",
       "\n",
       "[250 rows x 2 columns]"
      ]
     },
     "execution_count": 2,
     "metadata": {},
     "output_type": "execute_result"
    }
   ],
   "source": [
    "import pandas as pd\n",
    "df = pd.read_csv(\"../input/2020-07-16_Tier-2-5-sponsor-guidance_Jul-2020_v1.0_section.csv\", index_col=0); df"
   ]
  },
  {
   "cell_type": "code",
   "execution_count": 3,
   "metadata": {},
   "outputs": [],
   "source": [
    "import re\n",
    "\n",
    "def first_level_cleaning(doc):\n",
    "    \"\"\"\n",
    "    Cleans the document from unneecessary chars/words, etc.\n",
    "    \"\"\"\n",
    "    doc = str(doc)                               # in case numeric type exsisted \n",
    "    doc = re.sub(r\"[\\r\\t\\n]+\", \"\", doc)          # find & replace \\t and \\n with empty string\n",
    "    doc = re.sub(r\"[^\\x00-\\x7F]+\", \" \", doc)     # remove non-ascii chars\n",
    "    doc = re.sub(r\" +\", \" \", doc)                # remove dublicate spaces\n",
    "    doc = doc.strip()                            # strip leading/trailing spaces\n",
    "    return doc\n",
    "\n",
    "def first_level_pdf_cleaning(doc):\n",
    "    \"\"\"\n",
    "    Cleans the document from unneecessary chars/words, etc.\n",
    "    \"\"\"\n",
    "    doc = str(doc)                               # in case numeric type exsisted \n",
    "    doc = re.sub(r\"[\\r\\t\\n]+\", \"\", doc)          # find & replace \\t and \\n with empty string\n",
    "    doc = re.sub(r\"[^\\x00-\\x7F]+\", \" \", doc)     # remove non-ascii chars\n",
    "    doc = re.sub(r\" +\", \" \", doc)                # remove dublicate spaces\n",
    "    #doc = re.sub(r\"(Page)\\s\\d+\\s\\w+\\s\\d+\\s(Tiers 2 and 5: guidance for sponsors - version 07\\/20)\", \"\", doc) # @Eyzo\n",
    "    doc = doc.strip()                            # strip leading/trailing spaces\n",
    "    return doc"
   ]
  },
  {
   "cell_type": "code",
   "execution_count": 4,
   "metadata": {},
   "outputs": [],
   "source": [
    "\"\"\"\n",
    "apply first level cleaning to the PDF raw_texts\n",
    "\"\"\"\n",
    "df.raw_text = df.raw_text.apply(lambda x:first_level_pdf_cleaning(x))"
   ]
  },
  {
   "cell_type": "code",
   "execution_count": 9,
   "metadata": {
    "scrolled": false
   },
   "outputs": [
    {
     "name": "stdout",
     "output_type": "stream",
     "text": [
      "This guidance is for organisations who want to apply for a sponsor licence to sponsor migrants under Tier 2 and/or Tier 5 of the points-based system. It tells you what we expect if you are a licence holder, the processes you must follow when sponsoring a migrant and how to meet all of the duties and responsibilities associated with being a licensed sponsor. The guidance is subject to change and you should check the dates to make sure you have the latest version. A new points-based immigration system will come into effect from 1 January 2021. The future system will apply to both European Economic Area (EEA) nationals and non-EEA nationals. You should refer to Annex 9 of this guidance if you intend to apply for a licence to sponsor workers under the new system. Separate guidance exists on GOV.UK for UK education providers who wish to apply for and hold a licence to sponsor international students to come to the UK under Tier 4 to study. You can find the appendices mentioned in this guidance under sponsorship policy guidance on the Guidance for employers and educators' page on GOV.UK.\n"
     ]
    }
   ],
   "source": [
    "\"\"\"\n",
    "get phrases/keywords for a given document (raw_text)\n",
    "\"\"\"\n",
    "import spacy\n",
    "nlp = spacy.load(\"en_core_web_sm\")                            # load a spaCy model, depending on language, scale, etc.\n",
    "\n",
    "raw_text = df.raw_text[1]                                      # raw text from scraped dataframe\n",
    "doc = first_level_cleaning (raw_text)                          # first level cleaning if needed\n",
    "print(doc)"
   ]
  },
  {
   "cell_type": "code",
   "execution_count": 10,
   "metadata": {},
   "outputs": [
    {
     "data": {
      "text/plain": [
       "str"
      ]
     },
     "execution_count": 10,
     "metadata": {},
     "output_type": "execute_result"
    }
   ],
   "source": [
    "type(doc)"
   ]
  },
  {
   "cell_type": "code",
   "execution_count": 11,
   "metadata": {},
   "outputs": [
    {
     "name": "stdout",
     "output_type": "stream",
     "text": [
      "This guidance is for organisations who want to apply for a sponsor licence to sponsor migrants under Tier 2 and/or Tier 5 of the points-based system. It tells you what we expect if you are a licence holder, the processes you must follow when sponsoring a migrant and how to meet all of the duties and responsibilities associated with being a licensed sponsor. The guidance is subject to change and you should check the dates to make sure you have the latest version. A new points-based immigration system will come into effect from 1 January 2021. The future system will apply to both European Economic Area (EEA) nationals and non-EEA nationals. You should refer to Annex 9 of this guidance if you intend to apply for a licence to sponsor workers under the new system. Separate guidance exists on GOV.UK for UK education providers who wish to apply for and hold a licence to sponsor international students to come to the UK under Tier 4 to study. You can find the appendices mentioned in this guidance under sponsorship policy guidance on the Guidance for employers and educators' page on GOV.UK.\n"
     ]
    }
   ],
   "source": [
    "doc = nlp(doc)\n",
    "print(doc)"
   ]
  },
  {
   "cell_type": "code",
   "execution_count": 12,
   "metadata": {},
   "outputs": [
    {
     "data": {
      "text/plain": [
       "spacy.tokens.doc.Doc"
      ]
     },
     "execution_count": 12,
     "metadata": {},
     "output_type": "execute_result"
    }
   ],
   "source": [
    "type(doc)"
   ]
  },
  {
   "cell_type": "code",
   "execution_count": 20,
   "metadata": {},
   "outputs": [
    {
     "data": {
      "text/plain": [
       "[('2', 'CARDINAL'),\n",
       " ('5', 'CARDINAL'),\n",
       " ('1', 'DATE'),\n",
       " ('January', 'DATE'),\n",
       " ('2021', 'DATE'),\n",
       " ('European', 'NORP'),\n",
       " ('Economic', 'LOC'),\n",
       " ('Area', 'LOC'),\n",
       " ('EEA', 'ORG'),\n",
       " ('Annex', 'ORG'),\n",
       " ('9', 'ORG'),\n",
       " ('UK', 'GPE'),\n",
       " ('UK', 'GPE')]"
      ]
     },
     "execution_count": 20,
     "metadata": {},
     "output_type": "execute_result"
    }
   ],
   "source": [
    "\"\"\"\n",
    "list of tokens in the document\n",
    "\"\"\"\n",
    "[(token.text, token.ent_type_) for token in doc if token.ent_type != 0]"
   ]
  },
  {
   "cell_type": "code",
   "execution_count": 22,
   "metadata": {},
   "outputs": [
    {
     "data": {
      "text/plain": [
       "[('2', 'CARDINAL'),\n",
       " ('5', 'CARDINAL'),\n",
       " ('1 January 2021', 'DATE'),\n",
       " ('European', 'NORP'),\n",
       " ('Economic Area', 'LOC'),\n",
       " ('EEA', 'ORG'),\n",
       " ('Annex 9', 'ORG'),\n",
       " ('UK', 'GPE'),\n",
       " ('UK', 'GPE')]"
      ]
     },
     "execution_count": 22,
     "metadata": {},
     "output_type": "execute_result"
    }
   ],
   "source": [
    "\"\"\"\n",
    "list of named entities in the document\n",
    "\"\"\"\n",
    "[(ent.text, ent.label_) for ent in list(doc.ents)]"
   ]
  },
  {
   "cell_type": "code",
   "execution_count": 34,
   "metadata": {},
   "outputs": [
    {
     "name": "stdout",
     "output_type": "stream",
     "text": [
      "['European', 'Economic Area', 'EEA', 'Annex 9', 'UK', 'UK']\n"
     ]
    },
    {
     "data": {
      "text/plain": [
       "Counter({'European': 1, 'Economic Area': 1, 'EEA': 1, 'Annex 9': 1, 'UK': 2})"
      ]
     },
     "execution_count": 34,
     "metadata": {},
     "output_type": "execute_result"
    }
   ],
   "source": [
    "\"\"\"\n",
    "list of named entities excluding DATE and CARDINAL\n",
    "\"\"\"\n",
    "from collections import Counter\n",
    "\n",
    "list_ner = [ent.text for ent in list(doc.ents) if ent.label_ != \"DATE\" and ent.label_ != \"CARDINAL\"]\n",
    "print(list_ner)\n",
    "Counter(list_ner)"
   ]
  },
  {
   "cell_type": "markdown",
   "metadata": {},
   "source": [
    "## Create a NER pipeline\n",
    "\n",
    "\n",
    "https://support.prodi.gy/t/custom-ner-model/1376/6\n",
    "\n",
    "If you do **ner = nlp.get_pipe(\"ner\")** you’ll get an instance that’s a subclass of the **spacy.syntax.nn_parser.Parser** class.  \n",
    "Once the model is loaded, the **ner.model** attribute gives you an instance of **spacy.syntax._parser_model.ParserModel**.  \n",
    "\n",
    "This class has an attribute **unseen_classes** that is a set of class IDs.  \n",
    "If you add the class ID to this, you should **prevent the class from being predicted**\n"
   ]
  },
  {
   "cell_type": "code",
   "execution_count": 41,
   "metadata": {},
   "outputs": [
    {
     "name": "stdout",
     "output_type": "stream",
     "text": [
      "{'B-ORG': 0, 'B-DATE': 1, 'B-PERSON': 2, 'B-GPE': 3, 'B-MONEY': 4, 'B-CARDINAL': 5, 'B-NORP': 6, 'B-PERCENT': 7, 'B-WORK_OF_ART': 8, 'B-LOC': 9, 'B-TIME': 10, 'B-QUANTITY': 11, 'B-FAC': 12, 'B-EVENT': 13, 'B-ORDINAL': 14, 'B-PRODUCT': 15, 'B-LAW': 16, 'B-LANGUAGE': 17, 'I-ORG': 18, 'I-DATE': 19, 'I-PERSON': 20, 'I-GPE': 21, 'I-MONEY': 22, 'I-CARDINAL': 23, 'I-NORP': 24, 'I-PERCENT': 25, 'I-WORK_OF_ART': 26, 'I-LOC': 27, 'I-TIME': 28, 'I-QUANTITY': 29, 'I-FAC': 30, 'I-EVENT': 31, 'I-ORDINAL': 32, 'I-PRODUCT': 33, 'I-LAW': 34, 'I-LANGUAGE': 35, 'L-ORG': 36, 'L-DATE': 37, 'L-PERSON': 38, 'L-GPE': 39, 'L-MONEY': 40, 'L-CARDINAL': 41, 'L-NORP': 42, 'L-PERCENT': 43, 'L-WORK_OF_ART': 44, 'L-LOC': 45, 'L-TIME': 46, 'L-QUANTITY': 47, 'L-FAC': 48, 'L-EVENT': 49, 'L-ORDINAL': 50, 'L-PRODUCT': 51, 'L-LAW': 52, 'L-LANGUAGE': 53, 'U-ORG': 54, 'U-DATE': 55, 'U-PERSON': 56, 'U-GPE': 57, 'U-MONEY': 58, 'U-CARDINAL': 59, 'U-NORP': 60, 'U-PERCENT': 61, 'U-WORK_OF_ART': 62, 'U-LOC': 63, 'U-TIME': 64, 'U-QUANTITY': 65, 'U-FAC': 66, 'U-EVENT': 67, 'U-ORDINAL': 68, 'U-PRODUCT': 69, 'U-LAW': 70, 'U-LANGUAGE': 71, 'O': 72}\n",
      "2                              CARDINAL                      \n",
      "5                              CARDINAL                      \n",
      "1 January 2021                 DATE                          \n",
      "European                       NORP                          \n",
      "Economic Area                  LOC                           \n",
      "EEA                            ORG                           \n",
      "Annex 9                        ORG                           \n",
      "UK                             GPE                           \n",
      "UK                             GPE                           \n"
     ]
    }
   ],
   "source": [
    "\"\"\"\n",
    "TODO : exclude classes to be predicted\n",
    "\"\"\"\n",
    "import spacy\n",
    "nlp = spacy.load(\"en_core_web_sm\")                            # load a spaCy model, depending on language, scale, etc.\n",
    "\n",
    "ner = nlp.get_pipe(\"ner\")\n",
    "class_ids = {name: i for i, name in enumerate(ner.move_names)}\n",
    "\"\"\"\n",
    "> https://spacy.io/usage/training\n",
    "O is a token outside an entity\n",
    "U an single entity unit\n",
    "B the beginning of an entity\n",
    "I a token inside an entity\n",
    "L the last token of an entity\n",
    "\"\"\"\n",
    "print(class_ids)\n",
    "\n",
    "# add unseen classes to the model\n",
    "ner.model.unseen_classes.add(class_ids[\"U-DATE\"])\n",
    "\n",
    "# tokenize the sentence by using nlp model\n",
    "doc = ner(nlp(df.raw_text[1]))\n",
    "\n",
    "for ent in doc.ents:\n",
    "    print(\"{:30s} {:30s}\".format(ent.text, ent.label_))"
   ]
  }
 ],
 "metadata": {
  "kernelspec": {
   "display_name": "Python 3",
   "language": "python",
   "name": "python3"
  },
  "language_info": {
   "codemirror_mode": {
    "name": "ipython",
    "version": 3
   },
   "file_extension": ".py",
   "mimetype": "text/x-python",
   "name": "python",
   "nbconvert_exporter": "python",
   "pygments_lexer": "ipython3",
   "version": "3.7.6"
  }
 },
 "nbformat": 4,
 "nbformat_minor": 4
}
