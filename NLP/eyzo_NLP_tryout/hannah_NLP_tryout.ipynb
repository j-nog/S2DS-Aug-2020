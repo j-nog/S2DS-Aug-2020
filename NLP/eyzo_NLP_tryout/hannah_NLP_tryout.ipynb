{
 "cells": [
  {
   "cell_type": "markdown",
   "metadata": {},
   "source": [
    "# Some examples for text analysis with NLP\n",
    "\n",
    "## EXAMPLE 1: Text summarization with BART\n",
    "\n",
    "See: https://huggingface.co/transformers/model_doc/bart.html"
   ]
  },
  {
   "cell_type": "code",
   "execution_count": 1,
   "metadata": {},
   "outputs": [],
   "source": [
    "#!pip install transformers\n",
    "from transformers import BartTokenizer, BartForConditionalGeneration, BartConfig"
   ]
  },
  {
   "cell_type": "code",
   "execution_count": 2,
   "metadata": {
    "scrolled": true
   },
   "outputs": [
    {
     "name": "stderr",
     "output_type": "stream",
     "text": [
      "Some weights of BartForConditionalGeneration were not initialized from the model checkpoint at facebook/bart-large-cnn and are newly initialized: ['final_logits_bias']\n",
      "You should probably TRAIN this model on a down-stream task to be able to use it for predictions and inference.\n"
     ]
    }
   ],
   "source": [
    "model = BartForConditionalGeneration.from_pretrained('facebook/bart-large-cnn')\n",
    "tokenizer = BartTokenizer.from_pretrained('facebook/bart-large-cnn')"
   ]
  },
  {
   "cell_type": "code",
   "execution_count": 3,
   "metadata": {},
   "outputs": [],
   "source": [
    "source_file = \"example_text_from_Tier_2_5.txt\""
   ]
  },
  {
   "cell_type": "code",
   "execution_count": 4,
   "metadata": {},
   "outputs": [],
   "source": [
    "with open(source_file, \"r\", encoding='utf-8') as file:\n",
    "    TEXT_TO_SUMMARIZE = file.readlines()[0]"
   ]
  },
  {
   "cell_type": "code",
   "execution_count": 5,
   "metadata": {},
   "outputs": [
    {
     "name": "stdout",
     "output_type": "stream",
     "text": [
      "We may refuse your application where you have previously been named as key personnel at any sponsor organisation where an application for a licence was refused within the last 6 months or where a licence has been revoked within the last 12 months. More information is given in Annex 2 and 6 of this guidance. We also reserve the right to undertake checks on persons associated with sponsors who do not fall under the general definition of ‘you’ or ‘your’. Such persons may include, for example, employees in positions of responsibility who are not directors or key personnel and financiers involved in the running of your institution. Where appropriate, we may refuse your application or take action against your licence.\n"
     ]
    }
   ],
   "source": [
    "print(TEXT_TO_SUMMARIZE)"
   ]
  },
  {
   "cell_type": "code",
   "execution_count": 6,
   "metadata": {},
   "outputs": [
    {
     "name": "stdout",
     "output_type": "stream",
     "text": [
      "['We reserve the right to undertake checks on persons associated with sponsors who do not fall under the general definition of ‘you’ or ‘your’ Such persons may include, for example, employees in positions of responsibility who are not directors or key personnel and financiers involved in the running of your institution. We may refuse your application or take action against your licence.']\n"
     ]
    }
   ],
   "source": [
    "inputs = tokenizer([TEXT_TO_SUMMARIZE], return_tensors='pt')\n",
    "\n",
    "# Generate Summary\n",
    "summary_ids = model.generate(inputs['input_ids'], num_beams=4)#, max_length=50, early_stopping=True)\n",
    "print([tokenizer.decode(g, skip_special_tokens=True, clean_up_tokenization_spaces=False) for g in summary_ids])"
   ]
  },
  {
   "cell_type": "markdown",
   "metadata": {},
   "source": [
    "## EXAMPLE 2: Topic modelling with LDA\n",
    "\n",
    "Based on: https://github.com/chibueze-oguejiofor/Machine-Learning-In-Law/tree/master"
   ]
  },
  {
   "cell_type": "code",
   "execution_count": 7,
   "metadata": {},
   "outputs": [
    {
     "name": "stderr",
     "output_type": "stream",
     "text": [
      "C:\\Users\\hannah\\anaconda3\\lib\\site-packages\\sklearn\\utils\\deprecation.py:143: FutureWarning: The sklearn.feature_extraction.stop_words module is  deprecated in version 0.22 and will be removed in version 0.24. The corresponding classes / functions should instead be imported from sklearn.feature_extraction.text. Anything that cannot be imported from sklearn.feature_extraction.text is now part of the private API.\n",
      "  warnings.warn(message, FutureWarning)\n"
     ]
    }
   ],
   "source": [
    "from sklearn.feature_extraction.text import CountVectorizer,TfidfVectorizer\n",
    "from sklearn.decomposition import LatentDirichletAllocation\n",
    "import pandas as pd\n",
    "import numpy as np\n",
    "%matplotlib inline\n",
    "from sklearn.feature_extraction.stop_words import ENGLISH_STOP_WORDS"
   ]
  },
  {
   "cell_type": "code",
   "execution_count": 8,
   "metadata": {},
   "outputs": [],
   "source": [
    "vect=CountVectorizer(ngram_range=(1,1),stop_words='english')"
   ]
  },
  {
   "cell_type": "code",
   "execution_count": 9,
   "metadata": {},
   "outputs": [],
   "source": [
    "source_file = \"text_extraction_from_Tier_2_5.txt\""
   ]
  },
  {
   "cell_type": "code",
   "execution_count": 10,
   "metadata": {},
   "outputs": [],
   "source": [
    "with open(source_file, \"r\", encoding='utf-8') as file:\n",
    "    SOURCE_TEXT = file.readlines()"
   ]
  },
  {
   "cell_type": "code",
   "execution_count": 11,
   "metadata": {},
   "outputs": [],
   "source": [
    "dtm=vect.fit_transform(SOURCE_TEXT)"
   ]
  },
  {
   "cell_type": "code",
   "execution_count": 12,
   "metadata": {},
   "outputs": [
    {
     "data": {
      "text/html": [
       "<div>\n",
       "<style scoped>\n",
       "    .dataframe tbody tr th:only-of-type {\n",
       "        vertical-align: middle;\n",
       "    }\n",
       "\n",
       "    .dataframe tbody tr th {\n",
       "        vertical-align: top;\n",
       "    }\n",
       "\n",
       "    .dataframe thead th {\n",
       "        text-align: right;\n",
       "    }\n",
       "</style>\n",
       "<table border=\"1\" class=\"dataframe\">\n",
       "  <thead>\n",
       "    <tr style=\"text-align: right;\">\n",
       "      <th></th>\n",
       "      <th>able</th>\n",
       "      <th>abode</th>\n",
       "      <th>abuse</th>\n",
       "      <th>abused</th>\n",
       "      <th>academic</th>\n",
       "      <th>accepted</th>\n",
       "      <th>accepts</th>\n",
       "      <th>accordance</th>\n",
       "      <th>accordingly</th>\n",
       "      <th>account</th>\n",
       "      <th>...</th>\n",
       "      <th>worker</th>\n",
       "      <th>workers</th>\n",
       "      <th>workforce</th>\n",
       "      <th>working</th>\n",
       "      <th>works</th>\n",
       "      <th>year</th>\n",
       "      <th>years</th>\n",
       "      <th>young</th>\n",
       "      <th>youth</th>\n",
       "      <th>zimbabwe</th>\n",
       "    </tr>\n",
       "  </thead>\n",
       "  <tbody>\n",
       "    <tr>\n",
       "      <th>0</th>\n",
       "      <td>0</td>\n",
       "      <td>0</td>\n",
       "      <td>0</td>\n",
       "      <td>0</td>\n",
       "      <td>0</td>\n",
       "      <td>0</td>\n",
       "      <td>0</td>\n",
       "      <td>0</td>\n",
       "      <td>0</td>\n",
       "      <td>0</td>\n",
       "      <td>...</td>\n",
       "      <td>0</td>\n",
       "      <td>0</td>\n",
       "      <td>0</td>\n",
       "      <td>0</td>\n",
       "      <td>0</td>\n",
       "      <td>0</td>\n",
       "      <td>0</td>\n",
       "      <td>0</td>\n",
       "      <td>0</td>\n",
       "      <td>0</td>\n",
       "    </tr>\n",
       "    <tr>\n",
       "      <th>1</th>\n",
       "      <td>0</td>\n",
       "      <td>0</td>\n",
       "      <td>0</td>\n",
       "      <td>0</td>\n",
       "      <td>0</td>\n",
       "      <td>0</td>\n",
       "      <td>0</td>\n",
       "      <td>0</td>\n",
       "      <td>0</td>\n",
       "      <td>0</td>\n",
       "      <td>...</td>\n",
       "      <td>0</td>\n",
       "      <td>0</td>\n",
       "      <td>0</td>\n",
       "      <td>0</td>\n",
       "      <td>0</td>\n",
       "      <td>0</td>\n",
       "      <td>0</td>\n",
       "      <td>0</td>\n",
       "      <td>0</td>\n",
       "      <td>0</td>\n",
       "    </tr>\n",
       "    <tr>\n",
       "      <th>2</th>\n",
       "      <td>0</td>\n",
       "      <td>0</td>\n",
       "      <td>0</td>\n",
       "      <td>0</td>\n",
       "      <td>0</td>\n",
       "      <td>0</td>\n",
       "      <td>0</td>\n",
       "      <td>0</td>\n",
       "      <td>0</td>\n",
       "      <td>0</td>\n",
       "      <td>...</td>\n",
       "      <td>0</td>\n",
       "      <td>0</td>\n",
       "      <td>0</td>\n",
       "      <td>0</td>\n",
       "      <td>0</td>\n",
       "      <td>0</td>\n",
       "      <td>0</td>\n",
       "      <td>0</td>\n",
       "      <td>0</td>\n",
       "      <td>0</td>\n",
       "    </tr>\n",
       "    <tr>\n",
       "      <th>3</th>\n",
       "      <td>0</td>\n",
       "      <td>0</td>\n",
       "      <td>0</td>\n",
       "      <td>0</td>\n",
       "      <td>0</td>\n",
       "      <td>0</td>\n",
       "      <td>0</td>\n",
       "      <td>0</td>\n",
       "      <td>0</td>\n",
       "      <td>0</td>\n",
       "      <td>...</td>\n",
       "      <td>0</td>\n",
       "      <td>0</td>\n",
       "      <td>0</td>\n",
       "      <td>0</td>\n",
       "      <td>0</td>\n",
       "      <td>0</td>\n",
       "      <td>0</td>\n",
       "      <td>0</td>\n",
       "      <td>0</td>\n",
       "      <td>0</td>\n",
       "    </tr>\n",
       "    <tr>\n",
       "      <th>4</th>\n",
       "      <td>0</td>\n",
       "      <td>0</td>\n",
       "      <td>0</td>\n",
       "      <td>0</td>\n",
       "      <td>0</td>\n",
       "      <td>0</td>\n",
       "      <td>0</td>\n",
       "      <td>0</td>\n",
       "      <td>0</td>\n",
       "      <td>0</td>\n",
       "      <td>...</td>\n",
       "      <td>0</td>\n",
       "      <td>0</td>\n",
       "      <td>0</td>\n",
       "      <td>0</td>\n",
       "      <td>0</td>\n",
       "      <td>0</td>\n",
       "      <td>0</td>\n",
       "      <td>0</td>\n",
       "      <td>0</td>\n",
       "      <td>0</td>\n",
       "    </tr>\n",
       "    <tr>\n",
       "      <th>...</th>\n",
       "      <td>...</td>\n",
       "      <td>...</td>\n",
       "      <td>...</td>\n",
       "      <td>...</td>\n",
       "      <td>...</td>\n",
       "      <td>...</td>\n",
       "      <td>...</td>\n",
       "      <td>...</td>\n",
       "      <td>...</td>\n",
       "      <td>...</td>\n",
       "      <td>...</td>\n",
       "      <td>...</td>\n",
       "      <td>...</td>\n",
       "      <td>...</td>\n",
       "      <td>...</td>\n",
       "      <td>...</td>\n",
       "      <td>...</td>\n",
       "      <td>...</td>\n",
       "      <td>...</td>\n",
       "      <td>...</td>\n",
       "      <td>...</td>\n",
       "    </tr>\n",
       "    <tr>\n",
       "      <th>996</th>\n",
       "      <td>0</td>\n",
       "      <td>0</td>\n",
       "      <td>0</td>\n",
       "      <td>0</td>\n",
       "      <td>0</td>\n",
       "      <td>0</td>\n",
       "      <td>0</td>\n",
       "      <td>0</td>\n",
       "      <td>0</td>\n",
       "      <td>0</td>\n",
       "      <td>...</td>\n",
       "      <td>0</td>\n",
       "      <td>0</td>\n",
       "      <td>0</td>\n",
       "      <td>0</td>\n",
       "      <td>0</td>\n",
       "      <td>0</td>\n",
       "      <td>0</td>\n",
       "      <td>0</td>\n",
       "      <td>0</td>\n",
       "      <td>0</td>\n",
       "    </tr>\n",
       "    <tr>\n",
       "      <th>997</th>\n",
       "      <td>0</td>\n",
       "      <td>0</td>\n",
       "      <td>0</td>\n",
       "      <td>0</td>\n",
       "      <td>0</td>\n",
       "      <td>0</td>\n",
       "      <td>0</td>\n",
       "      <td>0</td>\n",
       "      <td>0</td>\n",
       "      <td>0</td>\n",
       "      <td>...</td>\n",
       "      <td>0</td>\n",
       "      <td>0</td>\n",
       "      <td>0</td>\n",
       "      <td>0</td>\n",
       "      <td>0</td>\n",
       "      <td>0</td>\n",
       "      <td>0</td>\n",
       "      <td>0</td>\n",
       "      <td>0</td>\n",
       "      <td>0</td>\n",
       "    </tr>\n",
       "    <tr>\n",
       "      <th>998</th>\n",
       "      <td>0</td>\n",
       "      <td>0</td>\n",
       "      <td>0</td>\n",
       "      <td>0</td>\n",
       "      <td>0</td>\n",
       "      <td>0</td>\n",
       "      <td>0</td>\n",
       "      <td>0</td>\n",
       "      <td>0</td>\n",
       "      <td>0</td>\n",
       "      <td>...</td>\n",
       "      <td>0</td>\n",
       "      <td>0</td>\n",
       "      <td>0</td>\n",
       "      <td>0</td>\n",
       "      <td>0</td>\n",
       "      <td>0</td>\n",
       "      <td>0</td>\n",
       "      <td>0</td>\n",
       "      <td>0</td>\n",
       "      <td>0</td>\n",
       "    </tr>\n",
       "    <tr>\n",
       "      <th>999</th>\n",
       "      <td>0</td>\n",
       "      <td>0</td>\n",
       "      <td>0</td>\n",
       "      <td>0</td>\n",
       "      <td>0</td>\n",
       "      <td>0</td>\n",
       "      <td>0</td>\n",
       "      <td>0</td>\n",
       "      <td>0</td>\n",
       "      <td>0</td>\n",
       "      <td>...</td>\n",
       "      <td>0</td>\n",
       "      <td>0</td>\n",
       "      <td>0</td>\n",
       "      <td>0</td>\n",
       "      <td>0</td>\n",
       "      <td>0</td>\n",
       "      <td>0</td>\n",
       "      <td>0</td>\n",
       "      <td>0</td>\n",
       "      <td>0</td>\n",
       "    </tr>\n",
       "    <tr>\n",
       "      <th>1000</th>\n",
       "      <td>0</td>\n",
       "      <td>0</td>\n",
       "      <td>0</td>\n",
       "      <td>0</td>\n",
       "      <td>0</td>\n",
       "      <td>0</td>\n",
       "      <td>0</td>\n",
       "      <td>0</td>\n",
       "      <td>0</td>\n",
       "      <td>0</td>\n",
       "      <td>...</td>\n",
       "      <td>0</td>\n",
       "      <td>0</td>\n",
       "      <td>0</td>\n",
       "      <td>0</td>\n",
       "      <td>0</td>\n",
       "      <td>0</td>\n",
       "      <td>0</td>\n",
       "      <td>0</td>\n",
       "      <td>0</td>\n",
       "      <td>0</td>\n",
       "    </tr>\n",
       "  </tbody>\n",
       "</table>\n",
       "<p>1001 rows × 1045 columns</p>\n",
       "</div>"
      ],
      "text/plain": [
       "      able  abode  abuse  abused  academic  accepted  accepts  accordance  \\\n",
       "0        0      0      0       0         0         0        0           0   \n",
       "1        0      0      0       0         0         0        0           0   \n",
       "2        0      0      0       0         0         0        0           0   \n",
       "3        0      0      0       0         0         0        0           0   \n",
       "4        0      0      0       0         0         0        0           0   \n",
       "...    ...    ...    ...     ...       ...       ...      ...         ...   \n",
       "996      0      0      0       0         0         0        0           0   \n",
       "997      0      0      0       0         0         0        0           0   \n",
       "998      0      0      0       0         0         0        0           0   \n",
       "999      0      0      0       0         0         0        0           0   \n",
       "1000     0      0      0       0         0         0        0           0   \n",
       "\n",
       "      accordingly  account  ...  worker  workers  workforce  working  works  \\\n",
       "0               0        0  ...       0        0          0        0      0   \n",
       "1               0        0  ...       0        0          0        0      0   \n",
       "2               0        0  ...       0        0          0        0      0   \n",
       "3               0        0  ...       0        0          0        0      0   \n",
       "4               0        0  ...       0        0          0        0      0   \n",
       "...           ...      ...  ...     ...      ...        ...      ...    ...   \n",
       "996             0        0  ...       0        0          0        0      0   \n",
       "997             0        0  ...       0        0          0        0      0   \n",
       "998             0        0  ...       0        0          0        0      0   \n",
       "999             0        0  ...       0        0          0        0      0   \n",
       "1000            0        0  ...       0        0          0        0      0   \n",
       "\n",
       "      year  years  young  youth  zimbabwe  \n",
       "0        0      0      0      0         0  \n",
       "1        0      0      0      0         0  \n",
       "2        0      0      0      0         0  \n",
       "3        0      0      0      0         0  \n",
       "4        0      0      0      0         0  \n",
       "...    ...    ...    ...    ...       ...  \n",
       "996      0      0      0      0         0  \n",
       "997      0      0      0      0         0  \n",
       "998      0      0      0      0         0  \n",
       "999      0      0      0      0         0  \n",
       "1000     0      0      0      0         0  \n",
       "\n",
       "[1001 rows x 1045 columns]"
      ]
     },
     "execution_count": 12,
     "metadata": {},
     "output_type": "execute_result"
    }
   ],
   "source": [
    "pd.DataFrame(dtm.toarray(),columns=vect.get_feature_names())"
   ]
  },
  {
   "cell_type": "code",
   "execution_count": 13,
   "metadata": {},
   "outputs": [],
   "source": [
    "lda=LatentDirichletAllocation(n_components=5)\n",
    "lda_dtf=lda.fit_transform(dtm)"
   ]
  },
  {
   "cell_type": "code",
   "execution_count": 14,
   "metadata": {},
   "outputs": [],
   "source": [
    "import numpy as np\n",
    "sorting=np.argsort(lda.components_)[:,::-1]\n",
    "features=np.array(vect.get_feature_names())"
   ]
  },
  {
   "cell_type": "code",
   "execution_count": 15,
   "metadata": {},
   "outputs": [
    {
     "name": "stdout",
     "output_type": "stream",
     "text": [
      "topic 0       topic 1       topic 2       topic 3       topic 4       \n",
      "--------      --------      --------      --------      --------      \n",
      "tier          immigration   page          guidance      worker        \n",
      "sponsor       act           application   sponsors      tier          \n",
      "uk            uk            licence       version       sponsorship   \n",
      "licence       test          charge        tiers         temporary     \n",
      "information   market        uk            uk            licence       \n",
      "general       labour        sponsor       sponsor       certificate   \n",
      "migrant       resident      applying      work          cos           \n",
      "company       charge        cos           licence       apply         \n",
      "guidance      points        paid          duties        workers       \n",
      "immigration   months        migrant       refund        pay           \n",
      "\n",
      "\n"
     ]
    }
   ],
   "source": [
    "import mglearn\n",
    "mglearn.tools.print_topics(topics=range(5), feature_names=features,\n",
    "sorting=sorting, topics_per_chunk=5, n_words=10)"
   ]
  },
  {
   "cell_type": "code",
   "execution_count": 16,
   "metadata": {},
   "outputs": [
    {
     "name": "stdout",
     "output_type": "stream",
     "text": [
      " 'Transitional arrangements for standard occupational classification code skill level',\n",
      ".\n",
      "\n",
      " ' applying from outside the UK for entry clearance a visa to work in the UK ',\n",
      ".\n",
      "\n",
      " 'employer to a UK branch which is linked by common ownership or control ',\n",
      ".\n",
      "\n",
      " ' Compliance officers will refer cases of illegal working for prosecution or the ',\n",
      ".\n",
      "\n"
     ]
    }
   ],
   "source": [
    "Agreement_Topic=np.argsort(lda_dtf[:,2])[::-1]\n",
    "for i in Agreement_Topic[:4]:\n",
    "    print(\".\".join(SOURCE_TEXT[i].split(\".\"))+\".\\n\")  "
   ]
  },
  {
   "cell_type": "code",
   "execution_count": 17,
   "metadata": {},
   "outputs": [
    {
     "name": "stdout",
     "output_type": "stream",
     "text": [
      " ' ICT Long term Staff subcategory The charge came into force on April ',\n",
      ".\n",
      "\n",
      " 'the basis of their gender gender identity sexual orientation marital status ',\n",
      ".\n",
      "\n",
      " 'settled or EEA worker either on a long term basis or for frequent short ',\n",
      ".\n",
      "\n",
      " 'Tier Ministers of Religion and Tier Temporary Worker Religious Workers ',\n",
      ".\n",
      "\n"
     ]
    }
   ],
   "source": [
    "Domain_Name_Topic=np.argsort(lda_dtf[:,4])[::-1]\n",
    "for i in Domain_Name_Topic[:4]:\n",
    "    print(\".\".join(SOURCE_TEXT[i].split(\".\")[:2]) +\".\\n\")"
   ]
  },
  {
   "cell_type": "markdown",
   "metadata": {},
   "source": [
    "## Visualization of topis"
   ]
  },
  {
   "cell_type": "code",
   "execution_count": 18,
   "metadata": {},
   "outputs": [],
   "source": [
    "from __future__ import  print_function\n",
    "import pyLDAvis\n",
    "import pyLDAvis.sklearn\n",
    "pyLDAvis.enable_notebook()"
   ]
  },
  {
   "cell_type": "code",
   "execution_count": 19,
   "metadata": {},
   "outputs": [],
   "source": [
    "zit=pyLDAvis.sklearn.prepare(lda,dtm,vect)"
   ]
  },
  {
   "cell_type": "code",
   "execution_count": 20,
   "metadata": {},
   "outputs": [
    {
     "data": {
      "text/html": [
       "\n",
       "<link rel=\"stylesheet\" type=\"text/css\" href=\"https://cdn.rawgit.com/bmabey/pyLDAvis/files/ldavis.v1.0.0.css\">\n",
       "\n",
       "\n",
       "<div id=\"ldavis_el1528023337844652964928119450\"></div>\n",
       "<script type=\"text/javascript\">\n",
       "\n",
       "var ldavis_el1528023337844652964928119450_data = {\"mdsDat\": {\"x\": [0.19633182445923394, -0.004059461857880435, 0.03776105862016732, -0.12098442271754965, -0.1090489985039715], \"y\": [0.03236762118123274, -0.0019192842690765892, -0.07701046561705092, -0.13597881397176798, 0.1825409426766629], \"topics\": [1, 2, 3, 4, 5], \"cluster\": [1, 1, 1, 1, 1], \"Freq\": [22.098501780662573, 22.03036784134848, 20.828434501178346, 18.57054115384808, 16.472154722962518]}, \"tinfo\": {\"Term\": [\"tier\", \"sponsors\", \"guidance\", \"worker\", \"sponsorship\", \"version\", \"tiers\", \"sponsor\", \"temporary\", \"immigration\", \"page\", \"act\", \"application\", \"certificate\", \"uk\", \"company\", \"information\", \"general\", \"applying\", \"test\", \"market\", \"labour\", \"resident\", \"charge\", \"duties\", \"months\", \"points\", \"refund\", \"paid\", \"licence\", \"worker\", \"sponsorship\", \"temporary\", \"term\", \"long\", \"staff\", \"eea\", \"assigned\", \"restricted\", \"exchange\", \"day\", \"area\", \"economic\", \"european\", \"salary\", \"certificate\", \"religious\", \"authorised\", \"correct\", \"revoked\", \"certificates\", \"routes\", \"ict\", \"non\", \"nationals\", \"programme\", \"personnel\", \"administrative\", \"review\", \"don\", \"organisation\", \"management\", \"apply\", \"religion\", \"tier\", \"sponsored\", \"cos\", \"pay\", \"workers\", \"licence\", \"charge\", \"date\", \"work\", \"general\", \"migrants\", \"circumstances\", \"immigration\", \"application\", \"leave\", \"applying\", \"entry\", \"classification\", \"sponsoring\", \"codes\", \"occupational\", \"ukvi\", \"page\", \"request\", \"offer\", \"sms\", \"small\", \"related\", \"regulations\", \"standard\", \"practice\", \"suppliers\", \"professionals\", \"decisions\", \"transitional\", \"cases\", \"activity\", \"refused\", \"health\", \"paid\", \"job\", \"time\", \"need\", \"licensing\", \"different\", \"clearance\", \"employer\", \"application\", \"visa\", \"assign\", \"skilled\", \"service\", \"arrangements\", \"check\", \"charge\", \"cos\", \"leave\", \"migrant\", \"licence\", \"sponsor\", \"pay\", \"uk\", \"workers\", \"work\", \"remain\", \"company\", \"intra\", \"transfer\", \"rules\", \"sporting\", \"takeovers\", \"mergers\", \"addendum\", \"creative\", \"sub\", \"provisions\", \"specific\", \"intend\", \"youth\", \"mobility\", \"enter\", \"sportsperson\", \"action\", \"sector\", \"process\", \"complete\", \"placed\", \"links\", \"lack\", \"belief\", \"arrangement\", \"bank\", \"indefinite\", \"years\", \"deciding\", \"categories\", \"scheme\", \"information\", \"tier\", \"general\", \"refuse\", \"skill\", \"gov\", \"sponsor\", \"uk\", \"compliance\", \"migrant\", \"appropriate\", \"licence\", \"remain\", \"guidance\", \"employment\", \"application\", \"immigration\", \"apply\", \"come\", \"leave\", \"sponsors\", \"version\", \"tiers\", \"office\", \"home\", \"offence\", \"rating\", \"responsibility\", \"early\", \"number\", \"phrase\", \"society\", \"right\", \"relevant\", \"guidance\", \"partial\", \"providers\", \"rqf\", \"comes\", \"merger\", \"downgrade\", \"initial\", \"reporting\", \"officer\", \"authorising\", \"contacts\", \"unpaid\", \"table\", \"case\", \"sanctions\", \"refund\", \"listed\", \"law\", \"registration\", \"employers\", \"large\", \"duties\", \"wish\", \"fee\", \"make\", \"work\", \"days\", \"contact\", \"applications\", \"uk\", \"sponsor\", \"licence\", \"granted\", \"services\", \"annex\", \"workers\", \"circumstances\", \"happens\", \"test\", \"market\", \"labour\", \"resident\", \"months\", \"graduate\", \"asylum\", \"islands\", \"points\", \"stated\", \"criteria\", \"paragraphs\", \"appendix\", \"publication\", \"meaning\", \"subsequent\", \"operating\", \"illegally\", \"act\", \"designated\", \"experience\", \"trading\", \"year\", \"oisc\", \"required\", \"employing\", \"civil\", \"penalty\", \"companies\", \"judge\", \"immigration\", \"section\", \"skills\", \"new\", \"documents\", \"charge\", \"employment\", \"period\", \"based\", \"uk\", \"level\", \"representative\", \"children\"], \"Freq\": [85.0, 32.0, 44.0, 33.0, 31.0, 25.0, 24.0, 47.0, 18.0, 36.0, 23.0, 16.0, 31.0, 16.0, 53.0, 11.0, 22.0, 20.0, 10.0, 8.0, 8.0, 8.0, 8.0, 28.0, 15.0, 7.0, 8.0, 11.0, 12.0, 57.0, 33.20492978171733, 30.882770910485124, 18.277861660302612, 8.036511306885856, 8.036511306885856, 7.248615371315007, 7.2480388657365085, 7.247613610606119, 4.883048242614964, 4.877639787903219, 4.097011980676036, 4.096787818275653, 4.096787818275653, 4.096787818275653, 4.094300083530412, 14.07123365386451, 8.028065017291956, 3.3091399877739103, 3.3083951189408283, 3.3081248564564745, 3.307563972268546, 3.306695362824268, 6.432223225194495, 5.679924107649976, 2.5212453512430373, 2.52123631252812, 2.521228748979221, 2.5212278541015922, 2.5212278541015922, 2.521216842642043, 8.403759583919246, 4.021331341491204, 10.964820202689788, 3.925558507064487, 31.769181999359173, 3.8538133750942727, 11.586293661687169, 9.196322024452511, 10.696739644384083, 18.161696070357138, 8.651823102418579, 4.841439572850993, 6.175190448640879, 5.504355834361253, 5.147010087122537, 4.659623215330569, 4.944899234838973, 4.784748310068862, 4.196358252135249, 10.2954534915981, 6.397158315202478, 5.618056438986941, 5.617653716015188, 4.837774940711546, 4.837772534637886, 4.834934964053094, 20.37371584537307, 4.056176024149715, 4.053566975999059, 4.050490800197053, 7.922303332658966, 3.277172971148505, 3.2722377403552985, 5.631456615570312, 2.4969070896612973, 2.496906914386804, 2.496906914386804, 2.4968982874616983, 2.49689449625649, 2.496322186786426, 2.4953229999914424, 5.566231612885909, 4.764257730423754, 9.51601854884734, 7.069917059979721, 7.057719861824532, 4.058663823847382, 1.716616458083083, 1.7166163766841762, 5.633781992743471, 4.842292786090465, 18.44070475038296, 7.190724205420388, 5.899586780958509, 3.8213638531037075, 5.634538989668645, 4.8472852116972485, 5.418769029405801, 11.464129935187444, 10.285401789881263, 6.662980569442914, 8.603600817172493, 12.790906415548815, 10.561593125444691, 7.18660816484519, 10.573372012897295, 6.938318824275697, 6.391422152942035, 4.83868885131726, 11.188520165589715, 7.250836744490154, 6.462694887911766, 4.883891182615826, 5.569442096943736, 3.3093709339218575, 3.3093709339218575, 3.3081215681602822, 6.464296333315387, 2.522011997407121, 2.521969399085496, 2.521445380947741, 2.521395250810803, 2.521252049526255, 2.521252049526255, 2.5204642732051585, 2.5180742556953932, 4.89095792818181, 4.816017354744274, 4.109901750054232, 4.097822422420352, 1.7338863213788056, 1.73388531280146, 1.7338836364397967, 1.7338833239666864, 1.7338822537404202, 1.7338817877822446, 1.7338808306119522, 1.733878993353515, 1.733872967860806, 5.675306186461922, 5.635497847493681, 14.766380600408475, 49.35452675939532, 13.083801198879218, 3.3132198781360582, 3.3117123078758777, 7.113093216660315, 25.06057226131832, 22.276642429666857, 4.8869365935150375, 11.68811929463468, 3.9520170447650913, 16.658564963909306, 5.671323863212855, 10.821516387122745, 5.310615132641899, 7.796812113774769, 7.835989338252916, 5.135296684974135, 3.781376045782621, 3.729342019765394, 31.75682625161931, 24.82025875321236, 24.04842124645893, 6.3148598204793025, 5.547774674464212, 4.7789642680813955, 4.777481428869455, 3.236078955398777, 2.4666967718186332, 2.4666260701343794, 2.4666007022147545, 2.4662111106063804, 4.775042859077586, 4.75244300971699, 32.89064092096533, 4.020793881152884, 1.6958481570599107, 1.6958451119028772, 1.6958449673277973, 1.6958439803609935, 1.6958436927014142, 1.695837738948798, 1.6958300710236789, 1.695813218178921, 1.695813218178921, 1.6957483572196024, 1.6937451725645982, 1.6934568665529035, 1.6885094470034607, 1.6863014428807768, 8.183831411946075, 4.3390976502638745, 3.7817700184477525, 3.239920226431981, 3.241391341876836, 3.230643586586609, 9.697936168800409, 3.6151509029235784, 6.035496101543665, 5.5528132636291465, 11.214663864442183, 3.247789495129727, 3.242402720651232, 3.2387151517798003, 12.856377854957536, 11.767413429409253, 10.190348898237211, 4.006916994624267, 3.514140009316077, 3.6926688563522347, 4.105491445818135, 3.459903732419795, 3.2442164197510195, 7.906927107216489, 7.90692710721646, 7.9069271072164415, 7.90692710721644, 7.13066647010283, 6.355157625873532, 5.5820570134437, 5.579524217142581, 7.414179949797161, 4.031481767165038, 4.030992373325181, 4.028812716534613, 4.026492946818909, 3.2561591374241488, 3.2561370448873252, 3.255822480317881, 3.2557967711640536, 3.2547970529989225, 13.354932793898849, 2.4809103693046293, 2.480599323251647, 2.480386364240201, 2.479773507341826, 2.4788320193689954, 2.2816309113973445, 3.974367141145016, 1.7056226356115844, 1.7056226356115844, 1.7056206735158905, 1.7056192863170352, 20.981609245896273, 6.3706275060848805, 6.3596384576489, 6.652648830394113, 4.031686310660512, 7.522425165825117, 5.004838409855494, 4.034864490544893, 3.9499012199766788, 7.983581026230587, 4.3834744221243795, 3.548125256007952, 3.2615066517908877], \"Total\": [85.0, 32.0, 44.0, 33.0, 31.0, 25.0, 24.0, 47.0, 18.0, 36.0, 23.0, 16.0, 31.0, 16.0, 53.0, 11.0, 22.0, 20.0, 10.0, 8.0, 8.0, 8.0, 8.0, 28.0, 15.0, 7.0, 8.0, 11.0, 12.0, 57.0, 33.87166979767295, 31.508375478190416, 18.90207533143565, 8.659442106519087, 8.659442106519087, 7.871546965749813, 7.871536979122977, 7.8715375477522525, 5.507840380425639, 5.5078636100331995, 4.719966158057792, 4.719961091070236, 4.719961091070236, 4.719961091070236, 4.719925797820372, 16.538954323922564, 9.447578766691704, 3.932071315330949, 3.932055328575616, 3.932049632213089, 3.9320652831149365, 3.932029299435337, 7.871793244535924, 7.0761102673063325, 3.1441761875875547, 3.144176082476995, 3.1441759763440644, 3.1441759882842, 3.1441759882842, 3.144175833647322, 12.581166416623514, 5.4995224814620425, 18.88100527272653, 5.492516047761746, 85.06640930328312, 5.497908919190345, 26.602787217688196, 19.561529621751472, 25.052653563443457, 57.95675371780648, 28.12683620835155, 8.636857114035063, 25.66226415584142, 20.458983658698433, 16.41707051140548, 11.738857410739469, 36.66209679342039, 31.33248327709982, 14.900222784534407, 10.92429091971888, 7.022796315003564, 6.242513997575928, 6.24250921349893, 5.462225003924927, 5.462225003059988, 5.462191160434577, 23.433080341296353, 4.681941704135838, 4.681974609765866, 4.682003837047159, 9.358436582416207, 3.901646999322529, 3.9016114780230113, 7.03051516083031, 3.1213580118121174, 3.1213580117701216, 3.1213580117701216, 3.1213580116291073, 3.1213580047866727, 3.121351020120552, 3.121373391087399, 7.012740153358678, 6.2324921801278075, 12.469823900943997, 9.352992734840148, 9.352911841520443, 5.452845039779312, 2.3410690167110544, 2.3410690129473717, 7.793192026915783, 7.021130654259419, 31.33248327709982, 10.92934972794118, 9.39134510814668, 5.472446443149849, 9.360446536871548, 7.791658264486064, 9.345415706448646, 28.12683620835155, 26.602787217688196, 14.900222784534407, 25.067579515915618, 57.95675371780648, 47.70353724324943, 19.561529621751472, 53.85435132265779, 25.052653563443457, 25.66226415584142, 10.979150867923956, 11.814381670202017, 7.87371657279615, 7.085580309942535, 5.509261925922774, 6.295921374950329, 3.9330277103387936, 3.933027710338794, 3.93299393776464, 7.860908411989709, 3.1448993115585226, 3.1448987594187456, 3.1448936647722654, 3.1448931777040237, 3.1448991340934493, 3.1448991340934493, 3.1448987541232007, 3.1448470735196343, 6.280273930943812, 6.278619433641402, 5.492273784732157, 5.496507225450979, 2.3567632465293222, 2.356763232634399, 2.35676322244891, 2.3567632291486578, 2.356763194638416, 2.35676318497162, 2.3567631805761082, 2.356763160207112, 2.356763076442728, 7.839213268588908, 7.860760814722244, 22.027906163534883, 85.06640930328312, 20.458983658698433, 4.713346843248536, 4.71333036675971, 10.96061817369501, 47.70353724324943, 53.85435132265779, 7.850179935508135, 25.067579515915618, 6.278087929208689, 57.95675371780648, 10.979150867923956, 44.18186268900527, 13.254874527135463, 31.33248327709982, 36.66209679342039, 18.88100527272653, 7.0694921612874975, 14.900222784534407, 32.38524706154303, 25.447608217979848, 24.676779682584407, 6.947338440995797, 6.176470286371455, 5.405573996620902, 5.405601898901693, 3.8638964898042114, 3.0930316951755596, 3.093032762626902, 3.0930331388361103, 3.0930423288398488, 6.193559871975788, 6.1861988158941, 44.18186268900527, 5.422516723475895, 2.3221849006809236, 2.322184944096736, 2.3221849362463907, 2.32218496774702, 2.3221849724282073, 2.3221850608413117, 2.3221851699934835, 2.3221854239384916, 2.3221854239384916, 2.322186397623783, 2.322231281301118, 2.322226248877828, 2.322274926610296, 2.3222667998620143, 11.588275323732624, 6.18340918967842, 5.417793227421606, 4.639177355658424, 4.644135178457431, 4.639257887952696, 15.49679571786507, 5.431317370359669, 10.852224781193648, 10.07786201839423, 25.66226415584142, 5.439677253893746, 5.440038074876273, 5.440123995974044, 53.85435132265779, 47.70353724324943, 57.95675371780648, 9.335114258585966, 6.963439995381497, 11.721238953721485, 25.052653563443457, 11.738857410739469, 9.379458911448578, 8.533387445501763, 8.533387445501763, 8.533387445501763, 8.533387445501765, 7.758076722288244, 6.982813942239615, 6.207507118971128, 6.2075077451400205, 8.541543553275066, 4.656931125689659, 4.656938849646506, 4.656971682514683, 4.656916163295913, 3.8816434050763498, 3.8816435827023508, 3.8816492156847233, 3.881649423328506, 3.881645690538832, 16.273052159808863, 3.106355100701869, 3.106357127926957, 3.1063635687355173, 3.1063734932674683, 3.1063539422619826, 3.1096574405409045, 5.427458770257993, 2.3310671035035893, 2.3310671035035893, 2.3310671186447935, 2.3310671312232363, 36.66209679342039, 10.103869097105527, 10.134318996005135, 11.68230093983796, 7.021301122500863, 28.12683620835155, 13.254874527135463, 9.33865663220826, 9.362717698504698, 53.85435132265779, 14.004617234532368, 8.55213528963404, 6.230281167322386], \"Category\": [\"Default\", \"Default\", \"Default\", \"Default\", \"Default\", \"Default\", \"Default\", \"Default\", \"Default\", \"Default\", \"Default\", \"Default\", \"Default\", \"Default\", \"Default\", \"Default\", \"Default\", \"Default\", \"Default\", \"Default\", \"Default\", \"Default\", \"Default\", \"Default\", \"Default\", \"Default\", \"Default\", \"Default\", \"Default\", \"Default\", \"Topic1\", \"Topic1\", \"Topic1\", \"Topic1\", \"Topic1\", \"Topic1\", \"Topic1\", \"Topic1\", \"Topic1\", \"Topic1\", \"Topic1\", \"Topic1\", \"Topic1\", \"Topic1\", \"Topic1\", \"Topic1\", \"Topic1\", \"Topic1\", \"Topic1\", \"Topic1\", \"Topic1\", \"Topic1\", \"Topic1\", \"Topic1\", \"Topic1\", \"Topic1\", \"Topic1\", \"Topic1\", \"Topic1\", \"Topic1\", \"Topic1\", \"Topic1\", \"Topic1\", \"Topic1\", \"Topic1\", \"Topic1\", \"Topic1\", \"Topic1\", \"Topic1\", \"Topic1\", \"Topic1\", \"Topic1\", \"Topic1\", \"Topic1\", \"Topic1\", \"Topic1\", \"Topic1\", \"Topic1\", \"Topic1\", \"Topic2\", \"Topic2\", \"Topic2\", \"Topic2\", \"Topic2\", \"Topic2\", \"Topic2\", \"Topic2\", \"Topic2\", \"Topic2\", \"Topic2\", \"Topic2\", \"Topic2\", \"Topic2\", \"Topic2\", \"Topic2\", \"Topic2\", \"Topic2\", \"Topic2\", \"Topic2\", \"Topic2\", \"Topic2\", \"Topic2\", \"Topic2\", \"Topic2\", \"Topic2\", \"Topic2\", \"Topic2\", \"Topic2\", \"Topic2\", \"Topic2\", \"Topic2\", \"Topic2\", \"Topic2\", \"Topic2\", \"Topic2\", \"Topic2\", \"Topic2\", \"Topic2\", \"Topic2\", \"Topic2\", \"Topic2\", \"Topic2\", \"Topic2\", \"Topic2\", \"Topic2\", \"Topic2\", \"Topic2\", \"Topic2\", \"Topic2\", \"Topic3\", \"Topic3\", \"Topic3\", \"Topic3\", \"Topic3\", \"Topic3\", \"Topic3\", \"Topic3\", \"Topic3\", \"Topic3\", \"Topic3\", \"Topic3\", \"Topic3\", \"Topic3\", \"Topic3\", \"Topic3\", \"Topic3\", \"Topic3\", \"Topic3\", \"Topic3\", \"Topic3\", \"Topic3\", \"Topic3\", \"Topic3\", \"Topic3\", \"Topic3\", \"Topic3\", \"Topic3\", \"Topic3\", \"Topic3\", \"Topic3\", \"Topic3\", \"Topic3\", \"Topic3\", \"Topic3\", \"Topic3\", \"Topic3\", \"Topic3\", \"Topic3\", \"Topic3\", \"Topic3\", \"Topic3\", \"Topic3\", \"Topic3\", \"Topic3\", \"Topic3\", \"Topic3\", \"Topic3\", \"Topic3\", \"Topic3\", \"Topic3\", \"Topic3\", \"Topic4\", \"Topic4\", \"Topic4\", \"Topic4\", \"Topic4\", \"Topic4\", \"Topic4\", \"Topic4\", \"Topic4\", \"Topic4\", \"Topic4\", \"Topic4\", \"Topic4\", \"Topic4\", \"Topic4\", \"Topic4\", \"Topic4\", \"Topic4\", \"Topic4\", \"Topic4\", \"Topic4\", \"Topic4\", \"Topic4\", \"Topic4\", \"Topic4\", \"Topic4\", \"Topic4\", \"Topic4\", \"Topic4\", \"Topic4\", \"Topic4\", \"Topic4\", \"Topic4\", \"Topic4\", \"Topic4\", \"Topic4\", \"Topic4\", \"Topic4\", \"Topic4\", \"Topic4\", \"Topic4\", \"Topic4\", \"Topic4\", \"Topic4\", \"Topic4\", \"Topic4\", \"Topic4\", \"Topic4\", \"Topic4\", \"Topic4\", \"Topic4\", \"Topic4\", \"Topic4\", \"Topic5\", \"Topic5\", \"Topic5\", \"Topic5\", \"Topic5\", \"Topic5\", \"Topic5\", \"Topic5\", \"Topic5\", \"Topic5\", \"Topic5\", \"Topic5\", \"Topic5\", \"Topic5\", \"Topic5\", \"Topic5\", \"Topic5\", \"Topic5\", \"Topic5\", \"Topic5\", \"Topic5\", \"Topic5\", \"Topic5\", \"Topic5\", \"Topic5\", \"Topic5\", \"Topic5\", \"Topic5\", \"Topic5\", \"Topic5\", \"Topic5\", \"Topic5\", \"Topic5\", \"Topic5\", \"Topic5\", \"Topic5\", \"Topic5\", \"Topic5\", \"Topic5\", \"Topic5\", \"Topic5\", \"Topic5\", \"Topic5\"], \"logprob\": [30.0, 29.0, 28.0, 27.0, 26.0, 25.0, 24.0, 23.0, 22.0, 21.0, 20.0, 19.0, 18.0, 17.0, 16.0, 15.0, 14.0, 13.0, 12.0, 11.0, 10.0, 9.0, 8.0, 7.0, 6.0, 5.0, 4.0, 3.0, 2.0, 1.0, -3.2107, -3.2832, -3.8077, -4.6294, -4.6294, -4.7326, -4.7327, -4.7328, -5.1277, -5.1288, -5.3032, -5.3032, -5.3032, -5.3032, -5.3038, -4.0693, -4.6305, -5.5167, -5.517, -5.517, -5.5172, -5.5175, -4.8521, -4.9765, -5.7887, -5.7887, -5.7887, -5.7887, -5.7887, -5.7887, -4.5848, -5.3218, -4.3187, -5.3459, -3.2549, -5.3644, -4.2636, -4.4946, -4.3435, -3.8141, -4.5557, -5.1362, -4.8929, -5.0079, -5.075, -5.1745, -5.1151, -5.148, -5.2792, -4.3786, -4.8545, -4.9844, -4.9844, -5.1339, -5.1339, -5.1345, -3.6961, -5.3101, -5.3107, -5.3115, -4.6407, -5.5234, -5.5249, -4.982, -5.7953, -5.7953, -5.7953, -5.7953, -5.7953, -5.7955, -5.7959, -4.9936, -5.1492, -4.4574, -4.7545, -4.7562, -5.3095, -6.17, -6.17, -4.9816, -5.133, -3.7958, -4.7376, -4.9355, -5.3697, -4.9814, -5.1319, -5.0205, -4.2711, -4.3796, -4.8138, -4.5582, -4.1616, -4.3531, -4.7381, -4.352, -4.7733, -4.8554, -5.1337, -4.2394, -4.6731, -4.7882, -5.0683, -4.9369, -5.4575, -5.4575, -5.4579, -4.7879, -5.7292, -5.7292, -5.7294, -5.7294, -5.7295, -5.7295, -5.7298, -5.7307, -5.0669, -5.0823, -5.2408, -5.2438, -6.1039, -6.1039, -6.1039, -6.1039, -6.1039, -6.1039, -6.1039, -6.1039, -6.1039, -4.9181, -4.9252, -3.9619, -2.7552, -4.0829, -5.4563, -5.4568, -4.6923, -3.4329, -3.5507, -5.0677, -4.1957, -5.28, -3.8413, -4.9188, -4.2727, -4.9845, -4.6005, -4.5955, -5.0181, -5.3242, -5.338, -3.0814, -3.3278, -3.3594, -4.6966, -4.8261, -4.9753, -4.9756, -5.3651, -5.6366, -5.6366, -5.6367, -5.6368, -4.9761, -4.9808, -3.0463, -5.148, -6.0113, -6.0113, -6.0113, -6.0113, -6.0113, -6.0113, -6.0113, -6.0113, -6.0113, -6.0114, -6.0126, -6.0127, -6.0157, -6.017, -4.4373, -5.0718, -5.2093, -5.3639, -5.3635, -5.3668, -4.2676, -5.2544, -4.7418, -4.8252, -4.1223, -5.3615, -5.3632, -5.3643, -3.9857, -4.0742, -4.2181, -5.1515, -5.2827, -5.2331, -5.1272, -5.2983, -5.3626, -4.3519, -4.3519, -4.3519, -4.3519, -4.4552, -4.5703, -4.7, -4.7005, -4.4162, -5.0255, -5.0256, -5.0261, -5.0267, -5.239, -5.2391, -5.2391, -5.2392, -5.2395, -3.8277, -5.511, -5.5111, -5.5112, -5.5114, -5.5118, -5.5947, -5.0397, -5.8857, -5.8857, -5.8857, -5.8857, -3.3759, -4.5679, -4.5696, -4.5246, -5.0254, -4.4017, -4.8092, -5.0246, -5.0459, -4.3422, -4.9418, -5.1532, -5.2374], \"loglift\": [30.0, 29.0, 28.0, 27.0, 26.0, 25.0, 24.0, 23.0, 22.0, 21.0, 20.0, 19.0, 18.0, 17.0, 16.0, 15.0, 14.0, 13.0, 12.0, 11.0, 10.0, 9.0, 8.0, 7.0, 6.0, 5.0, 4.0, 3.0, 2.0, 1.0, 1.4898, 1.4896, 1.4761, 1.435, 1.435, 1.4272, 1.4271, 1.4271, 1.3893, 1.3881, 1.3681, 1.3681, 1.3681, 1.3681, 1.3675, 1.3481, 1.3468, 1.3372, 1.337, 1.3369, 1.3367, 1.3365, 1.3077, 1.2899, 1.2889, 1.2889, 1.2889, 1.2889, 1.2889, 1.2889, 1.1061, 1.1966, 0.9662, 1.1738, 0.5247, 1.1544, 0.6785, 0.7549, 0.6586, 0.3493, 0.3307, 0.9308, 0.0852, 0.1968, 0.3498, 0.5857, -0.4937, -0.3696, 0.2425, 1.4535, 1.4194, 1.4074, 1.4073, 1.3913, 1.3913, 1.3908, 1.3728, 1.3693, 1.3686, 1.3679, 1.3462, 1.3383, 1.3368, 1.2909, 1.2895, 1.2895, 1.2895, 1.2895, 1.2895, 1.2893, 1.2889, 1.2817, 1.2441, 1.2424, 1.2329, 1.2312, 1.2175, 1.2025, 1.2025, 1.1883, 1.1412, 0.9827, 1.0941, 1.0478, 1.1536, 1.0052, 1.0381, 0.9677, 0.6152, 0.5625, 0.7079, 0.4434, 0.0018, 0.005, 0.5114, -0.1152, 0.2288, 0.1227, 0.6934, 1.5144, 1.4864, 1.4768, 1.4484, 1.4462, 1.3962, 1.3962, 1.3958, 1.3732, 1.3481, 1.3481, 1.3479, 1.3479, 1.3478, 1.3478, 1.3475, 1.3466, 1.3188, 1.3036, 1.2789, 1.2752, 1.2619, 1.2619, 1.2619, 1.2619, 1.2619, 1.2619, 1.2619, 1.2619, 1.2619, 1.2458, 1.2361, 1.1689, 1.0244, 1.1218, 1.2164, 1.2159, 1.1365, 0.9251, 0.6861, 1.0949, 0.8058, 1.106, 0.3221, 0.9083, 0.1621, 0.6542, 0.1779, 0.0258, 0.2668, 0.9432, 0.1837, 1.664, 1.6586, 1.6578, 1.5881, 1.5762, 1.5604, 1.5601, 1.5063, 1.4573, 1.4573, 1.4573, 1.4571, 1.4235, 1.4199, 1.3885, 1.3845, 1.3693, 1.3693, 1.3693, 1.3693, 1.3693, 1.3693, 1.3693, 1.3692, 1.3692, 1.3692, 1.368, 1.3678, 1.3649, 1.3636, 1.3358, 1.3294, 1.3241, 1.3246, 1.324, 1.3217, 1.2149, 1.2765, 1.0969, 1.0876, 0.8558, 1.1678, 1.1661, 1.165, 0.2512, 0.2839, -0.0547, 0.8378, 0.9997, 0.5285, -0.1251, 0.4619, 0.6219, 1.7273, 1.7273, 1.7273, 1.7273, 1.7192, 1.7093, 1.6973, 1.6968, 1.662, 1.6593, 1.6592, 1.6586, 1.658, 1.6278, 1.6278, 1.6277, 1.6277, 1.6274, 1.6059, 1.5787, 1.5785, 1.5785, 1.5782, 1.5778, 1.4939, 1.4919, 1.4911, 1.4911, 1.4911, 1.4911, 1.2454, 1.3423, 1.3375, 1.2404, 1.2487, 0.4847, 0.8295, 0.9643, 0.9405, -0.1054, 0.642, 0.9237, 1.1563]}, \"token.table\": {\"Topic\": [4, 5, 3, 4, 2, 3, 1, 1, 3, 4, 5, 5, 1, 2, 3, 3, 4, 1, 2, 3, 2, 1, 3, 4, 1, 3, 1, 2, 4, 1, 2, 1, 5, 1, 4, 3, 1, 2, 3, 4, 5, 3, 4, 2, 3, 4, 1, 3, 1, 1, 2, 5, 2, 3, 4, 2, 3, 5, 1, 3, 4, 5, 2, 2, 5, 2, 1, 2, 3, 4, 5, 3, 3, 5, 2, 3, 3, 4, 4, 1, 1, 2, 4, 5, 3, 5, 5, 1, 2, 3, 1, 1, 3, 4, 3, 2, 5, 2, 3, 5, 1, 4, 2, 3, 4, 4, 1, 1, 2, 3, 4, 2, 4, 4, 5, 3, 4, 5, 3, 2, 1, 1, 5, 2, 4, 1, 3, 5, 3, 4, 5, 5, 2, 3, 4, 5, 3, 4, 1, 3, 4, 2, 4, 4, 1, 3, 5, 1, 2, 3, 5, 3, 1, 2, 3, 4, 3, 3, 5, 2, 5, 5, 5, 3, 4, 5, 2, 4, 1, 2, 3, 2, 3, 4, 5, 1, 2, 3, 4, 2, 3, 4, 5, 1, 2, 4, 1, 2, 5, 5, 4, 3, 1, 2, 3, 4, 1, 2, 3, 4, 5, 3, 5, 1, 2, 4, 2, 3, 5, 1, 2, 4, 2, 4, 2, 4, 4, 5, 5, 1, 3, 5, 2, 3, 2, 5, 5, 3, 4, 1, 2, 4, 5, 2, 5, 1, 4, 3, 3, 5, 2, 3, 4, 2, 1, 4, 3, 5, 4, 4, 5, 2, 3, 2, 4, 4, 5, 2, 2, 2, 4, 1, 5, 1, 3, 2, 3, 4, 2, 4, 5, 2, 5, 5, 4, 1, 1, 1, 1, 4, 1, 4, 3, 1, 4, 1, 3, 5, 2, 5, 3, 4, 2, 3, 4, 4, 5, 2, 3, 2, 3, 1, 5, 2, 5, 2, 4, 3, 2, 3, 4, 1, 2, 2, 4, 1, 3, 3, 1, 2, 3, 5, 3, 5, 2, 4, 3, 1, 1, 5, 1, 2, 3, 4, 2, 5, 5, 3, 2, 2, 3, 4, 5, 2, 4, 4, 1, 2, 5, 1, 4, 1, 2, 4, 5, 1, 1, 2, 3, 4, 5, 3, 3], \"Freq\": [0.12290257416734607, 0.7988667320877495, 0.7961436165012296, 0.15922872330024593, 0.640743592455389, 0.7627776822115019, 0.954145064137177, 0.3412608526959518, 0.25594563952196386, 0.3412608526959518, 0.08531521317398795, 0.8589375156732513, 0.1595787973707907, 0.5744836705348465, 0.2553260757932651, 0.36763867909630316, 0.5514580186444547, 0.5825960980949154, 0.10592656328998462, 0.26481640822496155, 0.9153912206740586, 0.15928416601932546, 0.6371366640773019, 0.15928416601932546, 0.8474646131231164, 0.8486215350570459, 0.12834238438792203, 0.6417119219396102, 0.25668476877584406, 0.31944305799151174, 0.6388861159830235, 0.8892798843345258, 0.9665715858243717, 0.762956660603573, 0.8612576667576975, 0.8486215385378585, 0.10680659528586536, 0.21361319057173073, 0.21361319057173073, 0.10680659528586536, 0.42722638114346145, 0.848621522630624, 0.8612244730727451, 0.6407481847148215, 0.765382927396747, 0.25512764246558234, 0.8464864057185209, 0.12092662938836012, 0.7629578310621117, 0.3199791093933159, 0.39108557814738615, 0.28442587501628086, 0.535021678762758, 0.10700433575255158, 0.21400867150510317, 0.3210127996293221, 0.16050639981466105, 0.48151919944398314, 0.42593583217270153, 0.25556149930362093, 0.25556149930362093, 0.8579761590706694, 0.9611512288686737, 0.7699027534901571, 0.25663425116338573, 0.9153778902200492, 0.14145287627249872, 0.28290575254499745, 0.5658115050899949, 0.8612578476341447, 0.8579761534977743, 0.9310686167981154, 0.7277348752455804, 0.1819337188113951, 0.25477123026869086, 0.6369280756717273, 0.3676444856584, 0.5514667284876, 0.8612573056351265, 0.7629597625948839, 0.45108055414664217, 0.3759004617888685, 0.07518009235777369, 0.11277013853666054, 0.7632705643597892, 0.12721176072663154, 0.8589333313456816, 0.5789142895365146, 0.23156571581460583, 0.11578285790730292, 0.8474637033512017, 0.18383443600154686, 0.18383443600154686, 0.5515033080046406, 0.8486215776168633, 0.6407467495073258, 0.6438413945489064, 0.8543105687781622, 0.42727123472685546, 0.5696949796358073, 0.9541451110639463, 0.8612578342149408, 0.3226473453628793, 0.06452946907257585, 0.6452946907257586, 0.6466147770550021, 0.8474646131231164, 0.8892799485749121, 0.7121360142994511, 0.14242720285989022, 0.14242720285989022, 0.2153253429483838, 0.6459760288451514, 0.18424829046697028, 0.7369931618678811, 0.3772197156422694, 0.22633182938536167, 0.3772197156422694, 0.9539257809386622, 0.8543605325960468, 0.8474646131231164, 0.9077929945273031, 0.6438409743746077, 0.36858801588148044, 0.5528820238222206, 0.2932697000053086, 0.6354176833448353, 0.0977565666684362, 0.6386501097903113, 0.18247145994008895, 0.09123572997004448, 0.8592524517523669, 0.2142448334963336, 0.3213672502445004, 0.4284896669926672, 0.1071224167481668, 0.24897094261119435, 0.746912827833583, 0.426463833123422, 0.213231916561711, 0.3198478748425665, 0.8022472961847289, 0.16044945923694579, 0.9714286189053899, 0.7622151412786154, 0.12703585687976923, 0.7728680665812016, 0.1363806338784565, 0.0818283803270739, 0.2182090142055304, 0.5727986622895173, 0.8486215401205912, 0.18158784454155802, 0.1361908834061685, 0.6809544170308426, 0.8612578014240664, 0.9539274724078848, 0.8890337790650404, 0.9665714883235575, 0.748423547248659, 0.21383529921390257, 0.8579761488681333, 0.937494055097319, 0.8486215250430641, 0.6466551488311204, 0.21555171627704015, 0.184576996209195, 0.73830798483678, 0.2684523619439956, 0.46979163340199226, 0.2684523619439956, 0.28562008750491674, 0.14281004375245837, 0.21421506562868756, 0.28562008750491674, 0.3105764012878059, 0.2243051787078598, 0.29332215677181667, 0.17254244515989214, 0.8543105674047068, 0.848621521375481, 0.6468923335490964, 0.1617230833872741, 0.9238470448318328, 0.39690958188345443, 0.5953643728251816, 0.7273358757025399, 0.18183396892563497, 0.937494055097319, 0.7728684862692721, 0.8612578359511115, 0.7627711323044754, 0.07978432854796304, 0.35902947846583366, 0.47870597128777825, 0.11967649282194456, 0.3045610358149059, 0.18273662148894354, 0.18273662148894354, 0.18273662148894354, 0.12182441432596236, 0.9539256656842771, 0.9022854826750605, 0.9541450036557343, 0.733562015942028, 0.183390503985507, 0.2567987261627256, 0.17119915077515038, 0.5991970277130264, 0.8479234739630511, 0.14132057899384187, 0.6466145538986813, 0.9153778903649986, 0.9249711507280389, 0.8543403869932628, 0.8636400905121285, 0.8612576667576975, 0.6438416346540476, 0.7728673233523254, 0.6358710897766672, 0.23845165866625018, 0.0794838862220834, 0.8534942785457786, 0.1280241417818668, 0.8019359438783233, 0.16038718877566466, 0.8589272756410814, 0.18441621317102894, 0.7376648526841157, 0.46008671990519784, 0.35784522659293166, 0.1533622399683993, 0.8579761590706694, 0.5354089133928975, 0.428327130714318, 0.9541450677605815, 0.6466144752502031, 0.8486215163722074, 0.117074858163847, 0.819524007146929, 0.6407467494697577, 0.728295812768749, 0.18207395319218725, 0.6407467494783786, 0.9541450355530303, 0.8612578608247556, 0.9539257793323921, 0.7728685216361321, 0.9249663762727138, 0.6903529452407912, 0.25888235446529667, 0.2121634654221159, 0.6364903962663477, 0.8555856724744554, 0.1425976120790759, 0.6466663742313898, 0.21555545807712997, 0.7689130547463255, 0.7689060544228915, 0.1616501554121921, 0.8082507770609605, 0.728263689212167, 0.18206592230304175, 0.8467778038754994, 0.10584722548443742, 0.4554086249609437, 0.5464903499531324, 0.8612577609414379, 0.4677194483637743, 0.11692986209094358, 0.4677194483637743, 0.8543463914697105, 0.643157659080324, 0.9374940550973189, 0.7764183144957938, 0.9077968231921794, 0.954145064137177, 0.7629608678951236, 0.16145803393695024, 0.8072901696847512, 0.7629648132151045, 0.8612578447225887, 0.9075625859198053, 0.8474709500406068, 0.8612274869187455, 0.12721414931327285, 0.7632848958796371, 0.12721414931327285, 0.29691596072433435, 0.5938319214486687, 0.7963534106255198, 0.15927068212510395, 0.6409950611186678, 0.21366502037288926, 0.21366502037288926, 0.574428731008381, 0.43082154825628577, 0.21216420708643718, 0.6364926212593116, 0.7309345174144211, 0.18273362935360526, 0.2960238375348729, 0.5920476750697458, 0.8548436407670266, 0.10685545509587832, 0.8543350537966914, 0.646612554038395, 0.9539273246675074, 0.23059086675080095, 0.5240701517063658, 0.2515536728190556, 0.727549338992881, 0.18188733474822025, 0.9611519654669435, 0.9881042420083771, 0.9838653859338986, 0.9529979240008117, 0.9539414572049365, 0.8892788203459836, 0.8534225249137212, 0.1422370874856202, 0.8589347559671345, 0.9539256118547355, 0.7728673646958589, 0.6407467494783786, 0.8612425257730432, 0.7627711323044755, 0.9522763868189951, 0.9238470448318328, 0.937494055097319, 0.3761766866861861, 0.04702208583577326, 0.5760205514882224, 0.9725742300539303, 0.7484300203627339, 0.2138371486750668, 0.643839639419324, 0.84679020454835, 0.6407467509119285, 0.20425461879757228, 0.40850923759514457, 0.2413918222153127, 0.14854881367096165, 0.9153835618602179, 0.8612406594055629, 0.9824105977211802, 0.18299350371110787, 0.6404772629888775, 0.18299350371110787, 0.1841173939599443, 0.7364695758397772, 0.23380633772465625, 0.23380633772465625, 0.4286449524952031, 0.07793544590821876, 0.9742655203336673, 0.43907524494934436, 0.27941151951321913, 0.1197477940770939, 0.15966372543612523, 0.6438375824203552, 0.8486215474550444, 0.9539256656842771], \"Term\": [\"act\", \"act\", \"action\", \"action\", \"activity\", \"addendum\", \"administrative\", \"annex\", \"annex\", \"annex\", \"annex\", \"appendix\", \"application\", \"application\", \"application\", \"applications\", \"applications\", \"apply\", \"apply\", \"apply\", \"applying\", \"appropriate\", \"appropriate\", \"appropriate\", \"area\", \"arrangement\", \"arrangements\", \"arrangements\", \"arrangements\", \"assign\", \"assign\", \"assigned\", \"asylum\", \"authorised\", \"authorising\", \"bank\", \"based\", \"based\", \"based\", \"based\", \"based\", \"belief\", \"case\", \"cases\", \"categories\", \"categories\", \"certificate\", \"certificate\", \"certificates\", \"charge\", \"charge\", \"charge\", \"check\", \"check\", \"check\", \"children\", \"children\", \"children\", \"circumstances\", \"circumstances\", \"circumstances\", \"civil\", \"classification\", \"clearance\", \"clearance\", \"codes\", \"come\", \"come\", \"come\", \"comes\", \"companies\", \"company\", \"complete\", \"complete\", \"compliance\", \"compliance\", \"contact\", \"contact\", \"contacts\", \"correct\", \"cos\", \"cos\", \"cos\", \"cos\", \"creative\", \"creative\", \"criteria\", \"date\", \"date\", \"date\", \"day\", \"days\", \"days\", \"days\", \"deciding\", \"decisions\", \"designated\", \"different\", \"documents\", \"documents\", \"don\", \"downgrade\", \"duties\", \"duties\", \"duties\", \"early\", \"economic\", \"eea\", \"employer\", \"employer\", \"employer\", \"employers\", \"employers\", \"employing\", \"employing\", \"employment\", \"employment\", \"employment\", \"enter\", \"entry\", \"european\", \"exchange\", \"experience\", \"fee\", \"fee\", \"general\", \"general\", \"general\", \"gov\", \"gov\", \"gov\", \"graduate\", \"granted\", \"granted\", \"granted\", \"granted\", \"guidance\", \"guidance\", \"happens\", \"happens\", \"happens\", \"health\", \"health\", \"home\", \"ict\", \"ict\", \"illegally\", \"immigration\", \"immigration\", \"immigration\", \"immigration\", \"indefinite\", \"information\", \"information\", \"information\", \"initial\", \"intend\", \"intra\", \"islands\", \"job\", \"job\", \"judge\", \"labour\", \"lack\", \"large\", \"large\", \"law\", \"law\", \"leave\", \"leave\", \"leave\", \"level\", \"level\", \"level\", \"level\", \"licence\", \"licence\", \"licence\", \"licence\", \"licensing\", \"links\", \"listed\", \"listed\", \"long\", \"make\", \"make\", \"management\", \"management\", \"market\", \"meaning\", \"merger\", \"mergers\", \"migrant\", \"migrant\", \"migrant\", \"migrant\", \"migrants\", \"migrants\", \"migrants\", \"migrants\", \"migrants\", \"mobility\", \"months\", \"nationals\", \"need\", \"need\", \"new\", \"new\", \"new\", \"non\", \"non\", \"number\", \"occupational\", \"offence\", \"offer\", \"office\", \"officer\", \"oisc\", \"operating\", \"organisation\", \"organisation\", \"organisation\", \"page\", \"page\", \"paid\", \"paid\", \"paragraphs\", \"partial\", \"partial\", \"pay\", \"pay\", \"pay\", \"penalty\", \"period\", \"period\", \"personnel\", \"phrase\", \"placed\", \"points\", \"points\", \"practice\", \"process\", \"process\", \"professionals\", \"programme\", \"providers\", \"provisions\", \"publication\", \"rating\", \"refund\", \"refund\", \"refuse\", \"refuse\", \"refused\", \"refused\", \"registration\", \"registration\", \"regulations\", \"related\", \"relevant\", \"relevant\", \"religion\", \"religion\", \"religious\", \"religious\", \"remain\", \"remain\", \"reporting\", \"representative\", \"representative\", \"representative\", \"request\", \"required\", \"resident\", \"responsibility\", \"restricted\", \"review\", \"revoked\", \"right\", \"right\", \"routes\", \"rqf\", \"rules\", \"salary\", \"sanctions\", \"scheme\", \"scheme\", \"scheme\", \"section\", \"section\", \"sector\", \"sector\", \"service\", \"service\", \"service\", \"services\", \"services\", \"skill\", \"skill\", \"skilled\", \"skilled\", \"skills\", \"skills\", \"small\", \"small\", \"sms\", \"society\", \"specific\", \"sponsor\", \"sponsor\", \"sponsor\", \"sponsored\", \"sponsored\", \"sponsoring\", \"sponsors\", \"sponsorship\", \"sporting\", \"sportsperson\", \"staff\", \"standard\", \"standard\", \"stated\", \"sub\", \"subsequent\", \"suppliers\", \"table\", \"takeovers\", \"temporary\", \"term\", \"test\", \"tier\", \"tier\", \"tier\", \"tiers\", \"time\", \"time\", \"trading\", \"transfer\", \"transitional\", \"uk\", \"uk\", \"uk\", \"uk\", \"ukvi\", \"unpaid\", \"version\", \"visa\", \"visa\", \"visa\", \"wish\", \"wish\", \"work\", \"work\", \"work\", \"work\", \"worker\", \"workers\", \"workers\", \"workers\", \"workers\", \"year\", \"years\", \"youth\"]}, \"R\": 30, \"lambda.step\": 0.01, \"plot.opts\": {\"xlab\": \"PC1\", \"ylab\": \"PC2\"}, \"topic.order\": [5, 3, 1, 4, 2]};\n",
       "\n",
       "function LDAvis_load_lib(url, callback){\n",
       "  var s = document.createElement('script');\n",
       "  s.src = url;\n",
       "  s.async = true;\n",
       "  s.onreadystatechange = s.onload = callback;\n",
       "  s.onerror = function(){console.warn(\"failed to load library \" + url);};\n",
       "  document.getElementsByTagName(\"head\")[0].appendChild(s);\n",
       "}\n",
       "\n",
       "if(typeof(LDAvis) !== \"undefined\"){\n",
       "   // already loaded: just create the visualization\n",
       "   !function(LDAvis){\n",
       "       new LDAvis(\"#\" + \"ldavis_el1528023337844652964928119450\", ldavis_el1528023337844652964928119450_data);\n",
       "   }(LDAvis);\n",
       "}else if(typeof define === \"function\" && define.amd){\n",
       "   // require.js is available: use it to load d3/LDAvis\n",
       "   require.config({paths: {d3: \"https://cdnjs.cloudflare.com/ajax/libs/d3/3.5.5/d3.min\"}});\n",
       "   require([\"d3\"], function(d3){\n",
       "      window.d3 = d3;\n",
       "      LDAvis_load_lib(\"https://cdn.rawgit.com/bmabey/pyLDAvis/files/ldavis.v1.0.0.js\", function(){\n",
       "        new LDAvis(\"#\" + \"ldavis_el1528023337844652964928119450\", ldavis_el1528023337844652964928119450_data);\n",
       "      });\n",
       "    });\n",
       "}else{\n",
       "    // require.js not available: dynamically load d3 & LDAvis\n",
       "    LDAvis_load_lib(\"https://cdnjs.cloudflare.com/ajax/libs/d3/3.5.5/d3.min.js\", function(){\n",
       "         LDAvis_load_lib(\"https://cdn.rawgit.com/bmabey/pyLDAvis/files/ldavis.v1.0.0.js\", function(){\n",
       "                 new LDAvis(\"#\" + \"ldavis_el1528023337844652964928119450\", ldavis_el1528023337844652964928119450_data);\n",
       "            })\n",
       "         });\n",
       "}\n",
       "</script>"
      ],
      "text/plain": [
       "<IPython.core.display.HTML object>"
      ]
     },
     "execution_count": 20,
     "metadata": {},
     "output_type": "execute_result"
    }
   ],
   "source": [
    "pyLDAvis.display(zit)"
   ]
  },
  {
   "cell_type": "markdown",
   "metadata": {},
   "source": [
    "## EXAMPLE 3: Predicting missing words with BERT\n",
    "\n",
    "See: https://stackoverflow.com/questions/54978443/predicting-missing-words-in-a-sentence-natural-language-processing-model"
   ]
  },
  {
   "cell_type": "code",
   "execution_count": 21,
   "metadata": {},
   "outputs": [],
   "source": [
    "#!pip install transformers\n",
    "from transformers import BertTokenizer, BertModel, BertForMaskedLM\n",
    "import torch"
   ]
  },
  {
   "cell_type": "code",
   "execution_count": 22,
   "metadata": {},
   "outputs": [
    {
     "name": "stderr",
     "output_type": "stream",
     "text": [
      "Some weights of the model checkpoint at bert-base-uncased were not used when initializing BertForMaskedLM: ['cls.seq_relationship.weight', 'cls.seq_relationship.bias']\n",
      "- This IS expected if you are initializing BertForMaskedLM from the checkpoint of a model trained on another task or with another architecture (e.g. initializing a BertForSequenceClassification model from a BertForPretraining model).\n",
      "- This IS NOT expected if you are initializing BertForMaskedLM from the checkpoint of a model that you expect to be exactly identical (initializing a BertForSequenceClassification model from a BertForSequenceClassification model).\n",
      "Some weights of BertForMaskedLM were not initialized from the model checkpoint at bert-base-uncased and are newly initialized: ['cls.predictions.decoder.bias']\n",
      "You should probably TRAIN this model on a down-stream task to be able to use it for predictions and inference.\n"
     ]
    },
    {
     "name": "stdout",
     "output_type": "stream",
     "text": [
      "provide\n"
     ]
    }
   ],
   "source": [
    "# Load pre-trained model tokenizer (vocabulary)\n",
    "tokenizer = BertTokenizer.from_pretrained('bert-base-uncased')\n",
    "\n",
    "#text = '[CLS] I want to [MASK] the car because it is cheap . [SEP]'\n",
    "text = '[CLS]We may use the information that you [MASK] to us when you apply for a licence. [SEP]'\n",
    "tokenized_text = tokenizer.tokenize(text)\n",
    "indexed_tokens = tokenizer.convert_tokens_to_ids(tokenized_text)\n",
    "\n",
    "# Create the segments tensors.\n",
    "segments_ids = [0] * len(tokenized_text)\n",
    "\n",
    "# Convert inputs to PyTorch tensors\n",
    "tokens_tensor = torch.tensor([indexed_tokens])\n",
    "segments_tensors = torch.tensor([segments_ids])\n",
    "\n",
    "# Load pre-trained model (weights)\n",
    "model = BertForMaskedLM.from_pretrained('bert-base-uncased')\n",
    "model.eval()\n",
    "\n",
    "# Predict all tokens\n",
    "with torch.no_grad():\n",
    "    predictions = model(tokens_tensor, segments_tensors)\n",
    "    masked_index = tokenized_text.index('[MASK]')\n",
    "predicted_index = torch.argmax(predictions[0][0][masked_index]).item()\n",
    "predicted_token = tokenizer.convert_ids_to_tokens([predicted_index])[0]\n",
    "\n",
    "print(predicted_token)"
   ]
  }
 ],
 "metadata": {
  "kernelspec": {
   "display_name": "Python 3",
   "language": "python",
   "name": "python3"
  },
  "language_info": {
   "codemirror_mode": {
    "name": "ipython",
    "version": 3
   },
   "file_extension": ".py",
   "mimetype": "text/x-python",
   "name": "python",
   "nbconvert_exporter": "python",
   "pygments_lexer": "ipython3",
   "version": "3.8.3"
  }
 },
 "nbformat": 4,
 "nbformat_minor": 2
}
