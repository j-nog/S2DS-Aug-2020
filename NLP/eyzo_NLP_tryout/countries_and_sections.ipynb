{
 "cells": [
  {
   "cell_type": "markdown",
   "metadata": {},
   "source": [
    "# Finding sections containing a country\n",
    "\n",
    "Here we take the whole database of documents from https://www.gov.uk/guidance/immigration-rules\n",
    "and find occurences of countries in them.\n",
    "\n",
    "We also extract all sections with a given country name in them.\n",
    "\n",
    "See https://pypi.org/project/geotext/"
   ]
  },
  {
   "cell_type": "code",
   "execution_count": 1,
   "metadata": {},
   "outputs": [],
   "source": [
    "#!pip install https://github.com/elyase/geotext/archive/master.zip\n",
    "from geotext import GeoText\n",
    "from web_scraping_lib import scrape_govuk_guidance"
   ]
  },
  {
   "cell_type": "code",
   "execution_count": 3,
   "metadata": {},
   "outputs": [],
   "source": [
    "from bs4 import BeautifulSoup\n",
    "import urllib.request\n",
    "import urllib.parse\n",
    "from web_scraping_lib import *\n",
    "\n",
    "import pandas as pd\n",
    "from scraping_lib import scrape_documents"
   ]
  },
  {
   "cell_type": "markdown",
   "metadata": {},
   "source": [
    "Scraping all documents from https://www.gov.uk/guidance/immigration-rules"
   ]
  },
  {
   "cell_type": "code",
   "execution_count": 4,
   "metadata": {},
   "outputs": [
    {
     "name": "stdout",
     "output_type": "stream",
     "text": [
      "scraping 1/51: https://www.gov.uk/guidance/immigration-rules/immigration-rules-index\n",
      "scraping 2/51: https://www.gov.uk/guidance/immigration-rules/immigration-rules-introduction\n",
      "scraping 3/51: https://www.gov.uk/guidance/immigration-rules/immigration-rules-part-1-leave-to-enter-or-stay-in-the-uk\n",
      "scraping 4/51: https://www.gov.uk/guidance/immigration-rules/immigration-rules-part-2-transitional-provisions\n",
      "scraping 5/51: https://www.gov.uk/guidance/immigration-rules/immigration-rules-part-3-students\n",
      "scraping 6/51: https://www.gov.uk/guidance/immigration-rules/immigration-rules-part-4-work-experience\n",
      "scraping 7/51: https://www.gov.uk/guidance/immigration-rules/immigration-rules-part-5-working-in-the-uk\n",
      "scraping 8/51: https://www.gov.uk/guidance/immigration-rules/immigration-rules-part-6-self-employment-and-business-people\n",
      "scraping 9/51: https://www.gov.uk/guidance/immigration-rules/immigration-rules-part-6a-the-points-based-system\n",
      "scraping 10/51: https://www.gov.uk/guidance/immigration-rules/immigration-rules-part-7-other-categories\n",
      "scraping 11/51: https://www.gov.uk/guidance/immigration-rules/immigration-rules-part-8-family-members\n",
      "scraping 12/51: https://www.gov.uk/guidance/immigration-rules/immigration-rules-part-9-grounds-for-refusal\n",
      "scraping 13/51: https://www.gov.uk/guidance/immigration-rules/immigration-rules-part-10-registering-with-the-police\n",
      "scraping 14/51: https://www.gov.uk/guidance/immigration-rules/immigration-rules-part-11-asylum\n",
      "scraping 15/51: https://www.gov.uk/guidance/immigration-rules/immigration-rules-part-11a-temporary-protection\n",
      "scraping 16/51: https://www.gov.uk/guidance/immigration-rules/immigration-rules-part-11b\n",
      "scraping 17/51: https://www.gov.uk/guidance/immigration-rules/immigration-rules-part-12-procedure-and-rights-of-appeal\n",
      "scraping 18/51: https://www.gov.uk/guidance/immigration-rules/immigration-rules-part-13-deportation\n",
      "scraping 19/51: https://www.gov.uk/guidance/immigration-rules/immigration-rules-part-14-stateless-persons\n",
      "scraping 20/51: https://www.gov.uk/guidance/immigration-rules/immigration-rules-part-15-condition-to-hold-an-atas-clearance-certificate\n",
      "scraping 21/51: https://www.gov.uk/guidance/immigration-rules/immigration-rules-appendix-2-police-registration\n",
      "scraping 22/51: https://www.gov.uk/guidance/immigration-rules/immigration-rules-appendix-6-academic-subjects-that-need-a-certificate\n",
      "scraping 23/51: https://www.gov.uk/guidance/immigration-rules/immigration-rules-appendix-7-overseas-workers-in-private-households\n",
      "scraping 24/51: https://www.gov.uk/guidance/immigration-rules/immigration-rules-appendix-a-attributes\n",
      "scraping 25/51: https://www.gov.uk/guidance/immigration-rules/immigration-rules-appendix-ar-administrative-review\n",
      "scraping 26/51: https://www.gov.uk/guidance/immigration-rules/immigration-rules-appendix-ar-eu\n",
      "scraping 27/51: https://www.gov.uk/guidance/immigration-rules/immigration-rules-appendix-armed-forces\n",
      "scraping 28/51: https://www.gov.uk/guidance/immigration-rules/immigration-rules-appendix-b-english-language\n",
      "scraping 29/51: https://www.gov.uk/guidance/immigration-rules/immigration-rules-appendix-c-maintenance-funds\n",
      "scraping 30/51: https://www.gov.uk/guidance/immigration-rules/immigration-rules-appendix-d-highly-skilled-migrants\n",
      "scraping 31/51: https://www.gov.uk/guidance/immigration-rules/immigration-rules-appendix-e-maintenance-funds-for-the-family-of-relevant-points-based-system-migrants\n",
      "scraping 32/51: https://www.gov.uk/guidance/immigration-rules/immigration-rules-appendix-ecaa\n",
      "scraping 33/51: https://www.gov.uk/guidance/immigration-rules/immigration-rules-appendix-eu\n",
      "scraping 34/51: https://www.gov.uk/guidance/immigration-rules/appendix-eu-family-permit\n",
      "scraping 35/51: https://www.gov.uk/guidance/immigration-rules/immigration-rules-appendix-f-archived-immigration-rules\n",
      "scraping 36/51: https://www.gov.uk/guidance/immigration-rules/immigration-rules-appendix-fm-family-members\n",
      "scraping 37/51: https://www.gov.uk/guidance/immigration-rules/immigration-rules-appendix-fm-se-family-members-specified-evidence\n",
      "scraping 38/51: https://www.gov.uk/guidance/immigration-rules/immigration-rules-appendix-g-youth-mobility-scheme\n",
      "scraping 39/51: https://www.gov.uk/guidance/immigration-rules/immigration-rules-appendix-h-tier-4-documentary-requirements\n",
      "scraping 40/51: https://www.gov.uk/guidance/immigration-rules/immigration-rules-appendix-j-codes-of-practice-for-skilled-work\n",
      "scraping 41/51: https://www.gov.uk/guidance/immigration-rules/immigration-rules-appendix-k-shortage-occupation-list\n",
      "scraping 42/51: https://www.gov.uk/guidance/immigration-rules/immigration-rules-appendix-koll\n",
      "scraping 43/51: https://www.gov.uk/guidance/immigration-rules/immigration-rules-appendix-m-sports-governing-bodies\n",
      "scraping 44/51: https://www.gov.uk/guidance/immigration-rules/immigration-rules-appendix-n-authorised-exchange-schemes\n",
      "scraping 45/51: https://www.gov.uk/guidance/immigration-rules/immigration-rules-appendix-o-approved-english-language-tests\n",
      "scraping 46/51: https://www.gov.uk/guidance/immigration-rules/immigration-rules-appendix-p-lists-of-financial-institutions\n",
      "scraping 47/51: https://www.gov.uk/guidance/immigration-rules/immigration-rules-appendix-sn-service-of-notices\n",
      "scraping 48/51: https://www.gov.uk/guidance/immigration-rules/immigration-rules-appendix-t-tuberculosis-screening\n",
      "scraping 49/51: https://www.gov.uk/guidance/immigration-rules/immigration-rules-appendix-u-seasonal-worker-scheme\n",
      "scraping 50/51: https://www.gov.uk/guidance/immigration-rules/immigration-rules-appendix-v-visitor-rules\n",
      "scraping 51/51: https://www.gov.uk/guidance/immigration-rules/immigration-rules-appendix-w-immigration-rules-for-workers\n"
     ]
    }
   ],
   "source": [
    "immigration_rules_url = \"https://www.gov.uk/guidance/immigration-rules\"\n",
    "\n",
    "soup = BeautifulSoup(urllib.request.urlopen(immigration_rules_url), 'html.parser')\n",
    "tag = soup.article.find(attrs={'class' : 'section-list'})\n",
    "links = get_links_raw(tag,immigration_rules_url)\n",
    "\n",
    "scrape_df = pd.DataFrame(scrape_documents(links))\n",
    "#scrape_df.to_csv('immigration_rules_scrape.csv', encoding='utf-8',index=False)"
   ]
  },
  {
   "cell_type": "code",
   "execution_count": 5,
   "metadata": {},
   "outputs": [],
   "source": [
    "text_segment = scrape_df['text_segmented'].tolist()"
   ]
  },
  {
   "cell_type": "markdown",
   "metadata": {},
   "source": [
    "This function takes as input a country name and outputs a list where each element is a tuple containing the document index and section index of a section that contains this country name."
   ]
  },
  {
   "cell_type": "code",
   "execution_count": 6,
   "metadata": {},
   "outputs": [],
   "source": [
    "def locate_countrysection(country):\n",
    "    list =[]\n",
    "    for i in range(len(scrape_df)):\n",
    "        for j in range(len(text_segment[i])):\n",
    "            if country in GeoText(text_segment[i][j][1]).countries:\n",
    "                list.append((i,j)) \n",
    "    return list"
   ]
  },
  {
   "cell_type": "code",
   "execution_count": 7,
   "metadata": {},
   "outputs": [
    {
     "data": {
      "text/plain": [
       "[(6, 3),\n",
       " (8, 2),\n",
       " (8, 83),\n",
       " (10, 176),\n",
       " (23, 54),\n",
       " (23, 56),\n",
       " (31, 5),\n",
       " (31, 25),\n",
       " (32, 20),\n",
       " (33, 7),\n",
       " (41, 6)]"
      ]
     },
     "execution_count": 7,
     "metadata": {},
     "output_type": "execute_result"
    }
   ],
   "source": [
    "locate_countrysection('Guernsey')"
   ]
  },
  {
   "cell_type": "markdown",
   "metadata": {},
   "source": [
    "The following function takes as input the index of a document and outputs all sections in this document with country names in it."
   ]
  },
  {
   "cell_type": "code",
   "execution_count": 8,
   "metadata": {},
   "outputs": [],
   "source": [
    "def finding_countrysection(doc_index):\n",
    "    return [i for  i in range(len(text_segment[doc_index])) if (GeoText(text_segment[doc_index][i][1]).countries != [])]"
   ]
  },
  {
   "cell_type": "markdown",
   "metadata": {},
   "source": [
    "Example for document 5"
   ]
  },
  {
   "cell_type": "code",
   "execution_count": 9,
   "metadata": {},
   "outputs": [
    {
     "data": {
      "text/plain": [
       "[0, 32, 33, 34, 35, 36, 37, 39, 40, 41, 42, 43, 44]"
      ]
     },
     "execution_count": 9,
     "metadata": {},
     "output_type": "execute_result"
    }
   ],
   "source": [
    "finding_countrysection(5)"
   ]
  },
  {
   "cell_type": "code",
   "execution_count": 10,
   "metadata": {},
   "outputs": [
    {
     "data": {
      "text/plain": [
       "['United Kingdom']"
      ]
     },
     "execution_count": 10,
     "metadata": {},
     "output_type": "execute_result"
    }
   ],
   "source": [
    "GeoText(text_segment[5][0][1]).countries"
   ]
  },
  {
   "cell_type": "markdown",
   "metadata": {},
   "source": [
    "The following function takes as input the index of a document and outputs all sections in this document with countries different from United Kingdom in it."
   ]
  },
  {
   "cell_type": "code",
   "execution_count": 11,
   "metadata": {},
   "outputs": [],
   "source": [
    "def finding_nonUK_countrysection(doc_index):\n",
    "    return [i for i in finding_countrysection(doc_index) if (list(set(GeoText(text_segment[doc_index][i][1]).countries)) != ['United Kingdom'])]"
   ]
  },
  {
   "cell_type": "markdown",
   "metadata": {},
   "source": [
    "Example for document 6"
   ]
  },
  {
   "cell_type": "code",
   "execution_count": 12,
   "metadata": {},
   "outputs": [
    {
     "data": {
      "text/plain": [
       "[3, 80]"
      ]
     },
     "execution_count": 12,
     "metadata": {},
     "output_type": "execute_result"
    }
   ],
   "source": [
    "finding_nonUK_countrysection(6)"
   ]
  },
  {
   "cell_type": "code",
   "execution_count": 13,
   "metadata": {},
   "outputs": [
    {
     "data": {
      "text/plain": [
       "['Bahamas',\n",
       " 'Jamaica',\n",
       " 'Australia',\n",
       " 'Canada',\n",
       " 'Dominica',\n",
       " 'Belize',\n",
       " 'Guyana',\n",
       " 'Grenada',\n",
       " 'Barbados',\n",
       " 'New Zealand',\n",
       " 'United States',\n",
       " 'United Kingdom',\n",
       " 'Ireland']"
      ]
     },
     "execution_count": 13,
     "metadata": {},
     "output_type": "execute_result"
    }
   ],
   "source": [
    "list(set(GeoText(text_segment[6][80][1]).countries))"
   ]
  },
  {
   "cell_type": "code",
   "execution_count": null,
   "metadata": {},
   "outputs": [],
   "source": []
  }
 ],
 "metadata": {
  "kernelspec": {
   "display_name": "TensorFlow-GPU-1.13",
   "language": "python",
   "name": "tf-gpu"
  },
  "language_info": {
   "codemirror_mode": {
    "name": "ipython",
    "version": 3
   },
   "file_extension": ".py",
   "mimetype": "text/x-python",
   "name": "python",
   "nbconvert_exporter": "python",
   "pygments_lexer": "ipython3",
   "version": "3.7.7"
  }
 },
 "nbformat": 4,
 "nbformat_minor": 4
}
