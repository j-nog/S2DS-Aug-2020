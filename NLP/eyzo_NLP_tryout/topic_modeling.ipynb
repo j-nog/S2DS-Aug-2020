{
 "cells": [
  {
   "cell_type": "markdown",
   "metadata": {},
   "source": [
    "# Topic modeling with LDA"
   ]
  },
  {
   "cell_type": "code",
   "execution_count": 1,
   "metadata": {},
   "outputs": [],
   "source": [
    "#!pip install -U scikit-learn scipy matplotlib\n",
    "from sklearn.feature_extraction.text import CountVectorizer,TfidfVectorizer\n",
    "from sklearn.decomposition import LatentDirichletAllocation\n",
    "import pandas as pd\n",
    "import numpy as np\n",
    "%matplotlib inline\n",
    "from sklearn.feature_extraction.text import ENGLISH_STOP_WORDS\n",
    "from topicmodeling import extract_topics\n",
    "import warnings\n",
    "warnings.filterwarnings('ignore')"
   ]
  },
  {
   "cell_type": "code",
   "execution_count": 2,
   "metadata": {},
   "outputs": [],
   "source": [
    "source_list=[]\n",
    "for i in range(5):\n",
    "    file = \"rawtext_webscraping%s.txt\" % i\n",
    "    source_list.append(file)"
   ]
  },
  {
   "cell_type": "markdown",
   "metadata": {},
   "source": [
    "Finds different topics in each document and prints the most frequent words in each of the topics.\n",
    "\n",
    "The following example looks at the 5 websites\n",
    "\n",
    "    \"https://www.gov.uk/guidance/immigration-rules/immigration-rules-index\",\n",
    "\n",
    "    \"https://www.gov.uk/guidance/immigration-rules/immigration-rules-part-6a-the-points-based-system\",\n",
    "    \n",
    "    \"https://www.gov.uk/guidance/immigration-rules/immigration-rules-appendix-a-attributes\",\n",
    "    \n",
    "    \"https://www.gov.uk/guidance/immigration-rules/immigration-rules-appendix-c-maintenance-funds\",\n",
    "    \n",
    "    \"https://www.gov.uk/guidance/immigration-rules/immigration-rules-appendix-b-english-language\"\n",
    "\n",
    "It prints the 10 most important words of 5 topics for each website."
   ]
  },
  {
   "cell_type": "code",
   "execution_count": 3,
   "metadata": {},
   "outputs": [
    {
     "name": "stdout",
     "output_type": "stream",
     "text": [
      "topic 0       topic 1       topic 2       topic 3       topic 4       \n",
      "--------      --------      --------      --------      --------      \n",
      "appendix      leave         appendix      tier          paragraphs    \n",
      "immigration   enter         migrants      migrants      appendix      \n",
      "rules         remain        tier          appendix      overseas      \n",
      "deleted       united        private       documents     language      \n",
      "forces        kingdom       households    scheme        english       \n",
      "partners      persons       workers       students      353           \n",
      "hm            paragraphs    funds         student       353b          \n",
      "paragraphs    limited       academic      children      12            \n",
      "civil         entry         certificate   child         354           \n",
      "nationals     members       maintenance   specified     356b          \n",
      "\n",
      "\n",
      "topic 0       topic 1       topic 2       topic 3       topic 4       \n",
      "--------      --------      --------      --------      --------      \n",
      "applicant     leave         sponsorship   course        applicant     \n",
      "parent        period        certificate   education     leave         \n",
      "years         tier          applicant     deleted       tier          \n",
      "applicants    migrant       service       higher        requirements  \n",
      "legal         entry         months        applicant     migrant       \n",
      "uk            clearance     sponsored     provider      remain        \n",
      "application   granted       checking      research      general       \n",
      "degree        applicant     application   academic      granted       \n",
      "18            remain        date          track         appendix      \n",
      "request       study         paragraph     compliance    points        \n",
      "\n",
      "\n",
      "topic 0       topic 1       topic 2       topic 3       topic 4       \n",
      "--------      --------      --------      --------      --------      \n",
      "course        sponsorship   uk            applicant     leave         \n",
      "level         certificate   business      specified     table         \n",
      "qualificationssponsor       applicants    date          remain        \n",
      "appendix      applicant     applicant     documents     application   \n",
      "uk            tier          accounts      money         points        \n",
      "qualification number        registered    partner       entry         \n",
      "study         service       million       period        clearance     \n",
      "relevant      entry         accountants   confirmation  applicant     \n",
      "applicant     reference     jobs          application   migrant       \n",
      "job           checking      companies     deleted       uk            \n",
      "\n",
      "\n",
      "topic 0       topic 1       topic 2       topic 3       topic 4       \n",
      "--------      --------      --------      --------      --------      \n",
      "applicant     date          applicant     applicant     migrant       \n",
      "fees          10            course        funds         applicant     \n",
      "sponsor       letter        building      specified     tier          \n",
      "tier          application   financial     paragraph     points        \n",
      "foster        specified     society       london        applying      \n",
      "uk            official      month         documents     funds         \n",
      "funds         days          year          studying      relevant      \n",
      "paid          financial     months        financial     based         \n",
      "loan          31            funds         official      applicants    \n",
      "care          period        maximum       sponsor       legal         \n",
      "\n",
      "\n",
      "topic 0       topic 1       topic 2       topic 3       topic 4       \n",
      "--------      --------      --------      --------      --------      \n",
      "ii            uk            english       tier          leave         \n",
      "qualification qualification language      migrant       remain        \n",
      "award         level         points        religion      clearance     \n",
      "st            language      10            minister      entry         \n",
      "documents     english       leave         general       migrant       \n",
      "specified     degree        applicant     rules         applying      \n",
      "provides      common        table         place         granted       \n",
      "tobago        framework     awarded       april         tier          \n",
      "trinidad      learning      test          leave         previously    \n",
      "antigua       council       level         2011          qualifying    \n",
      "\n",
      "\n"
     ]
    }
   ],
   "source": [
    "for i in range(5):\n",
    "    extract_topics(source_list[i])"
   ]
  },
  {
   "cell_type": "markdown",
   "metadata": {},
   "source": [
    "Here we look at the 10 most common pairs of words from 5 topics from the website\n",
    "\n",
    "\"https://www.gov.uk/guidance/immigration-rules/immigration-rules-part-6a-the-points-based-system\"."
   ]
  },
  {
   "cell_type": "code",
   "execution_count": 4,
   "metadata": {},
   "outputs": [
    {
     "name": "stdout",
     "output_type": "stream",
     "text": [
      "topic 0       topic 1       topic 2       topic 3       topic 4       \n",
      "--------      --------      --------      --------      --------      \n",
      "enter remain  united kingdomleave enter   transitional provisionsleave enter   \n",
      "remain united hm forces     united kingdomchild student retired persons\n",
      "leave enter   points based  appendix deletedtier child    independent means\n",
      "united kingdomindefinite leaveentry clearanceindefinite leavepersons independent\n",
      "limited leave control sectionclearance leaveimmigration rulesenter remain  \n",
      "persons seekingimmigration actremain united highly skilledappendix fm   \n",
      "seeking enter exempt immigrationenter remain  appendix immigration357 361       \n",
      "persons limitedimmigration controlfamily membersyouth mobilitypartners persons\n",
      "remain paragraphssection immigrationleave remain  mobility schemekingdom retired\n",
      "children personsact 1971      enter united  administrative reviewunited kingdom\n",
      "\n",
      "\n"
     ]
    }
   ],
   "source": [
    "extract_topics(source_list[0],5,10,2)"
   ]
  },
  {
   "cell_type": "markdown",
   "metadata": {},
   "source": [
    "In the next example, we find 5 topics in the Sponsor Guidance for Tier 2 and 5, and print the 10 most important words."
   ]
  },
  {
   "cell_type": "code",
   "execution_count": 5,
   "metadata": {},
   "outputs": [
    {
     "name": "stdout",
     "output_type": "stream",
     "text": [
      "topic 0       topic 1       topic 2       topic 3       topic 4       \n",
      "--------      --------      --------      --------      --------      \n",
      "guidance      charge        uk            licence       tier          \n",
      "sponsors      sponsor       cos           tier          page          \n",
      "sponsorship   pay           remain        worker        immigration   \n",
      "version       refund        leave         sponsor       general       \n",
      "tiers         immigration   service       application   act           \n",
      "uk            paid          guidance      temporary     migrant       \n",
      "certificate   skills        date          uk            company       \n",
      "information   eea           assigned      work          level         \n",
      "cos           organisation  section       workers       points        \n",
      "employment    duties        migrant       apply         uk            \n",
      "\n",
      "\n"
     ]
    }
   ],
   "source": [
    "source_file = \"text_extraction_from_Tier_2_5.txt\"\n",
    "extract_topics(source_file)"
   ]
  },
  {
   "cell_type": "markdown",
   "metadata": {},
   "source": [
    "## Visualization of topics\n",
    "\n",
    "We give an example of a vizualization of the topics from the Sponsor Guidance, with 5 topics and 10 words per topic."
   ]
  },
  {
   "cell_type": "code",
   "execution_count": null,
   "metadata": {},
   "outputs": [],
   "source": []
  },
  {
   "cell_type": "code",
   "execution_count": 6,
   "metadata": {},
   "outputs": [],
   "source": [
    "from sklearn.feature_extraction.text import CountVectorizer,TfidfVectorizer\n",
    "from sklearn.decomposition import LatentDirichletAllocation\n",
    "import pandas as pd\n",
    "import numpy as np\n",
    "from sklearn.feature_extraction.text import ENGLISH_STOP_WORDS\n",
    "import numpy as np\n",
    "import mglearn"
   ]
  },
  {
   "cell_type": "code",
   "execution_count": 7,
   "metadata": {},
   "outputs": [
    {
     "name": "stdout",
     "output_type": "stream",
     "text": [
      "topic 0       topic 1       topic 2       topic 3       topic 4       \n",
      "--------      --------      --------      --------      --------      \n",
      "licence       tier          uk            tier          uk            \n",
      "sponsor       guidance      sponsorship   cos           office        \n",
      "application   sponsors      certificate   migrant       level         \n",
      "immigration   version       information   pay           make          \n",
      "apply         tiers         work          leave         time          \n",
      "refund        worker        act           company       home          \n",
      "charge        page          immigration   remain        law           \n",
      "migrants      temporary     gov           charge        charge        \n",
      "circumstances workers       sponsor       applying      service       \n",
      "skills        sponsor       organisation  general       work          \n",
      "\n",
      "\n"
     ]
    }
   ],
   "source": [
    "vect=CountVectorizer(ngram_range=(1,1),stop_words='english')\n",
    "with open(source_file, \"r\", encoding='utf-8', errors='ignore') as file:\n",
    "     SOURCE_TEXT = file.readlines()\n",
    "dtm=vect.fit_transform(SOURCE_TEXT)\n",
    "dtf=pd.DataFrame(dtm.toarray(),columns=vect.get_feature_names())\n",
    "lda=LatentDirichletAllocation(n_components=5)\n",
    "lda_dtf=lda.fit_transform(dtm)    \n",
    "sorting=np.argsort(lda.components_)[:,::-1]\n",
    "features=np.array(vect.get_feature_names())\n",
    "mglearn.tools.print_topics(topics=range(5), feature_names=features, sorting=sorting, topics_per_chunk=5, n_words=10)"
   ]
  },
  {
   "cell_type": "code",
   "execution_count": 8,
   "metadata": {},
   "outputs": [],
   "source": [
    "from __future__ import  print_function\n",
    "import pyLDAvis\n",
    "import pyLDAvis.sklearn\n",
    "pyLDAvis.enable_notebook()"
   ]
  },
  {
   "cell_type": "code",
   "execution_count": 9,
   "metadata": {},
   "outputs": [
    {
     "name": "stderr",
     "output_type": "stream",
     "text": [
      "C:\\Users\\hannah\\anaconda3\\envs\\tf-gpu\\lib\\site-packages\\ipykernel\\ipkernel.py:287: DeprecationWarning: `should_run_async` will not call `transform_cell` automatically in the future. Please pass the result to `transformed_cell` argument and any exception that happen during thetransform in `preprocessing_exc_tuple` in IPython 7.17 and above.\n",
      "  and should_run_async(code)\n"
     ]
    }
   ],
   "source": [
    "zit=pyLDAvis.sklearn.prepare(lda,dtm,vect)"
   ]
  },
  {
   "cell_type": "code",
   "execution_count": 10,
   "metadata": {},
   "outputs": [
    {
     "name": "stderr",
     "output_type": "stream",
     "text": [
      "C:\\Users\\hannah\\anaconda3\\envs\\tf-gpu\\lib\\site-packages\\ipykernel\\ipkernel.py:287: DeprecationWarning: `should_run_async` will not call `transform_cell` automatically in the future. Please pass the result to `transformed_cell` argument and any exception that happen during thetransform in `preprocessing_exc_tuple` in IPython 7.17 and above.\n",
      "  and should_run_async(code)\n"
     ]
    },
    {
     "data": {
      "text/html": [
       "\n",
       "<link rel=\"stylesheet\" type=\"text/css\" href=\"https://cdn.rawgit.com/bmabey/pyLDAvis/files/ldavis.v1.0.0.css\">\n",
       "\n",
       "\n",
       "<div id=\"ldavis_el404426853167839444153569522\"></div>\n",
       "<script type=\"text/javascript\">\n",
       "\n",
       "var ldavis_el404426853167839444153569522_data = {\"mdsDat\": {\"x\": [0.2105781318603733, -0.15186750271526114, -0.004496707684155834, -0.044766495169503547, -0.009447426291452931], \"y\": [-0.09966414737521288, -0.15617922777255216, 0.15734593571102107, 0.03095702654855819, 0.06754041288818596], \"topics\": [1, 2, 3, 4, 5], \"cluster\": [1, 1, 1, 1, 1], \"Freq\": [23.936098463836817, 22.853147197949657, 21.098341714580794, 19.441063841908296, 12.67134878172443]}, \"tinfo\": {\"Term\": [\"licence\", \"guidance\", \"tier\", \"sponsors\", \"uk\", \"sponsorship\", \"version\", \"tiers\", \"application\", \"cos\", \"sponsor\", \"page\", \"temporary\", \"certificate\", \"worker\", \"pay\", \"apply\", \"remain\", \"information\", \"leave\", \"refund\", \"gov\", \"company\", \"migrant\", \"assign\", \"applying\", \"office\", \"immigration\", \"organisation\", \"act\", \"guidance\", \"sponsors\", \"version\", \"tiers\", \"temporary\", \"long\", \"term\", \"staff\", \"ict\", \"sporting\", \"page\", \"skilled\", \"licensed\", \"exchange\", \"rules\", \"day\", \"appendix\", \"responsibility\", \"person\", \"addendum\", \"authorised\", \"meaning\", \"accordance\", \"ensure\", \"revoked\", \"mobility\", \"youth\", \"subcategory\", \"wider\", \"phrase\", \"tier\", \"listed\", \"worker\", \"creative\", \"scheme\", \"check\", \"workers\", \"representative\", \"job\", \"duties\", \"happens\", \"general\", \"sponsor\", \"work\", \"immigration\", \"licence\", \"refund\", \"points\", \"refused\", \"key\", \"employing\", \"contact\", \"applications\", \"partial\", \"days\", \"renew\", \"refuse\", \"salary\", \"skills\", \"apply\", \"application\", \"january\", \"illegally\", \"queries\", \"routes\", \"route\", \"illegal\", \"suspended\", \"difference\", \"personnel\", \"intend\", \"midwives\", \"nurses\", \"refer\", \"year\", \"granted\", \"circumstances\", \"categories\", \"sponsor\", \"new\", \"need\", \"annex\", \"migrants\", \"immigration\", \"visa\", \"charge\", \"workers\", \"paid\", \"based\", \"pay\", \"duties\", \"migrant\", \"certificate\", \"gov\", \"labour\", \"resident\", \"market\", \"test\", \"classification\", \"asylum\", \"sponsorship\", \"codes\", \"occupational\", \"restricted\", \"stated\", \"code\", \"refunds\", \"criteria\", \"size\", \"offence\", \"mergers\", \"takeovers\", \"type\", \"certificates\", \"standard\", \"designated\", \"practice\", \"consent\", \"member\", \"transitional\", \"verified\", \"nationality\", \"organisation\", \"right\", \"uk\", \"act\", \"arrangements\", \"information\", \"work\", \"employment\", \"section\", \"changes\", \"months\", \"immigration\", \"sponsor\", \"cos\", \"period\", \"general\", \"tier\", \"remain\", \"assign\", \"intra\", \"assigned\", \"transfer\", \"notified\", \"company\", \"actions\", \"european\", \"area\", \"economic\", \"sms\", \"assigning\", \"applying\", \"contractual\", \"jobs\", \"existing\", \"agencies\", \"behaviour\", \"suppliers\", \"professionals\", \"rates\", \"contents\", \"outside\", \"enter\", \"nationals\", \"agreement\", \"sponsoring\", \"date\", \"leave\", \"cos\", \"pay\", \"migrant\", \"unless\", \"entry\", \"non\", \"compliance\", \"general\", \"skill\", \"charge\", \"tier\", \"fee\", \"worker\", \"level\", \"uk\", \"application\", \"international\", \"employment\", \"office\", \"law\", \"citizen\", \"operating\", \"user\", \"additional\", \"offences\", \"review\", \"administrative\", \"society\", \"approved\", \"home\", \"penalties\", \"arrangement\", \"lawfully\", \"executives\", \"highest\", \"dismissed\", \"deciding\", \"glossary\", \"renumbered\", \"accordingly\", \"commissioner\", \"short\", \"entertainment\", \"settled\", \"employees\", \"occupation\", \"legal\", \"ownership\", \"time\", \"make\", \"services\", \"level\", \"uk\", \"service\", \"overseas\", \"british\", \"sure\", \"checks\", \"genuine\", \"fail\", \"islands\", \"work\", \"charge\", \"information\", \"employer\"], \"Freq\": [58.0, 44.0, 84.0, 32.0, 53.0, 31.0, 25.0, 25.0, 31.0, 26.0, 47.0, 23.0, 18.0, 16.0, 33.0, 19.0, 18.0, 10.0, 21.0, 14.0, 11.0, 10.0, 11.0, 25.0, 9.0, 10.0, 6.0, 36.0, 12.0, 16.0, 44.08452346652269, 32.32205774893848, 25.26115876445103, 24.475320718594922, 18.199924071698227, 8.000646079866703, 8.000646079866696, 7.21682299900035, 7.216338725284846, 5.648031341270048, 20.86454777359986, 4.864005797693207, 4.863564453346589, 4.862727020898792, 4.862024110076703, 4.079464538681723, 4.077966273469115, 3.2949658484727227, 3.2949365056618953, 3.2949362327920335, 3.2929632263677227, 3.292807554392819, 3.2880883500032905, 3.287197277882152, 3.2809246551510083, 2.5104488930958895, 2.5104488930958895, 2.510447653246776, 2.5104471106363158, 2.5103154682652566, 59.143331081348805, 4.86295122095206, 22.28473968403816, 5.6529618857156985, 5.647474934181599, 6.435817209944021, 13.727426875271012, 5.494811762703136, 5.644400943527714, 6.54373611901979, 5.02578468299814, 6.335291258289167, 8.606827104384006, 5.366909139350839, 5.543134822473885, 57.552537280226005, 11.164008607369349, 8.017875508976148, 6.445968999422181, 5.661131360292381, 4.874670101165064, 4.874340835881587, 4.872501076088607, 4.872261478590031, 4.871542921916538, 4.08807640435151, 4.087300932567335, 4.084282550005591, 8.81721235777524, 15.869979743145302, 26.463046832941053, 3.3024363293228514, 3.301874635846242, 3.3013694934711677, 3.300271430237358, 3.3000232943262997, 2.516134930497309, 2.516132958878924, 2.516128886278723, 2.5156693473417846, 2.514576953368883, 2.5136415373549172, 2.5136415373549155, 2.5124752864777813, 2.50907812751535, 7.223036415541947, 8.824473033817334, 6.0039776510984595, 29.29972956664958, 8.037101676776137, 4.087969693369218, 7.927803410513204, 10.353406138588829, 18.497549030141652, 6.244707592854761, 10.83466837019816, 8.542446027274092, 5.671659543809069, 4.880553267654116, 5.719644375079318, 4.660821130047514, 4.373032565819704, 15.765136180345664, 10.309786362225802, 7.967501040965945, 7.967501040965937, 7.967501040965931, 7.967501040965905, 5.6249328679645965, 5.603449622128614, 27.724640390645682, 4.8436964931514375, 4.843693708843069, 4.842974813119713, 4.062446926249345, 4.0624391713644865, 4.062432440030803, 4.062196539890619, 4.059436197513783, 4.7222108594812005, 3.2804836515777693, 3.280483651577769, 3.278778201948117, 3.2764930227499924, 5.629784849741233, 2.4999649402421884, 2.4999635414572943, 2.4999614200914335, 2.499957561411699, 2.4999500454618966, 2.499944908519072, 2.499943028803899, 9.541793259665184, 4.7503124595479305, 33.65126406700525, 11.395984557550912, 5.637727088801234, 13.87475885443078, 13.553293110241892, 7.975585282035698, 6.281163791346352, 5.5510818773129, 4.848858950413607, 10.615251724959903, 9.659715590684334, 7.0610846933662295, 4.635155430757021, 4.66752711771125, 4.7682632117719095, 10.358479466120752, 8.788026885662816, 7.221308621283266, 7.219391080358816, 6.4359084590685605, 5.651404074731483, 10.371095113103953, 4.081531280602999, 4.081028601896971, 4.081028601896971, 4.081028601896971, 4.080956785532478, 4.076432830938163, 9.479702646328207, 3.296335980976346, 3.2962203192977277, 3.293463764143931, 2.511781158118919, 2.5117809976453036, 2.5117799422396696, 2.5117799422396696, 2.5117623583756012, 2.5116756814358427, 2.5112606309693564, 2.511088588758651, 2.5099976442400345, 2.509655124406059, 4.872996623748112, 6.425734778026581, 10.967461726648592, 19.12077299995191, 13.441271818172199, 14.649720220121456, 4.7812381713495515, 4.79563291253836, 4.743231664267017, 5.093139377118005, 9.066105608771004, 3.3002017127995416, 10.220514913196249, 20.159199127913475, 5.42802406564012, 8.895077238324333, 5.346372486679937, 6.850523456443417, 4.505161146876226, 4.092785828370794, 4.084544218490209, 6.221147038887334, 4.70023797113605, 3.1872229512320076, 3.187213182415845, 3.187211021674427, 3.185851712375819, 2.4283400556624817, 2.4281998447917186, 2.4281998447917186, 2.427118423586319, 2.426238384377938, 4.712155405370645, 1.6694957453176011, 1.6694946864659708, 1.6694944010361306, 1.6694934658973999, 1.6694929975727841, 1.6694925760860844, 1.6694905747436344, 1.6694334473011114, 1.6688709360712903, 1.6688709360712903, 1.6686710769606266, 1.6682462758374985, 1.6674595002499226, 3.8191432447504705, 3.127251445690173, 2.432403472134923, 3.1935912079576587, 0.910629908579646, 5.295914885652775, 5.362324396405826, 3.669297615406863, 5.740654177475411, 12.74648509625061, 3.959753237188758, 3.5842208620279674, 2.4334850133877843, 2.4320316732377663, 2.4296128609629686, 2.430950623921359, 2.3195028694156625, 2.4424731462896037, 3.9547185232322146, 4.023626794047572, 3.310312533999712, 2.43154015773507], \"Total\": [58.0, 44.0, 84.0, 32.0, 53.0, 31.0, 25.0, 25.0, 31.0, 26.0, 47.0, 23.0, 18.0, 16.0, 33.0, 19.0, 18.0, 10.0, 21.0, 14.0, 11.0, 10.0, 11.0, 25.0, 9.0, 10.0, 6.0, 36.0, 12.0, 16.0, 44.712371064548684, 32.94456460486274, 25.88386762952379, 25.099350503029683, 18.823172144702315, 8.624366068184539, 8.62436606818454, 7.839869829810066, 7.839870386304303, 6.2708261223628154, 23.521722827177584, 5.486303472280903, 5.486304325453068, 5.486277733029448, 5.486295031296506, 4.701781507743934, 4.701781855974863, 3.9172600287465134, 3.917259685789323, 3.9172596876775745, 3.9172196706098372, 3.917250194627261, 3.917275139658008, 3.917247861900568, 3.9172902753853, 3.1327383498653125, 3.1327383498653125, 3.1327383364926384, 3.132738332287586, 3.1327367780745834, 84.71496223242995, 6.245204968224609, 33.66542044753022, 7.788762688847749, 7.7885237515392465, 9.354255087830234, 25.10833977337217, 8.628401217177665, 9.39578972950522, 15.664665761769797, 9.415810771307383, 20.377994266971562, 47.87645570321835, 25.70042055487044, 36.802790069911865, 58.17895057012859, 11.787348882257605, 8.642146094886316, 7.069558489636172, 6.283261662632611, 5.496963783490668, 5.49695986931644, 5.496959654805938, 5.496946425304335, 5.496954833490049, 4.710664627649114, 4.710626251830787, 4.710649376455917, 10.213385006538498, 18.84879121051565, 31.437163288921408, 3.9243674044851344, 3.9243662154939902, 3.924360269695242, 3.924297916419872, 3.9243616210427126, 3.1380687966678154, 3.13806876842698, 3.138068705997809, 3.138065625315968, 3.1380651914165147, 3.138063829317436, 3.1380638293174354, 3.138061702058354, 3.138056085539173, 9.399691859195354, 11.782043954384491, 7.8530760652433225, 47.87645570321835, 11.777849413441828, 5.469564617855703, 11.754560423840722, 16.487123220668707, 36.802790069911865, 10.98445004192909, 28.135976514895816, 25.10833977337217, 12.520014563085232, 9.341642598047533, 19.62727486780018, 15.664665761769797, 25.063750575985534, 16.404119362372946, 10.935321041621695, 8.591599305987035, 8.591599305987035, 8.591599305987032, 8.591599305987033, 6.2478814446306234, 6.248009965640199, 31.261381129607216, 5.466637465637104, 5.4666374419469745, 5.466641961954287, 4.685393395124387, 4.685393326935527, 4.685393293597676, 4.685394504241603, 4.68541108684194, 5.467146315783535, 3.9041537867821248, 3.904153786782125, 3.9041628526297516, 3.9041714358649653, 7.006936634210634, 3.122905360689106, 3.122905351453335, 3.122905330324344, 3.122905311333272, 3.1229052418917305, 3.1229052246092954, 3.1229052166830558, 12.431144680611421, 6.222829192696046, 53.56386182832151, 16.4250572583101, 7.8186287540030355, 21.79692465011385, 25.70042055487044, 13.275489965921489, 10.168069357769138, 8.601756971889104, 7.795446483387246, 36.802790069911865, 47.87645570321835, 26.64942619991501, 9.396487969440734, 20.377994266971562, 84.71496223242995, 10.983294022603781, 9.413445344298307, 7.843599707235973, 7.8435924815940705, 7.058664001110495, 6.2737265744285455, 11.742550621565595, 4.703854822139907, 4.703855625914932, 4.703855625914932, 4.703855625914932, 4.703854125174606, 4.703827641328065, 10.957419545764038, 3.9189165090097924, 3.91890186280706, 3.9189211238164177, 3.133982037746797, 3.1339820373306657, 3.1339820169208363, 3.1339820169208363, 3.1339818056181104, 3.133980672760685, 3.1339795793355036, 3.133978677674968, 3.1339849834767963, 3.133980701719354, 6.273315625835137, 8.602237565215445, 14.913781275893218, 26.64942619991501, 19.62727486780018, 25.063750575985534, 7.032247503043335, 7.061509220699726, 7.061601763971046, 7.847292903223204, 20.377994266971562, 4.700178581317116, 28.135976514895816, 84.71496223242995, 10.977024008757219, 33.66542044753022, 13.930266211516866, 53.56386182832151, 31.437163288921408, 7.030329767852371, 13.275489965921489, 6.85015420585229, 5.332533015544306, 3.8146386003938586, 3.8146389257845303, 3.814638999708718, 3.814684953237433, 3.0557729754686305, 3.055778079192413, 3.055778079192413, 3.055814953907539, 3.055845945514524, 6.116648504101084, 2.2969060603136384, 2.296906098170253, 2.296906104875715, 2.296906137600839, 2.296906150980514, 2.296906168463427, 2.2969062339275528, 2.296908142403969, 2.2969245717285327, 2.2969245717285327, 2.2969311740928506, 2.2969483025152613, 2.2969661517497078, 5.362318271873001, 4.601635134141299, 3.836897194780231, 5.3834668957472145, 1.5380398662044048, 9.239778220247407, 10.018519704363033, 6.936427644254603, 13.930266211516866, 53.56386182832151, 9.281831240968305, 9.282713550990312, 4.625468794537715, 4.624691657718953, 4.618227606467714, 4.625555866374483, 4.630720617711821, 6.191394378945558, 25.70042055487044, 28.135976514895816, 21.79692465011385, 6.974399996610016], \"Category\": [\"Default\", \"Default\", \"Default\", \"Default\", \"Default\", \"Default\", \"Default\", \"Default\", \"Default\", \"Default\", \"Default\", \"Default\", \"Default\", \"Default\", \"Default\", \"Default\", \"Default\", \"Default\", \"Default\", \"Default\", \"Default\", \"Default\", \"Default\", \"Default\", \"Default\", \"Default\", \"Default\", \"Default\", \"Default\", \"Default\", \"Topic1\", \"Topic1\", \"Topic1\", \"Topic1\", \"Topic1\", \"Topic1\", \"Topic1\", \"Topic1\", \"Topic1\", \"Topic1\", \"Topic1\", \"Topic1\", \"Topic1\", \"Topic1\", \"Topic1\", \"Topic1\", \"Topic1\", \"Topic1\", \"Topic1\", \"Topic1\", \"Topic1\", \"Topic1\", \"Topic1\", \"Topic1\", \"Topic1\", \"Topic1\", \"Topic1\", \"Topic1\", \"Topic1\", \"Topic1\", \"Topic1\", \"Topic1\", \"Topic1\", \"Topic1\", \"Topic1\", \"Topic1\", \"Topic1\", \"Topic1\", \"Topic1\", \"Topic1\", \"Topic1\", \"Topic1\", \"Topic1\", \"Topic1\", \"Topic1\", \"Topic2\", \"Topic2\", \"Topic2\", \"Topic2\", \"Topic2\", \"Topic2\", \"Topic2\", \"Topic2\", \"Topic2\", \"Topic2\", \"Topic2\", \"Topic2\", \"Topic2\", \"Topic2\", \"Topic2\", \"Topic2\", \"Topic2\", \"Topic2\", \"Topic2\", \"Topic2\", \"Topic2\", \"Topic2\", \"Topic2\", \"Topic2\", \"Topic2\", \"Topic2\", \"Topic2\", \"Topic2\", \"Topic2\", \"Topic2\", \"Topic2\", \"Topic2\", \"Topic2\", \"Topic2\", \"Topic2\", \"Topic2\", \"Topic2\", \"Topic2\", \"Topic2\", \"Topic2\", \"Topic2\", \"Topic2\", \"Topic2\", \"Topic2\", \"Topic2\", \"Topic2\", \"Topic2\", \"Topic3\", \"Topic3\", \"Topic3\", \"Topic3\", \"Topic3\", \"Topic3\", \"Topic3\", \"Topic3\", \"Topic3\", \"Topic3\", \"Topic3\", \"Topic3\", \"Topic3\", \"Topic3\", \"Topic3\", \"Topic3\", \"Topic3\", \"Topic3\", \"Topic3\", \"Topic3\", \"Topic3\", \"Topic3\", \"Topic3\", \"Topic3\", \"Topic3\", \"Topic3\", \"Topic3\", \"Topic3\", \"Topic3\", \"Topic3\", \"Topic3\", \"Topic3\", \"Topic3\", \"Topic3\", \"Topic3\", \"Topic3\", \"Topic3\", \"Topic3\", \"Topic3\", \"Topic3\", \"Topic3\", \"Topic3\", \"Topic3\", \"Topic3\", \"Topic3\", \"Topic3\", \"Topic3\", \"Topic4\", \"Topic4\", \"Topic4\", \"Topic4\", \"Topic4\", \"Topic4\", \"Topic4\", \"Topic4\", \"Topic4\", \"Topic4\", \"Topic4\", \"Topic4\", \"Topic4\", \"Topic4\", \"Topic4\", \"Topic4\", \"Topic4\", \"Topic4\", \"Topic4\", \"Topic4\", \"Topic4\", \"Topic4\", \"Topic4\", \"Topic4\", \"Topic4\", \"Topic4\", \"Topic4\", \"Topic4\", \"Topic4\", \"Topic4\", \"Topic4\", \"Topic4\", \"Topic4\", \"Topic4\", \"Topic4\", \"Topic4\", \"Topic4\", \"Topic4\", \"Topic4\", \"Topic4\", \"Topic4\", \"Topic4\", \"Topic4\", \"Topic4\", \"Topic4\", \"Topic4\", \"Topic4\", \"Topic4\", \"Topic5\", \"Topic5\", \"Topic5\", \"Topic5\", \"Topic5\", \"Topic5\", \"Topic5\", \"Topic5\", \"Topic5\", \"Topic5\", \"Topic5\", \"Topic5\", \"Topic5\", \"Topic5\", \"Topic5\", \"Topic5\", \"Topic5\", \"Topic5\", \"Topic5\", \"Topic5\", \"Topic5\", \"Topic5\", \"Topic5\", \"Topic5\", \"Topic5\", \"Topic5\", \"Topic5\", \"Topic5\", \"Topic5\", \"Topic5\", \"Topic5\", \"Topic5\", \"Topic5\", \"Topic5\", \"Topic5\", \"Topic5\", \"Topic5\", \"Topic5\", \"Topic5\", \"Topic5\", \"Topic5\", \"Topic5\", \"Topic5\", \"Topic5\", \"Topic5\", \"Topic5\", \"Topic5\"], \"logprob\": [30.0, 29.0, 28.0, 27.0, 26.0, 25.0, 24.0, 23.0, 22.0, 21.0, 20.0, 19.0, 18.0, 17.0, 16.0, 15.0, 14.0, 13.0, 12.0, 11.0, 10.0, 9.0, 8.0, 7.0, 6.0, 5.0, 4.0, 3.0, 2.0, 1.0, -3.0072, -3.3176, -3.564, -3.5956, -3.8919, -4.7138, -4.7138, -4.8169, -4.817, -5.062, -3.7553, -5.2114, -5.2115, -5.2117, -5.2119, -5.3873, -5.3877, -5.6009, -5.6009, -5.6009, -5.6015, -5.6016, -5.603, -5.6033, -5.6052, -5.8728, -5.8728, -5.8728, -5.8728, -5.8729, -2.7133, -5.2117, -3.6894, -5.0611, -5.0621, -4.9314, -4.1739, -5.0895, -5.0626, -4.9148, -5.1787, -4.9472, -4.6408, -5.1131, -5.0807, -2.6943, -4.3343, -4.6653, -4.8836, -5.0134, -5.163, -5.163, -5.1634, -5.1635, -5.1636, -5.3389, -5.3391, -5.3399, -4.5703, -3.9826, -3.4713, -5.5523, -5.5525, -5.5527, -5.553, -5.5531, -5.8243, -5.8243, -5.8243, -5.8245, -5.8249, -5.8253, -5.8253, -5.8257, -5.8271, -4.7697, -4.5695, -4.9546, -3.3694, -4.6629, -5.339, -4.6766, -4.4097, -3.8294, -4.9153, -4.3643, -4.602, -5.0115, -5.1618, -5.0031, -5.2078, -5.2716, -3.9093, -4.334, -4.5917, -4.5917, -4.5917, -4.5917, -4.9399, -4.9437, -3.3448, -5.0894, -5.0894, -5.0896, -5.2653, -5.2653, -5.2653, -5.2654, -5.2661, -5.1148, -5.4791, -5.4791, -5.4796, -5.4803, -4.939, -5.7508, -5.7508, -5.7508, -5.7508, -5.7508, -5.7508, -5.7508, -4.4114, -5.1089, -3.1511, -4.2339, -4.9376, -4.037, -4.0605, -4.5907, -4.8296, -4.9531, -5.0884, -4.3048, -4.3992, -4.7125, -5.1334, -5.1265, -5.1051, -4.2475, -4.4119, -4.6083, -4.6085, -4.7234, -4.8534, -4.2463, -5.1788, -5.179, -5.179, -5.179, -5.179, -5.1801, -4.3362, -5.3925, -5.3925, -5.3934, -5.6643, -5.6643, -5.6643, -5.6643, -5.6643, -5.6644, -5.6645, -5.6646, -5.665, -5.6652, -5.0016, -4.725, -4.1904, -3.6345, -3.987, -3.9009, -5.0206, -5.0176, -5.0286, -4.9574, -4.3808, -5.3913, -4.2609, -3.5816, -4.8937, -4.3998, -4.9089, -4.661, -5.0801, -5.1761, -5.1781, -4.3293, -4.6097, -4.9981, -4.9981, -4.9981, -4.9985, -5.2701, -5.2701, -5.2701, -5.2706, -5.2709, -4.6071, -5.6447, -5.6447, -5.6447, -5.6447, -5.6447, -5.6447, -5.6447, -5.6448, -5.6451, -5.6451, -5.6452, -5.6455, -5.646, -4.8172, -5.0171, -5.2684, -4.9961, -6.2509, -4.4903, -4.4779, -4.8573, -4.4097, -3.612, -4.7811, -4.8807, -5.2679, -5.2685, -5.2695, -5.269, -5.3159, -5.2643, -4.7824, -4.7651, -4.9602, -5.2687], \"loglift\": [30.0, 29.0, 28.0, 27.0, 26.0, 25.0, 24.0, 23.0, 22.0, 21.0, 20.0, 19.0, 18.0, 17.0, 16.0, 15.0, 14.0, 13.0, 12.0, 11.0, 10.0, 9.0, 8.0, 7.0, 6.0, 5.0, 4.0, 3.0, 2.0, 1.0, 1.4156, 1.4107, 1.4054, 1.4046, 1.3961, 1.3547, 1.3547, 1.347, 1.3469, 1.3252, 1.3099, 1.3094, 1.3093, 1.3091, 1.309, 1.2878, 1.2874, 1.2568, 1.2568, 1.2568, 1.2562, 1.2561, 1.2547, 1.2544, 1.2525, 1.2083, 1.2083, 1.2083, 1.2083, 1.2083, 1.0705, 1.1796, 1.0172, 1.1093, 1.1083, 1.0558, 0.826, 0.9785, 0.9202, 0.5569, 0.802, 0.2615, -0.2863, -0.1365, -0.4632, 1.4653, 1.4217, 1.4011, 1.3837, 1.3718, 1.3559, 1.3559, 1.3555, 1.3554, 1.3553, 1.3343, 1.3341, 1.3334, 1.3291, 1.3041, 1.3038, 1.3035, 1.3034, 1.3032, 1.3029, 1.3028, 1.2552, 1.2552, 1.2552, 1.255, 1.2546, 1.2542, 1.2542, 1.2537, 1.2524, 1.2127, 1.187, 1.2076, 0.985, 1.0939, 1.1849, 1.0822, 1.0108, 0.7881, 0.9113, 0.5218, 0.3979, 0.6842, 0.8269, 0.2431, 0.2639, -0.2699, 1.5162, 1.4971, 1.4806, 1.4806, 1.4806, 1.4806, 1.4509, 1.4471, 1.4359, 1.435, 1.435, 1.4348, 1.4133, 1.4133, 1.4133, 1.4132, 1.4126, 1.4095, 1.3819, 1.3819, 1.3814, 1.3807, 1.3371, 1.3335, 1.3335, 1.3335, 1.3335, 1.3335, 1.3335, 1.3335, 1.2915, 1.286, 1.0912, 1.1904, 1.2289, 1.1043, 0.9161, 1.0464, 1.0743, 1.118, 1.0812, 0.3127, -0.0447, 0.2278, 0.8493, 0.0821, -1.3213, 1.5792, 1.569, 1.5551, 1.5549, 1.5454, 1.5333, 1.5136, 1.4959, 1.4957, 1.4957, 1.4957, 1.4957, 1.4946, 1.4929, 1.4648, 1.4647, 1.4639, 1.4165, 1.4165, 1.4165, 1.4165, 1.4165, 1.4164, 1.4163, 1.4162, 1.4158, 1.4156, 1.3852, 1.3461, 1.3304, 1.3058, 1.2592, 1.1008, 1.252, 1.2508, 1.2398, 1.2055, 0.8279, 1.2842, 0.6251, 0.2022, 0.9336, 0.3068, 0.6801, -0.4188, -0.305, 1.0968, 0.4591, 1.9695, 1.9396, 1.8861, 1.8861, 1.8861, 1.8857, 1.836, 1.8359, 1.8359, 1.8355, 1.8351, 1.805, 1.7468, 1.7468, 1.7468, 1.7468, 1.7468, 1.7468, 1.7468, 1.7467, 1.7464, 1.7464, 1.7463, 1.746, 1.7455, 1.7265, 1.6796, 1.61, 1.5436, 1.5417, 1.5092, 1.4408, 1.429, 1.1793, 0.6302, 1.2139, 1.1142, 1.4236, 1.4231, 1.4235, 1.4225, 1.3745, 1.1357, 0.1942, 0.121, 0.1811, 1.0121]}, \"token.table\": {\"Topic\": [1, 5, 1, 2, 3, 4, 1, 5, 5, 4, 4, 1, 2, 5, 1, 2, 4, 2, 2, 3, 4, 5, 5, 4, 5, 1, 2, 3, 4, 4, 4, 3, 1, 2, 3, 5, 4, 4, 5, 1, 2, 3, 3, 1, 3, 1, 2, 4, 5, 1, 3, 5, 3, 5, 1, 2, 5, 3, 3, 3, 5, 4, 5, 2, 4, 3, 2, 4, 4, 3, 4, 1, 5, 3, 1, 4, 5, 1, 2, 5, 3, 2, 5, 1, 2, 3, 4, 5, 4, 4, 5, 3, 4, 5, 2, 3, 4, 5, 1, 4, 5, 2, 4, 4, 1, 5, 4, 2, 4, 5, 2, 3, 4, 1, 3, 4, 4, 5, 5, 3, 2, 4, 5, 1, 1, 2, 4, 5, 1, 5, 1, 2, 2, 1, 2, 3, 5, 1, 3, 5, 2, 2, 3, 4, 5, 4, 3, 4, 5, 2, 1, 3, 4, 2, 3, 5, 5, 2, 4, 1, 5, 2, 3, 4, 5, 2, 1, 1, 5, 1, 1, 4, 5, 3, 1, 3, 3, 2, 1, 2, 4, 5, 2, 3, 4, 1, 3, 4, 5, 3, 4, 2, 5, 2, 3, 4, 2, 4, 4, 2, 3, 5, 3, 3, 5, 5, 5, 3, 5, 4, 3, 4, 5, 5, 1, 3, 1, 2, 3, 5, 2, 2, 4, 5, 2, 3, 4, 1, 2, 1, 2, 3, 4, 2, 4, 2, 2, 3, 2, 2, 4, 2, 5, 1, 2, 4, 3, 1, 3, 5, 1, 3, 5, 2, 2, 1, 2, 1, 5, 1, 3, 4, 1, 4, 5, 1, 5, 1, 5, 5, 3, 3, 4, 1, 2, 4, 4, 5, 1, 2, 3, 1, 4, 1, 3, 4, 1, 1, 3, 5, 3, 1, 4, 1, 5, 2, 3, 1, 1, 3, 1, 3, 4, 1, 2, 4, 5, 4, 3, 3, 3, 4, 5, 1, 4, 5, 5, 3, 1, 1, 2, 3, 4, 1, 1, 3, 4, 5, 1, 4, 5, 1, 2, 3, 2, 1], \"Freq\": [0.7658384701213279, 0.870729507018559, 0.18264776510792244, 0.06088258836930748, 0.6697084720623823, 0.8503663806061716, 0.7658414910395205, 0.7864345383106855, 0.6544977901433745, 0.9572486261462033, 0.957249034224796, 0.2552200926131928, 0.6805869136351809, 0.08507336420439761, 0.8507412981988812, 0.8270466314358113, 0.1590474291222714, 0.9095937234373822, 0.8488608007432157, 0.15916140013935295, 0.8213612668941982, 0.09126236298824424, 0.6544832546076705, 0.8503662352991483, 0.8707365101225633, 0.12789966520510557, 0.12789966520510557, 0.7673979912306335, 0.9560792749969352, 0.8924482010540883, 0.8503712944019887, 0.9603057666354432, 0.7658493146321194, 0.535237775104459, 0.2140951100417836, 0.2140951100417836, 0.9572486262733071, 0.4323886050991912, 0.4323886050991912, 0.12733863669369866, 0.764031820162192, 0.9753647633593854, 0.7684088799075374, 0.34876595674629307, 0.6975319134925861, 0.1066250534582204, 0.39095852934680814, 0.35541684486073466, 0.14216673794429385, 0.6414193266768963, 0.10690322111281604, 0.21380644222563208, 0.4330665723792065, 0.4330665723792065, 0.1697498335384951, 0.7638742509232279, 0.7864440945179584, 0.9603255204460305, 0.8537170138960762, 0.9146390320246487, 0.8707270041688905, 0.851603737746266, 0.0851603737746266, 0.25486496103369843, 0.6371624025842461, 0.6404292760908895, 0.90959368794187, 0.957249043069987, 0.765517712128555, 0.2626698206366006, 0.7129609417279159, 0.7703405842099967, 0.2567801947366656, 0.8537167993813269, 0.11624882391572905, 0.6974929434943743, 0.11624882391572905, 0.8507413612078559, 0.9095945212315799, 0.8707364586581912, 0.6404292698638413, 0.9560020130426342, 0.8707364834750521, 0.4468655831191599, 0.3191897022279714, 0.12767588089118856, 0.12767588089118856, 0.06383794044559428, 0.8503662352991483, 0.21731405703607742, 0.6519421711082323, 0.1433815095902244, 0.4301445287706732, 0.2867630191804488, 0.9095930402555632, 0.6026142929968082, 0.3013071464984041, 0.07532678662460103, 0.7658438030378966, 0.9572496524531673, 0.8707137449441757, 0.28322557366877155, 0.7080639341719289, 0.8503662352991483, 0.9113647254673467, 0.8707364951747819, 0.7655168106773397, 0.21594911085223925, 0.21594911085223925, 0.4318982217044785, 0.2732981177418095, 0.18219874516120632, 0.45549686290301583, 0.29443525802363857, 0.24536271501969883, 0.4416528870354579, 0.4323804657812084, 0.4323804657812084, 0.8707357351725779, 0.9144678937123379, 0.7447052631998965, 0.10638646617141378, 0.10638646617141378, 0.984067696532571, 0.5310217167104083, 0.31861303002624497, 0.10620434334208166, 0.8707364901026672, 0.16348822387448306, 0.8174411193724154, 0.8928719041361326, 0.9560019854203244, 0.7644546495573087, 0.16303111771151563, 0.48909335313454694, 0.298890382471112, 0.054343705903838545, 0.1835121267889095, 0.6422924437611832, 0.13763409509168212, 0.9560030837491326, 0.14224083834199439, 0.14224083834199439, 0.5689633533679775, 0.14224083834199439, 0.8924473789173961, 0.1615145052624329, 0.48454351578729876, 0.3230290105248658, 0.7644544179455061, 0.6385838947798547, 0.31929194738992733, 0.7655205731156375, 0.9549180540550768, 0.9311421209349485, 0.9376407019750325, 0.8707365075805827, 0.2011562288934215, 0.7375728392758789, 0.37150781062291716, 0.5572617159343758, 0.14357227418572213, 0.07178613709286107, 0.3589306854643053, 0.43071682255716637, 0.9969241354755465, 0.9113603080315987, 0.800614235311704, 0.16012284706234078, 0.9276044101968447, 0.19963029060361148, 0.2994454359054172, 0.4990757265090287, 0.931142120934949, 0.7658433469770903, 0.6404292799854805, 0.7684123535698769, 0.9560034987091176, 0.15959303408614917, 0.15959303408614917, 0.5984738778230594, 0.07979651704307458, 0.6065339517487034, 0.12130679034974066, 0.24261358069948133, 0.9576286510263395, 0.6414000802462594, 0.25656003209850375, 0.12828001604925188, 0.6404292993958581, 0.9572477263984349, 0.7313196350111257, 0.18282990875278143, 0.6792411516885041, 0.08490514396106301, 0.16981028792212602, 0.28322186195831484, 0.708054654895787, 0.956369380912416, 0.9560034987091177, 0.26062725927617086, 0.5212545185523417, 0.9146390359883133, 0.9145539027490642, 0.6544988832795349, 0.8758926908351964, 0.7864440274338707, 0.8044311490957688, 0.16088622981915376, 0.9572493770479796, 0.3231813610881001, 0.3231813610881001, 0.43090848145080013, 0.650178205372409, 0.8927917463484468, 0.08502778536651874, 0.3993605578337187, 0.47923266940046244, 0.07987211156674374, 0.07987211156674374, 0.9095959125567025, 0.305697048643436, 0.6623436053941113, 0.8707365244736668, 0.3192682212499609, 0.5321137020832681, 0.21284548083330726, 0.765841491408682, 0.9560029515628545, 0.9576291314981896, 0.9256959917321598, 0.6404292717578653, 0.957248632507319, 0.7644558077826463, 0.9572486970479762, 0.9560041467738525, 0.9332039044468491, 0.8537170199705055, 0.8491439961821209, 0.8487092947594785, 0.910473668411303, 0.849137078560446, 0.870729507018559, 0.5794816298117731, 0.23179265192470924, 0.11589632596235462, 0.9311421209349485, 0.7658414243590492, 0.9146382797333473, 0.6544977901433745, 0.7658355110548768, 0.8034930487677014, 0.16069860975354028, 0.764455544543546, 0.7644679542415814, 0.9113618519378849, 0.8491398277257098, 0.7703642168150568, 0.2567880722716856, 0.29504126048351387, 0.5900825209670277, 0.09834708682783797, 0.2154747213214097, 0.32321208198211454, 0.4309494426428194, 0.4324992854909804, 0.5766657139879738, 0.18648650626452104, 0.7459460250580842, 0.8707205111277039, 0.8537137779080297, 0.21275787349334568, 0.638273620480037, 0.9113604497567604, 0.8811965860719339, 0.09791073178577042, 0.8503665066040969, 0.6544898922765449, 0.1879838402364234, 0.6057257074284754, 0.20887093359602601, 0.1594053383639333, 0.7970266918196666, 0.9713286663159203, 0.8956737990530301, 0.09596504989853893, 0.9568117314882956, 0.8928719675144895, 0.856294314223655, 0.14271571903727584, 0.853717001471508, 0.9576286551141548, 0.957248632507319, 0.43246126402002427, 0.43246126402002427, 0.956001994023799, 0.7684123535698768, 0.9562681497903639, 0.9276044101968445, 0.9311421209349487, 0.6964531228630361, 0.0590214510900878, 0.2360858043603512, 0.9562000417940304, 0.21645541184282316, 0.21645541184282316, 0.5411385296070579, 0.8500192103004276, 0.6404292942261932, 0.7684105692413089, 0.6347563233766454, 0.13068512540107405, 0.24270094717342325, 0.14220204843006898, 0.7110102421503449, 0.14220204843006898, 0.7864440121933103, 0.6404292977703858, 0.9658525672370681, 0.09103778488525766, 0.5462267093115459, 0.1820755697705153, 0.09103778488525766, 0.957628656399573, 0.19454934557685513, 0.5447381676151943, 0.11672960734611307, 0.1556394764614841, 0.6534895363712583, 0.26733662851551476, 0.05940813967011439, 0.5575836605034015, 0.3584466388950438, 0.1194822129650146, 0.9560058578381169, 0.9576286510263395], \"Term\": [\"accordance\", \"accordingly\", \"act\", \"act\", \"act\", \"actions\", \"addendum\", \"additional\", \"administrative\", \"agencies\", \"agreement\", \"annex\", \"annex\", \"annex\", \"appendix\", \"application\", \"application\", \"applications\", \"apply\", \"apply\", \"applying\", \"applying\", \"approved\", \"area\", \"arrangement\", \"arrangements\", \"arrangements\", \"arrangements\", \"assign\", \"assigned\", \"assigning\", \"asylum\", \"authorised\", \"based\", \"based\", \"based\", \"behaviour\", \"british\", \"british\", \"categories\", \"categories\", \"certificate\", \"certificates\", \"changes\", \"changes\", \"charge\", \"charge\", \"charge\", \"charge\", \"check\", \"check\", \"check\", \"checks\", \"checks\", \"circumstances\", \"circumstances\", \"citizen\", \"classification\", \"code\", \"codes\", \"commissioner\", \"company\", \"company\", \"compliance\", \"compliance\", \"consent\", \"contact\", \"contents\", \"contractual\", \"cos\", \"cos\", \"creative\", \"creative\", \"criteria\", \"date\", \"date\", \"date\", \"day\", \"days\", \"deciding\", \"designated\", \"difference\", \"dismissed\", \"duties\", \"duties\", \"duties\", \"duties\", \"duties\", \"economic\", \"employees\", \"employees\", \"employer\", \"employer\", \"employer\", \"employing\", \"employment\", \"employment\", \"employment\", \"ensure\", \"enter\", \"entertainment\", \"entry\", \"entry\", \"european\", \"exchange\", \"executives\", \"existing\", \"fail\", \"fail\", \"fail\", \"fee\", \"fee\", \"fee\", \"general\", \"general\", \"general\", \"genuine\", \"genuine\", \"glossary\", \"gov\", \"granted\", \"granted\", \"granted\", \"guidance\", \"happens\", \"happens\", \"happens\", \"highest\", \"home\", \"home\", \"ict\", \"illegal\", \"illegally\", \"immigration\", \"immigration\", \"immigration\", \"immigration\", \"information\", \"information\", \"information\", \"intend\", \"international\", \"international\", \"international\", \"international\", \"intra\", \"islands\", \"islands\", \"islands\", \"january\", \"job\", \"job\", \"jobs\", \"key\", \"labour\", \"law\", \"lawfully\", \"leave\", \"leave\", \"legal\", \"legal\", \"level\", \"level\", \"level\", \"level\", \"licence\", \"licensed\", \"listed\", \"listed\", \"long\", \"make\", \"make\", \"make\", \"market\", \"meaning\", \"member\", \"mergers\", \"midwives\", \"migrant\", \"migrant\", \"migrant\", \"migrant\", \"migrants\", \"migrants\", \"migrants\", \"mobility\", \"months\", \"months\", \"months\", \"nationality\", \"nationals\", \"need\", \"need\", \"new\", \"new\", \"new\", \"non\", \"non\", \"notified\", \"nurses\", \"occupation\", \"occupation\", \"occupational\", \"offence\", \"offences\", \"office\", \"operating\", \"organisation\", \"organisation\", \"outside\", \"overseas\", \"overseas\", \"overseas\", \"ownership\", \"page\", \"page\", \"paid\", \"paid\", \"paid\", \"paid\", \"partial\", \"pay\", \"pay\", \"penalties\", \"period\", \"period\", \"period\", \"person\", \"personnel\", \"phrase\", \"points\", \"practice\", \"professionals\", \"queries\", \"rates\", \"refer\", \"refund\", \"refunds\", \"refuse\", \"refused\", \"remain\", \"renew\", \"renumbered\", \"representative\", \"representative\", \"representative\", \"resident\", \"responsibility\", \"restricted\", \"review\", \"revoked\", \"right\", \"right\", \"route\", \"routes\", \"rules\", \"salary\", \"scheme\", \"scheme\", \"section\", \"section\", \"section\", \"service\", \"service\", \"service\", \"services\", \"services\", \"settled\", \"settled\", \"short\", \"size\", \"skill\", \"skill\", \"skilled\", \"skills\", \"skills\", \"sms\", \"society\", \"sponsor\", \"sponsor\", \"sponsor\", \"sponsoring\", \"sponsoring\", \"sponsors\", \"sponsorship\", \"sponsorship\", \"sporting\", \"staff\", \"standard\", \"standard\", \"stated\", \"subcategory\", \"suppliers\", \"sure\", \"sure\", \"suspended\", \"takeovers\", \"temporary\", \"term\", \"test\", \"tier\", \"tier\", \"tier\", \"tiers\", \"time\", \"time\", \"time\", \"transfer\", \"transitional\", \"type\", \"uk\", \"uk\", \"uk\", \"unless\", \"unless\", \"unless\", \"user\", \"verified\", \"version\", \"visa\", \"visa\", \"visa\", \"visa\", \"wider\", \"work\", \"work\", \"work\", \"work\", \"worker\", \"worker\", \"worker\", \"workers\", \"workers\", \"workers\", \"year\", \"youth\"]}, \"R\": 30, \"lambda.step\": 0.01, \"plot.opts\": {\"xlab\": \"PC1\", \"ylab\": \"PC2\"}, \"topic.order\": [2, 1, 3, 4, 5]};\n",
       "\n",
       "function LDAvis_load_lib(url, callback){\n",
       "  var s = document.createElement('script');\n",
       "  s.src = url;\n",
       "  s.async = true;\n",
       "  s.onreadystatechange = s.onload = callback;\n",
       "  s.onerror = function(){console.warn(\"failed to load library \" + url);};\n",
       "  document.getElementsByTagName(\"head\")[0].appendChild(s);\n",
       "}\n",
       "\n",
       "if(typeof(LDAvis) !== \"undefined\"){\n",
       "   // already loaded: just create the visualization\n",
       "   !function(LDAvis){\n",
       "       new LDAvis(\"#\" + \"ldavis_el404426853167839444153569522\", ldavis_el404426853167839444153569522_data);\n",
       "   }(LDAvis);\n",
       "}else if(typeof define === \"function\" && define.amd){\n",
       "   // require.js is available: use it to load d3/LDAvis\n",
       "   require.config({paths: {d3: \"https://cdnjs.cloudflare.com/ajax/libs/d3/3.5.5/d3.min\"}});\n",
       "   require([\"d3\"], function(d3){\n",
       "      window.d3 = d3;\n",
       "      LDAvis_load_lib(\"https://cdn.rawgit.com/bmabey/pyLDAvis/files/ldavis.v1.0.0.js\", function(){\n",
       "        new LDAvis(\"#\" + \"ldavis_el404426853167839444153569522\", ldavis_el404426853167839444153569522_data);\n",
       "      });\n",
       "    });\n",
       "}else{\n",
       "    // require.js not available: dynamically load d3 & LDAvis\n",
       "    LDAvis_load_lib(\"https://cdnjs.cloudflare.com/ajax/libs/d3/3.5.5/d3.min.js\", function(){\n",
       "         LDAvis_load_lib(\"https://cdn.rawgit.com/bmabey/pyLDAvis/files/ldavis.v1.0.0.js\", function(){\n",
       "                 new LDAvis(\"#\" + \"ldavis_el404426853167839444153569522\", ldavis_el404426853167839444153569522_data);\n",
       "            })\n",
       "         });\n",
       "}\n",
       "</script>"
      ],
      "text/plain": [
       "<IPython.core.display.HTML object>"
      ]
     },
     "execution_count": 10,
     "metadata": {},
     "output_type": "execute_result"
    }
   ],
   "source": [
    "pyLDAvis.display(zit)"
   ]
  },
  {
   "cell_type": "markdown",
   "metadata": {},
   "source": [
    "# Text summarization with BART"
   ]
  },
  {
   "cell_type": "code",
   "execution_count": 19,
   "metadata": {},
   "outputs": [],
   "source": [
    "from transformers import BartTokenizer, BartForConditionalGeneration, BartConfig"
   ]
  },
  {
   "cell_type": "code",
   "execution_count": 20,
   "metadata": {},
   "outputs": [],
   "source": [
    "model = BartForConditionalGeneration.from_pretrained('facebook/bart-large-cnn')\n",
    "tokenizer = BartTokenizer.from_pretrained('facebook/bart-large-cnn', max_length=1024)"
   ]
  },
  {
   "cell_type": "code",
   "execution_count": 21,
   "metadata": {},
   "outputs": [],
   "source": [
    "source_file = \"example_text_from_Tier_5_guide.txt\""
   ]
  },
  {
   "cell_type": "code",
   "execution_count": 22,
   "metadata": {},
   "outputs": [],
   "source": [
    "with open(source_file, \"r\", encoding='utf-8', errors='ignore') as file:\n",
    "    TEXT_TO_SUMMARIZE = file.readlines()[0]"
   ]
  },
  {
   "cell_type": "code",
   "execution_count": 23,
   "metadata": {},
   "outputs": [
    {
     "name": "stdout",
     "output_type": "stream",
     "text": [
      "You must demonstrate that you have the required funds in the form of cash funds in the bank (this includes savings accounts and current accounts even when notice must be given), or as a loan available to you. We will not take into account other assets (for example shares, bonds, overdrafts, credit cards or pension funds) or money you have earned while you were in breach of the United Kingdom’s immigration laws as evidence of maintenance funds. You can find details of the maintenance requirement in Appendix C of the Immigration Rules.\n"
     ]
    }
   ],
   "source": [
    "print(TEXT_TO_SUMMARIZE)"
   ]
  },
  {
   "cell_type": "code",
   "execution_count": 25,
   "metadata": {},
   "outputs": [
    {
     "name": "stdout",
     "output_type": "stream",
     "text": [
      "['You must demonstrate that you have the required funds in the bank. This includes savings accounts and current accounts even when notice must be given. We will not take into account other assets (for example shares, bonds, overdrafts, credit cards or pension funds) You can find details of the maintenance requirement in Appendix C of the Immigration Rules.']\n"
     ]
    }
   ],
   "source": [
    "inputs = tokenizer([TEXT_TO_SUMMARIZE], return_tensors='pt')\n",
    "\n",
    "# Generate Summary\n",
    "summary_ids = model.generate(inputs['input_ids'], num_beams=4)\n",
    "print([tokenizer.decode(g, skip_special_tokens=True, clean_up_tokenization_spaces=False) for g in summary_ids])"
   ]
  },
  {
   "cell_type": "code",
   "execution_count": null,
   "metadata": {},
   "outputs": [],
   "source": []
  }
 ],
 "metadata": {
  "kernelspec": {
   "display_name": "TensorFlow-GPU-1.13",
   "language": "python",
   "name": "tf-gpu"
  },
  "language_info": {
   "codemirror_mode": {
    "name": "ipython",
    "version": 3
   },
   "file_extension": ".py",
   "mimetype": "text/x-python",
   "name": "python",
   "nbconvert_exporter": "python",
   "pygments_lexer": "ipython3",
   "version": "3.7.7"
  }
 },
 "nbformat": 4,
 "nbformat_minor": 2
}
